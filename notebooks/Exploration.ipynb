{
 "cells": [
  {
   "cell_type": "markdown",
   "metadata": {},
   "source": [
    "# Courses recommendation system\n",
    "# II. Build similarity structures\n",
    "\n",
    "This is the second part of the Udacity Data Science Nanodegree capstone project, which consists in the creation of a course recommendation system.\n",
    "\n",
    "<span style=\"color:red\">Once the data is cleaned, the next step is to perform an in-depth analysis. This will facilitate the construction of new structures (if necessary), models and user-item matrices, which will allow me to make recommendations as accurately as possible.</span>\n",
    "\n",
    "* A course content symilarity matrix to be able to measure the similarity between courses based on their description and title\n",
    "* A user-item matrix built from leads\n",
    "* A user-item matrix built from reviews\n",
    "\n",
    "The information contained in these matrices will be stored in a table format so that it can be consulted quickly in the web application.\n",
    "\n",
    "## Import libraries"
   ]
  },
  {
   "cell_type": "code",
   "execution_count": 1,
   "metadata": {},
   "outputs": [
    {
     "name": "stderr",
     "output_type": "stream",
     "text": [
      "[nltk_data] Downloading package punkt to\n",
      "[nltk_data]     /Users/ciscodelgado/nltk_data...\n",
      "[nltk_data]   Package punkt is already up-to-date!\n",
      "[nltk_data] Downloading package stopwords to\n",
      "[nltk_data]     /Users/ciscodelgado/nltk_data...\n",
      "[nltk_data]   Package stopwords is already up-to-date!\n",
      "[nltk_data] Downloading package averaged_perceptron_tagger to\n",
      "[nltk_data]     /Users/ciscodelgado/nltk_data...\n",
      "[nltk_data]   Package averaged_perceptron_tagger is already up-to-\n",
      "[nltk_data]       date!\n"
     ]
    }
   ],
   "source": [
    "import numpy as np\n",
    "import pandas as pd\n",
    "from sklearn.pipeline import Pipeline\n",
    "from sqlalchemy import types as sql_types\n",
    "from txtools.normalizer import clean_text\n",
    "from db_utils import connection "
   ]
  },
  {
   "cell_type": "markdown",
   "metadata": {},
   "source": [
    "## Create a course content similarity matrix\n",
    "\n",
    "I will create a similarity matrix for courses content. I will use the title and the description to compare the courses with each other. In the matrix, columns and rows indexes will be the course id and the intersection will be the similarity between them. The range of values will be between 0 and 1, where 0 means totally different and 1 means that the content is identical."
   ]
  },
  {
   "cell_type": "code",
   "execution_count": 94,
   "metadata": {},
   "outputs": [],
   "source": [
    "def create_similarity_matrix(df, sample_len=None):\n",
    "    \"\"\" \n",
    "    Creates a course similarity matrix\n",
    "    \n",
    "    :param df DataFrame: courses dataframe. Must include title and description columns\n",
    "                          \n",
    "    :return np.ndarray: An m x m matrix representing the course similarities, where m is the number of courses.\n",
    "        Example of a similarity matrix:\n",
    "        \n",
    "         [[0.99999994 0.         0.13075474 0.02665992]\n",
    "          [0.         1.         0.00812627 0.00331377]\n",
    "          [0.13075474 0.00812627 1.         0.0069054 ]\n",
    "          [0.02665992 0.00331377 0.0069054  1.        ]]\n",
    "          \n",
    "        rows and columns represents a course, the elements in the matrix, represent the similarity between them.\n",
    "    \"\"\"\n",
    "    if not sample_len:\n",
    "        course_content = df['title'].str.cat(df['description'], sep=' ').values\n",
    "    else:\n",
    "        course_content = df['title'].str.cat(df['description'], sep=' ').head(sample_len).values\n",
    "    \n",
    "    model = Pipeline([\n",
    "        ('norm', TextNormalizer()),\n",
    "        ('sim', Similarity())\n",
    "    ])\n",
    "    \n",
    "    return model.fit_transform(course_content)\n",
    "    \n",
    "    \n",
    "def create_similarity_df(df, min_similarity=0.5, sample_len=None):\n",
    "    \"\"\"\n",
    "    Creates a course similarity DataFrame from a similarity matrix\n",
    "    \n",
    "    :param df DataFrame: Courses dataframe. Must include title and description columns\n",
    "    :param min_similarity float: Minimum similarity to be included in DataFrame\n",
    "    :param sample_len int: Maximum number of courses that will be included in the matrix\n",
    "    \n",
    "    :return DataFrame: a dataframe with following columns:\n",
    "        a_course str: course id\n",
    "        another_course str: course id\n",
    "        similarity float: similarity between courses\n",
    "    \"\"\"\n",
    "    sim_list = []\n",
    "    sim_matrix = create_similarity_matrix(df, sample_len=sample_len)\n",
    "    \n",
    "    for idx, similarities in enumerate(sim_matrix):\n",
    "        a_course_id = df.iloc[idx]['course_id']\n",
    "        \n",
    "        for idx_sims, sim_score in enumerate(similarities):\n",
    "            if idx == idx_sims:\n",
    "                continue\n",
    "\n",
    "            if sim_score < min_similarity:\n",
    "                continue\n",
    "\n",
    "            another_course_id = df.iloc[idx_sims]['course_id']\n",
    "\n",
    "            sim_list.append({'a_course_id': a_course_id, \n",
    "                             'another_course_id': another_course_id, \n",
    "                             'similarity': sim_score})\n",
    "\n",
    "    return pd.DataFrame(sim_list)"
   ]
  },
  {
   "cell_type": "markdown",
   "metadata": {},
   "source": [
    "I will create a similarity matrix with a sample of 50 courses"
   ]
  },
  {
   "cell_type": "code",
   "execution_count": 96,
   "metadata": {},
   "outputs": [
    {
     "data": {
      "image/png": "[encoded data removed]",
      "text/plain": [
       "<Figure size 576x432 with 2 Axes>"
      ]
     },
     "metadata": {
      "needs_background": "light"
     },
     "output_type": "display_data"
    }
   ],
   "source": [
    "sims = create_similarity_matrix(courses_df, sample_len=50)\n",
    "\n",
    "fig, ax = plt.subplots(figsize=(8, 6))\n",
    "\n",
    "cax = ax.matshow(sims, interpolation='nearest')\n",
    "fig.colorbar(cax)\n",
    "ax.set_title('Courses similarity')\n",
    "\n",
    "plt.show();"
   ]
  },
  {
   "cell_type": "markdown",
   "metadata": {},
   "source": [
    "The similarity dataframe will look like this:"
   ]
  },
  {
   "cell_type": "code",
   "execution_count": 97,
   "metadata": {},
   "outputs": [
    {
     "data": {
      "text/html": [
       "<div>\n",
       "<style scoped>\n",
       "    .dataframe tbody tr th:only-of-type {\n",
       "        vertical-align: middle;\n",
       "    }\n",
       "\n",
       "    .dataframe tbody tr th {\n",
       "        vertical-align: top;\n",
       "    }\n",
       "\n",
       "    .dataframe thead th {\n",
       "        text-align: right;\n",
       "    }\n",
       "</style>\n",
       "<table border=\"1\" class=\"dataframe\">\n",
       "  <thead>\n",
       "    <tr style=\"text-align: right;\">\n",
       "      <th></th>\n",
       "      <th>a_course</th>\n",
       "      <th>another_course</th>\n",
       "      <th>similarity</th>\n",
       "    </tr>\n",
       "  </thead>\n",
       "  <tbody>\n",
       "    <tr>\n",
       "      <th>0</th>\n",
       "      <td>170628400</td>\n",
       "      <td>170628401</td>\n",
       "      <td>0.658486</td>\n",
       "    </tr>\n",
       "    <tr>\n",
       "      <th>1</th>\n",
       "      <td>170040323</td>\n",
       "      <td>170040270</td>\n",
       "      <td>0.528053</td>\n",
       "    </tr>\n",
       "    <tr>\n",
       "      <th>2</th>\n",
       "      <td>170633067</td>\n",
       "      <td>170633063</td>\n",
       "      <td>0.882820</td>\n",
       "    </tr>\n",
       "    <tr>\n",
       "      <th>3</th>\n",
       "      <td>170633067</td>\n",
       "      <td>170633065</td>\n",
       "      <td>0.837449</td>\n",
       "    </tr>\n",
       "    <tr>\n",
       "      <th>4</th>\n",
       "      <td>170633067</td>\n",
       "      <td>170633072</td>\n",
       "      <td>0.871613</td>\n",
       "    </tr>\n",
       "  </tbody>\n",
       "</table>\n",
       "</div>"
      ],
      "text/plain": [
       "    a_course another_course  similarity\n",
       "0  170628400      170628401    0.658486\n",
       "1  170040323      170040270    0.528053\n",
       "2  170633067      170633063    0.882820\n",
       "3  170633067      170633065    0.837449\n",
       "4  170633067      170633072    0.871613"
      ]
     },
     "execution_count": 97,
     "metadata": {},
     "output_type": "execute_result"
    }
   ],
   "source": [
    "sims_df_s50 = create_similarity_df(courses_df, sample_len=50)\n",
    "sims_df_s50.head()"
   ]
  },
  {
   "cell_type": "markdown",
   "metadata": {},
   "source": [
    "And now, I will create the similarities dataframe with the entire courses dataframe. <span style=\"color:red\">**This process took approximately 8 hours on a MacBook pro (2.3 GHz Intel Core i5, 16 GB RAM)**</span>"
   ]
  },
  {
   "cell_type": "code",
   "execution_count": null,
   "metadata": {},
   "outputs": [],
   "source": [
    "%%time\n",
    "sims_df = create_similarity_df(courses_df)"
   ]
  },
  {
   "cell_type": "code",
   "execution_count": 31,
   "metadata": {},
   "outputs": [
    {
     "data": {
      "text/html": [
       "<div>\n",
       "<style scoped>\n",
       "    .dataframe tbody tr th:only-of-type {\n",
       "        vertical-align: middle;\n",
       "    }\n",
       "\n",
       "    .dataframe tbody tr th {\n",
       "        vertical-align: top;\n",
       "    }\n",
       "\n",
       "    .dataframe thead th {\n",
       "        text-align: right;\n",
       "    }\n",
       "</style>\n",
       "<table border=\"1\" class=\"dataframe\">\n",
       "  <thead>\n",
       "    <tr style=\"text-align: right;\">\n",
       "      <th></th>\n",
       "      <th>a_course</th>\n",
       "      <th>another_course</th>\n",
       "      <th>similarity</th>\n",
       "    </tr>\n",
       "  </thead>\n",
       "  <tbody>\n",
       "    <tr>\n",
       "      <th>0</th>\n",
       "      <td>170648149</td>\n",
       "      <td>170648146</td>\n",
       "      <td>0.996332</td>\n",
       "    </tr>\n",
       "    <tr>\n",
       "      <th>1</th>\n",
       "      <td>170648149</td>\n",
       "      <td>170652710</td>\n",
       "      <td>0.505740</td>\n",
       "    </tr>\n",
       "    <tr>\n",
       "      <th>2</th>\n",
       "      <td>170367782</td>\n",
       "      <td>170642187</td>\n",
       "      <td>0.539035</td>\n",
       "    </tr>\n",
       "    <tr>\n",
       "      <th>3</th>\n",
       "      <td>170367782</td>\n",
       "      <td>170624005</td>\n",
       "      <td>0.557652</td>\n",
       "    </tr>\n",
       "    <tr>\n",
       "      <th>4</th>\n",
       "      <td>170601656</td>\n",
       "      <td>170617492</td>\n",
       "      <td>0.500261</td>\n",
       "    </tr>\n",
       "  </tbody>\n",
       "</table>\n",
       "</div>"
      ],
      "text/plain": [
       "    a_course  another_course  similarity\n",
       "0  170648149       170648146    0.996332\n",
       "1  170648149       170652710    0.505740\n",
       "2  170367782       170642187    0.539035\n",
       "3  170367782       170624005    0.557652\n",
       "4  170601656       170617492    0.500261"
      ]
     },
     "execution_count": 31,
     "metadata": {},
     "output_type": "execute_result"
    }
   ],
   "source": [
    "sims_df.head()"
   ]
  },
  {
   "cell_type": "code",
   "execution_count": null,
   "metadata": {},
   "outputs": [],
   "source": [
    "sims_df.to_csv('../data/courses_similarities.csv', index=False)"
   ]
  },
  {
   "cell_type": "code",
   "execution_count": 610,
   "metadata": {},
   "outputs": [],
   "source": [
    "sims_df = pd.read_csv('../data/courses_similarities.csv')"
   ]
  },
  {
   "cell_type": "code",
   "execution_count": 614,
   "metadata": {},
   "outputs": [
    {
     "name": "stderr",
     "output_type": "stream",
     "text": [
      "/Users/ciscodelgado/anaconda3/lib/python3.7/site-packages/pymysql/cursors.py:170: Warning: (1051, \"Unknown table 'heroku_8149febc614deb5.courses_similarities'\")\n",
      "  result = self._query(query)\n"
     ]
    }
   ],
   "source": [
    "conn = connection()\n",
    "\n",
    "sql_drop = 'DROP TABLE IF EXISTS `courses_similarities`'\n",
    "conn.execute(sql_drop)\n",
    "\n",
    "sql_create = \"\"\"CREATE TABLE `courses_similarities` (\n",
    "  `a_course_id` varchar(9) NOT NULL,\n",
    "  `another_course_id` varchar(9) NOT NULL,\n",
    "  `similarity` double NOT NULL,\n",
    "  PRIMARY KEY (`a_course_id`, `another_course_id`)\n",
    ") ENGINE=InnoDB DEFAULT CHARSET=utf8\n",
    "\"\"\"\n",
    "conn.execute(sql_create)\n",
    "\n",
    "# Save course similarities to database\n",
    "sims_df.to_sql('courses_similarities', con=conn, if_exists='append', index=False)"
   ]
  },
  {
   "cell_type": "markdown",
   "metadata": {},
   "source": [
    "## Create the user item matrices"
   ]
  },
  {
   "cell_type": "markdown",
   "metadata": {},
   "source": [
    "<span style=\"color:red\">Docstring to be completed</span>"
   ]
  },
  {
   "cell_type": "code",
   "execution_count": 288,
   "metadata": {},
   "outputs": [],
   "source": [
    "def create_user_item_matrix(df, group_columns=['user_id', 'course_id'], select_column='rating', allow_nulls=True):\n",
    "    \"\"\"\n",
    "    Creates a user-item matrix DataFrame. Depending on the dataframe supplied it creates a\n",
    "    user-item matrix from reviews of from leads\n",
    "    \n",
    "    :param group_columns list: Columns by which the data will be grouped\n",
    "    :param select_column str: \n",
    "    :param allow_nulls bool: \n",
    "    \n",
    "    :return DataFrame: a user-item matrix dataframe\n",
    "    \"\"\"\n",
    "    columns = [column for column in group_columns]\n",
    "    if select_column not in group_columns:\n",
    "        columns.extend([select_column])\n",
    "    \n",
    "    user_items = df[columns]\n",
    "    \n",
    "    user_by_course = user_items.groupby(group_columns)[select_column].max().unstack()\n",
    "    \n",
    "    if not allow_nulls:\n",
    "        user_by_course = user_by_course.where(user_by_course.isnull(), other=1)\n",
    "        user_by_course = user_by_course.fillna(0)\n",
    "    \n",
    "    return user_by_course"
   ]
  },
  {
   "cell_type": "code",
   "execution_count": 289,
   "metadata": {},
   "outputs": [],
   "source": [
    "ratings_user_item_matrix = create_user_item_matrix(reviews_df)\n",
    "leads_user_item_matrix = create_user_item_matrix(leads_df, select_column='course_id', allow_nulls=False)"
   ]
  },
  {
   "cell_type": "markdown",
   "metadata": {},
   "source": [
    "Save the matrices to csv files"
   ]
  },
  {
   "cell_type": "code",
   "execution_count": 290,
   "metadata": {},
   "outputs": [],
   "source": [
    "leads_user_item_matrix.to_csv('../data/leads_matrix.csv')\n",
    "ratings_user_item_matrix.to_csv('../data/ratings_matrix.csv')"
   ]
  },
  {
   "cell_type": "code",
   "execution_count": 467,
   "metadata": {},
   "outputs": [],
   "source": [
    "from scipy.sparse import csr_matrix"
   ]
  },
  {
   "cell_type": "code",
   "execution_count": 542,
   "metadata": {},
   "outputs": [
    {
     "data": {
      "text/plain": [
       "<26974x10984 sparse matrix of type '<class 'numpy.int8'>'\n",
       "\twith 38602 stored elements in Compressed Sparse Row format>"
      ]
     },
     "execution_count": 542,
     "metadata": {},
     "output_type": "execute_result"
    }
   ],
   "source": [
    "occurrences = csr_matrix(leads_user_item_matrix, dtype='int8')\n",
    "occurrences"
   ]
  },
  {
   "cell_type": "code",
   "execution_count": 543,
   "metadata": {},
   "outputs": [],
   "source": [
    "from sklearn.preprocessing import normalize\n",
    "\n",
    "normalized = normalize(occurrences, axis=0)\n",
    "user_similarities = normalized.transpose().dot(normalized)\n",
    "user_similarities.setdiag(0)"
   ]
  },
  {
   "cell_type": "code",
   "execution_count": 517,
   "metadata": {},
   "outputs": [],
   "source": [
    "user_similarities = occurrences.transpose().dot(occurrences)\n",
    "user_similarities.setdiag(0)"
   ]
  },
  {
   "cell_type": "code",
   "execution_count": 545,
   "metadata": {},
   "outputs": [
    {
     "data": {
      "text/plain": [
       "<10984x10984 sparse matrix of type '<class 'numpy.float64'>'\n",
       "\twith 54076 stored elements in COOrdinate format>"
      ]
     },
     "execution_count": 545,
     "metadata": {},
     "output_type": "execute_result"
    }
   ],
   "source": [
    "coo = user_similarities.tocoo()\n",
    "coo"
   ]
  },
  {
   "cell_type": "code",
   "execution_count": 604,
   "metadata": {},
   "outputs": [],
   "source": [
    "user_similarities_df = pd.DataFrame([[leads_user_item_matrix.index[a_user], leads_user_item_matrix.index[another_user], similarity] \n",
    "                                    for a_user, another_user, similarity in zip(coo.row, coo.col, coo.data)\n",
    "                                    if similarity >= 0.5])\n",
    "user_similarities_df.columns = ['a_user_id', 'another_user_id', 'similarity']"
   ]
  },
  {
   "cell_type": "code",
   "execution_count": 608,
   "metadata": {},
   "outputs": [],
   "source": [
    "conn = connection()\n",
    "\n",
    "sql_drop = 'DROP TABLE IF EXISTS `users_similarities`'\n",
    "conn.execute(sql_drop)\n",
    "\n",
    "sql_create = \"\"\"CREATE TABLE `users_similarities` (\n",
    "  `a_user_id` char(36) NOT NULL,\n",
    "  `another_user_id` char(36) NOT NULL,\n",
    "  `similarity` double NOT NULL,\n",
    "  PRIMARY KEY (`a_user_id`, `another_user_id`)\n",
    ") ENGINE=InnoDB DEFAULT CHARSET=utf8\n",
    "\"\"\"\n",
    "conn.execute(sql_create)\n",
    "\n",
    "# Save user similarities to database\n",
    "user_similarities_df.to_sql('users_similarities', con=conn, if_exists='append', index=False)"
   ]
  },
  {
   "cell_type": "markdown",
   "metadata": {},
   "source": [
    "## Create user interactions dictionaries"
   ]
  },
  {
   "cell_type": "markdown",
   "metadata": {},
   "source": [
    "<span style=\"color:red\">\n",
    "I will create two dictionaries with users interactions; a leads generated dictionary in which the keys will be the user ids and the values will be lists of courses that lead has generated.</span>"
   ]
  },
  {
   "cell_type": "code",
   "execution_count": 291,
   "metadata": {},
   "outputs": [],
   "source": [
    "def create_user_leads_generated_dict():\n",
    "    \"\"\"\n",
    "    Creates a dictionary with users as keys and lists of courses in which each user has generated lead\n",
    "    \n",
    "    :return dict: User-courses dictionary\n",
    "    \"\"\"\n",
    "    leads_generated = dict()\n",
    "    \n",
    "    for user_id, _ in leads_user_item_matrix.iterrows():\n",
    "        user_courses = leads_user_item_matrix.loc[user_id]\n",
    "        leads_generated[user_id] = user_courses[leads_user_item_matrix.loc[user_id] == 1].index.values\n",
    "        \n",
    "    return leads_generated\n",
    "\n",
    "\n",
    "def create_user_ratings_dict(min_num_rated=2):\n",
    "    \"\"\"\n",
    "    Creates a dictionary with users as keys and lists of courses each user has rated\n",
    "    \n",
    "    :param int: minimum number of courses rated by user to be included in the dictionary\n",
    "    \n",
    "    :return dict: User-courses dictionary\n",
    "    \"\"\"\n",
    "    ratings = dict()\n",
    "    \n",
    "    for user_id, _ in ratings_user_item_matrix.iterrows():\n",
    "        user_courses = ratings_user_item_matrix.loc[user_id]\n",
    "        user_ratings = user_courses[user_courses.notnull()].index.values\n",
    "        if len(user_ratings) < min_num_rated:\n",
    "            continue\n",
    "            \n",
    "        ratings[user_id] = user_ratings\n",
    "        \n",
    "    return ratings"
   ]
  },
  {
   "cell_type": "markdown",
   "metadata": {},
   "source": [
    "Save the dictionaries to pickle files"
   ]
  },
  {
   "cell_type": "code",
   "execution_count": 292,
   "metadata": {},
   "outputs": [],
   "source": [
    "rated_courses = create_user_ratings_dict()\n",
    "with open('../data/rated_courses.pickle', 'wb') as handle:\n",
    "    pickle.dump(rated_courses, handle)\n",
    "\n",
    "generated_leads = create_user_leads_generated_dict()\n",
    "with open('../data/generated_leads.pickle', 'wb') as handle:\n",
    "    pickle.dump(generated_leads, handle)"
   ]
  },
  {
   "cell_type": "markdown",
   "metadata": {},
   "source": [
    "## Create a users distance score table"
   ]
  },
  {
   "cell_type": "code",
   "execution_count": 293,
   "metadata": {},
   "outputs": [],
   "source": [
    "def compute_euclidean_distance(a_user_id, another_user_id, user_item_matrix):\n",
    "    \"\"\"\n",
    "    Computes the euclidean distance between users taking into account the rated courses\n",
    "    \n",
    "    :param a_user_id str: Id of a user\n",
    "    :param another_user_id str: Id of another user\n",
    "    :param user_item_matrix DataFrame: The reviews user-item matrix\n",
    "    \n",
    "    :return float: The eculidean distance between the users\n",
    "    \"\"\"\n",
    "    a_user_courses = rated_courses[a_user_id]\n",
    "    another_user_courses = rated_courses[another_user_id]\n",
    "    \n",
    "    similar_courses = np.intersect1d(a_user_courses,\n",
    "                                     another_user_courses, \n",
    "                                     assume_unique=True)\n",
    "    \n",
    "    # there's no courses in common\n",
    "    if len(similar_courses) == 0:\n",
    "        return np.nan\n",
    "    \n",
    "    df = user_item_matrix.loc[(a_user_id, another_user_id), similar_courses]\n",
    "    \n",
    "    return np.linalg.norm(df.loc[a_user_id] - df.loc[another_user_id])\n",
    "\n",
    "\n",
    "def create_distances_dataframe(user_item_matrix):\n",
    "    \"\"\"\n",
    "    Creates a dataframe containing the euclidean distances between users\n",
    "    \n",
    "    :param user_item_matrix DataFrame: The ratings user-item matrix\n",
    "    \n",
    "    :return DataFrame: DataFrame containing the eculidean distances between the users\n",
    "    \"\"\"\n",
    "    users = user_item_matrix.index.values\n",
    "    distances = []\n",
    "\n",
    "    for a_user_id in users:\n",
    "        for another_user_id in users:\n",
    "            if a_user_id == another_user_id:\n",
    "                continue\n",
    "            try: \n",
    "                distance = compute_euclidean_distance(a_user_id,\n",
    "                                                      another_user_id,\n",
    "                                                      ratings_user_item_matrix)\n",
    "            except KeyError:\n",
    "                continue\n",
    "\n",
    "            if np.isnan(distance):\n",
    "                continue\n",
    "\n",
    "            distances.append({'a_user': a_user_id,\n",
    "                              'another_user': another_user_id,\n",
    "                              'eucl_dist': distance})\n",
    "\n",
    "    return pd.DataFrame.from_dict(distances)"
   ]
  },
  {
   "cell_type": "code",
   "execution_count": 294,
   "metadata": {},
   "outputs": [
    {
     "name": "stdout",
     "output_type": "stream",
     "text": [
      "<class 'pandas.core.frame.DataFrame'>\n",
      "RangeIndex: 22 entries, 0 to 21\n",
      "Data columns (total 3 columns):\n",
      "a_user          22 non-null object\n",
      "another_user    22 non-null object\n",
      "eucl_dist       22 non-null float64\n",
      "dtypes: float64(1), object(2)\n",
      "memory usage: 608.0+ bytes\n"
     ]
    }
   ],
   "source": [
    "distances_df = create_distances_dataframe(ratings_user_item_matrix)\n",
    "\n",
    "# Save the users distances to a pickle file\n",
    "distances_df.to_pickle('../data/users_distances.pickle')\n",
    "distances_df.info()"
   ]
  },
  {
   "cell_type": "code",
   "execution_count": 295,
   "metadata": {},
   "outputs": [
    {
     "data": {
      "text/plain": [
       "0.000000    14\n",
       "4.000000     4\n",
       "2.828427     2\n",
       "5.656854     2\n",
       "Name: eucl_dist, dtype: int64"
      ]
     },
     "execution_count": 295,
     "metadata": {},
     "output_type": "execute_result"
    }
   ],
   "source": [
    "distances_df['eucl_dist'].value_counts()"
   ]
  },
  {
   "cell_type": "code",
   "execution_count": 296,
   "metadata": {},
   "outputs": [
    {
     "data": {
      "text/plain": [
       "(22, 3)"
      ]
     },
     "execution_count": 296,
     "metadata": {},
     "output_type": "execute_result"
    }
   ],
   "source": [
    "distances_df.shape"
   ]
  },
  {
   "cell_type": "code",
   "execution_count": null,
   "metadata": {},
   "outputs": [],
   "source": []
  }
 ],
 "metadata": {
  "kernelspec": {
   "display_name": "Python 3",
   "language": "python",
   "name": "python3"
  },
  "language_info": {
   "codemirror_mode": {
    "name": "ipython",
    "version": 3
   },
   "file_extension": ".py",
   "mimetype": "text/x-python",
   "name": "python",
   "nbconvert_exporter": "python",
   "pygments_lexer": "ipython3",
   "version": "3.7.3"
  },
  "latex_envs": {
   "LaTeX_envs_menu_present": true,
   "autoclose": false,
   "autocomplete": true,
   "bibliofile": "biblio.bib",
   "cite_by": "apalike",
   "current_citInitial": 1,
   "eqLabelWithNumbers": true,
   "eqNumInitial": 1,
   "hotkeys": {
    "equation": "Ctrl-E",
    "itemize": "Ctrl-I"
   },
   "labels_anchors": false,
   "latex_user_defs": false,
   "report_style_numbering": false,
   "user_envs_cfg": false
  }
 },
 "nbformat": 4,
 "nbformat_minor": 2
}
