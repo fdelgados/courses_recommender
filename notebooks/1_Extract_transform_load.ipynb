{
 "cells": [
  {
   "cell_type": "markdown",
   "metadata": {},
   "source": [
    "# Courses recommendation system\n",
    "# I. Extract, transform and load\n",
    "\n",
    "This is the first part of the Udacity Data Science Nanodegree capstone project, which consists in the creation of a course recommendation system.\n",
    "\n",
    "## Introduction\n",
    "\n",
    "[Emagister](https://www.emagister.com) is a company whose objective is to be a meeting point for students and course providers and they aim to do so by helping people find the right training. That's why the recommender system is one of the most important parts of the web. So the main motivation of this project is to improve the current recommendation system.\n",
    "\n",
    "### Data used for the project\n",
    "\n",
    "The data that will be worked on in this project are real data extracted from the [Emagister UK](https://www.emagister.co.uk) database. As an employee of Emagister, I requested authorization from the company to use the data, after consulting with our lawyers, the company permitted me. \n",
    "\n",
    "For security and legal reasons, user data is encrypted. \n",
    "\n",
    "### The recommender system\n",
    "\n",
    "The recommendations are based on the following four methods of recommendations:\n",
    "\n",
    "* Knowledge based recommendations\n",
    "* Content based filtering\n",
    "* Neighborhood based collaborative filtering\n",
    "* Model based collaborative filtering\n",
    "\n",
    "The project is divided in five parts:\n",
    "\n",
    "1. ETL pipeline\n",
    "2. Exploratory data analysis\n",
    "3. Models creation\n",
    "4. Make recommendations\n",
    "5. A demo web application\n",
    "\n",
    "#### ETL pipeline\n",
    "\n",
    "The pipeline retrieves raw data from database, then performs the data wrangling process on this data and finally loads the resulting clean data to database and files, ready to be used in the web application.\n",
    "\n",
    "I have taken the code written in this section and arranged into several classes and a script, which allows you to automate the ETL process.\n",
    "\n",
    "\n",
    "#### Exploratory data analysis\n",
    "\n",
    "Once the data is cleaned, is time to perform an exploratory data analysis. I will search for patterns and trends in data and I will create visualizations for this data as well.\n",
    "\n",
    "#### Models creation\n",
    "\n",
    "In this part, I will create models from which I will make the recommendations.\n",
    "\n",
    "#### Make recommendations\n",
    "\n",
    "After the exploratory data analysis, is time to play around with structures created in the first part and trying to make recommendations.\n",
    "\n",
    "#### Demo web\n",
    "\n",
    "The observations and models derived from the ETL phase and analysis of the project, have been put into practice in a web application that can be accessed [here](https://courses-recommender.herokuapp.com/).\n",
    "\n",
    "## Dependencies\n",
    "To run this project properly, you need the following:\n",
    "\n",
    "* Python >=3.5\n",
    "* numpy 1.18.1\n",
    "* pandas 0.24.2\n",
    "* scikit-learn 0.20.3\n",
    "* scipy 1.2.1\n",
    "* sqlalchemy 1.3.2\n",
    "* matplotlib 3.0.3\n",
    "* halo 0.0.28 (Spinner for terminal. [PyPi](https://pypi.org/project/halo/))\n",
    "* pymysql 0.9.3 (Python MySQL client library. [PyPi](https://pypi.org/project/PyMySQL/))\n",
    "\n",
    "In addition you need to install `texcptulz`, a library designed to transform the raw ingested text into a form that is ready for calculation and modelling.\n",
    "This library has been developed by me for this project. To install `texcptulz` run the following command:\n",
    "\n",
    "`pip install texcptulz`\n",
    "\n",
    "More information [here](https://pypi.org/project/texcptulz/).\n",
    "\n",
    "# Start ETL Process\n",
    "## 1 Import libraries"
   ]
  },
  {
   "cell_type": "code",
   "execution_count": 138,
   "metadata": {},
   "outputs": [],
   "source": [
    "import numpy as np\n",
    "import pandas as pd\n",
    "\n",
    "from txtools.normalizer import clean_text\n",
    "from txtools.utils import LangDetector\n",
    "from db_utils import connection\n"
   ]
  },
  {
   "cell_type": "markdown",
   "metadata": {},
   "source": [
    "## 2 Retrieving Leads\n",
    "I will get a sample of leads from Emagister database gererated in the last year. The sample table `leads` contains approximately 40000 leads."
   ]
  },
  {
   "cell_type": "code",
   "execution_count": 68,
   "metadata": {},
   "outputs": [],
   "source": [
    "leads_query = '''SELECT user_id,\n",
    "    course_id,\n",
    "    course_title,\n",
    "    course_description,\n",
    "    course_category,\n",
    "    center,\n",
    "    created_on\n",
    "FROM leads\n",
    "ORDER BY created_on DESC\n",
    "'''\n",
    "\n",
    "leads_df = pd.read_sql_query(leads_query, con=connection())"
   ]
  },
  {
   "cell_type": "code",
   "execution_count": 69,
   "metadata": {},
   "outputs": [
    {
     "data": {
      "text/html": [
       "<div>\n",
       "<style scoped>\n",
       "    .dataframe tbody tr th:only-of-type {\n",
       "        vertical-align: middle;\n",
       "    }\n",
       "\n",
       "    .dataframe tbody tr th {\n",
       "        vertical-align: top;\n",
       "    }\n",
       "\n",
       "    .dataframe thead th {\n",
       "        text-align: right;\n",
       "    }\n",
       "</style>\n",
       "<table border=\"1\" class=\"dataframe\">\n",
       "  <thead>\n",
       "    <tr style=\"text-align: right;\">\n",
       "      <th></th>\n",
       "      <th>user_id</th>\n",
       "      <th>course_id</th>\n",
       "      <th>course_title</th>\n",
       "      <th>course_description</th>\n",
       "      <th>course_category</th>\n",
       "      <th>center</th>\n",
       "      <th>created_on</th>\n",
       "    </tr>\n",
       "  </thead>\n",
       "  <tbody>\n",
       "    <tr>\n",
       "      <th>0</th>\n",
       "      <td>ed53e691ee322e24d8cc843fff68ebc6</td>\n",
       "      <td>170631539</td>\n",
       "      <td>Aviation Engineering - BEng (Hons)</td>\n",
       "      <td>The Aviation Engineering programme aims to tra...</td>\n",
       "      <td>Engineering</td>\n",
       "      <td>The Hong Kong Polytechnic University</td>\n",
       "      <td>2020-01-05 13:13:03</td>\n",
       "    </tr>\n",
       "    <tr>\n",
       "      <th>1</th>\n",
       "      <td>ed53e691ee322e24d8cc843fff68ebc6</td>\n",
       "      <td>170631539</td>\n",
       "      <td>Aviation Engineering - BEng (Hons)</td>\n",
       "      <td>The Aviation Engineering programme aims to tra...</td>\n",
       "      <td>Engineering</td>\n",
       "      <td>The Hong Kong Polytechnic University</td>\n",
       "      <td>2020-01-05 10:59:56</td>\n",
       "    </tr>\n",
       "    <tr>\n",
       "      <th>2</th>\n",
       "      <td>ed53e691ee322e24d8cc843fff68ebc6</td>\n",
       "      <td>170631539</td>\n",
       "      <td>Aviation Engineering - BEng (Hons)</td>\n",
       "      <td>The Aviation Engineering programme aims to tra...</td>\n",
       "      <td>Engineering</td>\n",
       "      <td>The Hong Kong Polytechnic University</td>\n",
       "      <td>2020-01-04 21:10:52</td>\n",
       "    </tr>\n",
       "    <tr>\n",
       "      <th>3</th>\n",
       "      <td>ed53e691ee322e24d8cc843fff68ebc6</td>\n",
       "      <td>170609773</td>\n",
       "      <td>Master of Leadership in Development Finance - ...</td>\n",
       "      <td>Boost your career with an international degree...</td>\n",
       "      <td>Accounting</td>\n",
       "      <td>Frankfurt School of Finance &amp; Management</td>\n",
       "      <td>2020-01-03 20:22:46</td>\n",
       "    </tr>\n",
       "    <tr>\n",
       "      <th>4</th>\n",
       "      <td>ed53e691ee322e24d8cc843fff68ebc6</td>\n",
       "      <td>170654780</td>\n",
       "      <td>New to Web Design</td>\n",
       "      <td>Our New to Web Design course bundle will teach...</td>\n",
       "      <td>Other Web Design</td>\n",
       "      <td>IT Online Learning</td>\n",
       "      <td>2020-01-01 20:29:13</td>\n",
       "    </tr>\n",
       "  </tbody>\n",
       "</table>\n",
       "</div>"
      ],
      "text/plain": [
       "                            user_id  course_id  \\\n",
       "0  ed53e691ee322e24d8cc843fff68ebc6  170631539   \n",
       "1  ed53e691ee322e24d8cc843fff68ebc6  170631539   \n",
       "2  ed53e691ee322e24d8cc843fff68ebc6  170631539   \n",
       "3  ed53e691ee322e24d8cc843fff68ebc6  170609773   \n",
       "4  ed53e691ee322e24d8cc843fff68ebc6  170654780   \n",
       "\n",
       "                                        course_title  \\\n",
       "0                 Aviation Engineering - BEng (Hons)   \n",
       "1                 Aviation Engineering - BEng (Hons)   \n",
       "2                 Aviation Engineering - BEng (Hons)   \n",
       "3  Master of Leadership in Development Finance - ...   \n",
       "4                                  New to Web Design   \n",
       "\n",
       "                                  course_description    course_category  \\\n",
       "0  The Aviation Engineering programme aims to tra...        Engineering   \n",
       "1  The Aviation Engineering programme aims to tra...        Engineering   \n",
       "2  The Aviation Engineering programme aims to tra...        Engineering   \n",
       "3  Boost your career with an international degree...         Accounting   \n",
       "4  Our New to Web Design course bundle will teach...  Other Web Design    \n",
       "\n",
       "                                     center          created_on  \n",
       "0      The Hong Kong Polytechnic University 2020-01-05 13:13:03  \n",
       "1      The Hong Kong Polytechnic University 2020-01-05 10:59:56  \n",
       "2      The Hong Kong Polytechnic University 2020-01-04 21:10:52  \n",
       "3  Frankfurt School of Finance & Management 2020-01-03 20:22:46  \n",
       "4                        IT Online Learning 2020-01-01 20:29:13  "
      ]
     },
     "execution_count": 69,
     "metadata": {},
     "output_type": "execute_result"
    }
   ],
   "source": [
    "leads_df.head()"
   ]
  },
  {
   "cell_type": "markdown",
   "metadata": {},
   "source": [
    "### 2.1 Search for duplicated\n",
    "Duplicated leads, in this case is when a user generates more than one lead into the same course"
   ]
  },
  {
   "cell_type": "code",
   "execution_count": 70,
   "metadata": {},
   "outputs": [
    {
     "data": {
      "text/plain": [
       "255"
      ]
     },
     "execution_count": 70,
     "metadata": {},
     "output_type": "execute_result"
    }
   ],
   "source": [
    "leads_df.duplicated(['user_id', 'course_id']).sum()"
   ]
  },
  {
   "cell_type": "markdown",
   "metadata": {},
   "source": [
    "I will remove the duplicates keeping the first lead generated by the user, that's the one that was created earlier."
   ]
  },
  {
   "cell_type": "code",
   "execution_count": 71,
   "metadata": {},
   "outputs": [],
   "source": [
    "leads_df.drop_duplicates(['user_id', 'course_id'], inplace=True, keep='last')"
   ]
  },
  {
   "cell_type": "code",
   "execution_count": 72,
   "metadata": {},
   "outputs": [
    {
     "data": {
      "text/plain": [
       "0"
      ]
     },
     "execution_count": 72,
     "metadata": {},
     "output_type": "execute_result"
    }
   ],
   "source": [
    "leads_df.duplicated(['user_id', 'course_id']).sum()"
   ]
  },
  {
   "cell_type": "markdown",
   "metadata": {},
   "source": [
    "### 2.2 Search for missing values"
   ]
  },
  {
   "cell_type": "code",
   "execution_count": 73,
   "metadata": {},
   "outputs": [
    {
     "name": "stdout",
     "output_type": "stream",
     "text": [
      "<class 'pandas.core.frame.DataFrame'>\n",
      "Int64Index: 39782 entries, 4 to 40036\n",
      "Data columns (total 7 columns):\n",
      "user_id               39782 non-null object\n",
      "course_id             39782 non-null int64\n",
      "course_title          39782 non-null object\n",
      "course_description    38253 non-null object\n",
      "course_category       39782 non-null object\n",
      "center                39782 non-null object\n",
      "created_on            39782 non-null datetime64[ns]\n",
      "dtypes: datetime64[ns](1), int64(1), object(5)\n",
      "memory usage: 2.4+ MB\n"
     ]
    }
   ],
   "source": [
    "leads_df.info()"
   ]
  },
  {
   "cell_type": "markdown",
   "metadata": {},
   "source": [
    "There are 1529 leads to courses without descriptions"
   ]
  },
  {
   "cell_type": "code",
   "execution_count": 74,
   "metadata": {},
   "outputs": [
    {
     "data": {
      "text/plain": [
       "653"
      ]
     },
     "execution_count": 74,
     "metadata": {},
     "output_type": "execute_result"
    }
   ],
   "source": [
    "leads_df[leads_df['course_description'].isnull()]['course_id'].nunique()"
   ]
  },
  {
   "cell_type": "markdown",
   "metadata": {},
   "source": [
    "Or 653 courses without description. I will keep this rows in the dataframe because the information provided by a lead-course pair is very valuable even if the course has no description. Anyway, I will replace the null value with an empty string"
   ]
  },
  {
   "cell_type": "code",
   "execution_count": 75,
   "metadata": {},
   "outputs": [],
   "source": [
    "leads_df['course_description'] = leads_df['course_description'].fillna('')"
   ]
  },
  {
   "cell_type": "code",
   "execution_count": 77,
   "metadata": {},
   "outputs": [
    {
     "name": "stdout",
     "output_type": "stream",
     "text": [
      "<class 'pandas.core.frame.DataFrame'>\n",
      "Int64Index: 39782 entries, 4 to 40036\n",
      "Data columns (total 7 columns):\n",
      "user_id               39782 non-null object\n",
      "course_id             39782 non-null int64\n",
      "course_title          39782 non-null object\n",
      "course_description    39782 non-null object\n",
      "course_category       39782 non-null object\n",
      "center                39782 non-null object\n",
      "created_on            39782 non-null datetime64[ns]\n",
      "dtypes: datetime64[ns](1), int64(1), object(5)\n",
      "memory usage: 2.4+ MB\n"
     ]
    }
   ],
   "source": [
    "leads_df.info()"
   ]
  },
  {
   "cell_type": "markdown",
   "metadata": {},
   "source": [
    "### 2.3 Convert `course_id` column type to string"
   ]
  },
  {
   "cell_type": "code",
   "execution_count": 80,
   "metadata": {},
   "outputs": [],
   "source": [
    "leads_df['course_id'] = leads_df['course_id'].astype(str)"
   ]
  },
  {
   "cell_type": "code",
   "execution_count": 81,
   "metadata": {},
   "outputs": [
    {
     "name": "stdout",
     "output_type": "stream",
     "text": [
      "<class 'pandas.core.frame.DataFrame'>\n",
      "Int64Index: 39782 entries, 4 to 40036\n",
      "Data columns (total 7 columns):\n",
      "user_id               39782 non-null object\n",
      "course_id             39782 non-null object\n",
      "course_title          39782 non-null object\n",
      "course_description    39782 non-null object\n",
      "course_category       39782 non-null object\n",
      "center                39782 non-null object\n",
      "created_on            39782 non-null datetime64[ns]\n",
      "dtypes: datetime64[ns](1), object(6)\n",
      "memory usage: 2.4+ MB\n"
     ]
    }
   ],
   "source": [
    "leads_df.info()"
   ]
  },
  {
   "cell_type": "markdown",
   "metadata": {},
   "source": [
    "## 3 Retrieving reviews\n",
    "The reviews come from the Emagister database and are a sample of those that have been made in the last 18 months."
   ]
  },
  {
   "cell_type": "code",
   "execution_count": 82,
   "metadata": {},
   "outputs": [],
   "source": [
    "reviews_query = '''SELECT user_id,\n",
    "    course_id,\n",
    "    course_title,\n",
    "    course_category,\n",
    "    course_description,\n",
    "    center,\n",
    "    rating,\n",
    "    created_on\n",
    "FROM reviews\n",
    "ORDER BY created_on DESC\n",
    "'''\n",
    "\n",
    "reviews_df = pd.read_sql_query(reviews_query, con=connection())"
   ]
  },
  {
   "cell_type": "code",
   "execution_count": 84,
   "metadata": {},
   "outputs": [
    {
     "data": {
      "text/html": [
       "<div>\n",
       "<style scoped>\n",
       "    .dataframe tbody tr th:only-of-type {\n",
       "        vertical-align: middle;\n",
       "    }\n",
       "\n",
       "    .dataframe tbody tr th {\n",
       "        vertical-align: top;\n",
       "    }\n",
       "\n",
       "    .dataframe thead th {\n",
       "        text-align: right;\n",
       "    }\n",
       "</style>\n",
       "<table border=\"1\" class=\"dataframe\">\n",
       "  <thead>\n",
       "    <tr style=\"text-align: right;\">\n",
       "      <th></th>\n",
       "      <th>user_id</th>\n",
       "      <th>course_id</th>\n",
       "      <th>course_title</th>\n",
       "      <th>course_category</th>\n",
       "      <th>course_description</th>\n",
       "      <th>center</th>\n",
       "      <th>rating</th>\n",
       "      <th>created_on</th>\n",
       "    </tr>\n",
       "  </thead>\n",
       "  <tbody>\n",
       "    <tr>\n",
       "      <th>0</th>\n",
       "      <td>2b8d8517932c25c11858c48b7563d1f0</td>\n",
       "      <td>170378812</td>\n",
       "      <td>SIA Bodyguard Training</td>\n",
       "      <td>Self-development</td>\n",
       "      <td>The SIA approved Close Protection course is th...</td>\n",
       "      <td>Clinton Training Ltd</td>\n",
       "      <td>6</td>\n",
       "      <td>2019-12-26 17:40:22</td>\n",
       "    </tr>\n",
       "    <tr>\n",
       "      <th>1</th>\n",
       "      <td>6c4962141ae920e56739fd36a1383333</td>\n",
       "      <td>170363242</td>\n",
       "      <td>NVQ Tiling courses - Free - Funded by Government</td>\n",
       "      <td>Construction Trades</td>\n",
       "      <td>CSCS Skill Card. &lt;br /&gt;Suitable for: Employed,...</td>\n",
       "      <td>Censura Consulting</td>\n",
       "      <td>10</td>\n",
       "      <td>2019-12-26 17:18:13</td>\n",
       "    </tr>\n",
       "    <tr>\n",
       "      <th>2</th>\n",
       "      <td>52d477c4ebcb10e3368a2fa396d97df7</td>\n",
       "      <td>170628943</td>\n",
       "      <td>Bachelor in Aviation Management</td>\n",
       "      <td>Energy and Utilities</td>\n",
       "      <td>Immerse yourself in the world of aviation mana...</td>\n",
       "      <td>IUBH University of Applied Sciences</td>\n",
       "      <td>10</td>\n",
       "      <td>2019-12-26 14:51:26</td>\n",
       "    </tr>\n",
       "    <tr>\n",
       "      <th>3</th>\n",
       "      <td>8921583e8a24ca92d0ae4b65d86d6c6a</td>\n",
       "      <td>170385895</td>\n",
       "      <td>Forensics</td>\n",
       "      <td>Police</td>\n",
       "      <td>Forensic science is a very exciting area as sh...</td>\n",
       "      <td>International Career Institute</td>\n",
       "      <td>10</td>\n",
       "      <td>2019-12-26 11:27:27</td>\n",
       "    </tr>\n",
       "    <tr>\n",
       "      <th>4</th>\n",
       "      <td>6c4962141ae920e56739fd36a1383333</td>\n",
       "      <td>170363242</td>\n",
       "      <td>NVQ Tiling courses - Free - Funded by Government</td>\n",
       "      <td>Construction Trades</td>\n",
       "      <td>CSCS Skill Card. &lt;br /&gt;Suitable for: Employed,...</td>\n",
       "      <td>Censura Consulting</td>\n",
       "      <td>10</td>\n",
       "      <td>2019-12-26 11:25:08</td>\n",
       "    </tr>\n",
       "  </tbody>\n",
       "</table>\n",
       "</div>"
      ],
      "text/plain": [
       "                            user_id  course_id  \\\n",
       "0  2b8d8517932c25c11858c48b7563d1f0  170378812   \n",
       "1  6c4962141ae920e56739fd36a1383333  170363242   \n",
       "2  52d477c4ebcb10e3368a2fa396d97df7  170628943   \n",
       "3  8921583e8a24ca92d0ae4b65d86d6c6a  170385895   \n",
       "4  6c4962141ae920e56739fd36a1383333  170363242   \n",
       "\n",
       "                                       course_title       course_category  \\\n",
       "0                            SIA Bodyguard Training      Self-development   \n",
       "1  NVQ Tiling courses - Free - Funded by Government   Construction Trades   \n",
       "2                   Bachelor in Aviation Management  Energy and Utilities   \n",
       "3                                         Forensics                Police   \n",
       "4  NVQ Tiling courses - Free - Funded by Government   Construction Trades   \n",
       "\n",
       "                                  course_description  \\\n",
       "0  The SIA approved Close Protection course is th...   \n",
       "1  CSCS Skill Card. <br />Suitable for: Employed,...   \n",
       "2  Immerse yourself in the world of aviation mana...   \n",
       "3  Forensic science is a very exciting area as sh...   \n",
       "4  CSCS Skill Card. <br />Suitable for: Employed,...   \n",
       "\n",
       "                                center  rating          created_on  \n",
       "0                 Clinton Training Ltd       6 2019-12-26 17:40:22  \n",
       "1                   Censura Consulting      10 2019-12-26 17:18:13  \n",
       "2  IUBH University of Applied Sciences      10 2019-12-26 14:51:26  \n",
       "3       International Career Institute      10 2019-12-26 11:27:27  \n",
       "4                   Censura Consulting      10 2019-12-26 11:25:08  "
      ]
     },
     "execution_count": 84,
     "metadata": {},
     "output_type": "execute_result"
    }
   ],
   "source": [
    "reviews_df.head()"
   ]
  },
  {
   "cell_type": "markdown",
   "metadata": {},
   "source": [
    "### 3.1 Search for outliers in `rating` column"
   ]
  },
  {
   "cell_type": "code",
   "execution_count": 85,
   "metadata": {},
   "outputs": [
    {
     "data": {
      "text/plain": [
       "count    19160.000000\n",
       "mean         9.301461\n",
       "std          1.142509\n",
       "min          2.000000\n",
       "25%          8.000000\n",
       "50%         10.000000\n",
       "75%         10.000000\n",
       "max         10.000000\n",
       "Name: rating, dtype: float64"
      ]
     },
     "execution_count": 85,
     "metadata": {},
     "output_type": "execute_result"
    }
   ],
   "source": [
    "reviews_df['rating'].describe()"
   ]
  },
  {
   "cell_type": "markdown",
   "metadata": {},
   "source": [
    "There seems to be no outliers"
   ]
  },
  {
   "cell_type": "markdown",
   "metadata": {},
   "source": [
    "### 3.2 Search for duplicated rows"
   ]
  },
  {
   "cell_type": "code",
   "execution_count": 86,
   "metadata": {},
   "outputs": [
    {
     "data": {
      "text/plain": [
       "185"
      ]
     },
     "execution_count": 86,
     "metadata": {},
     "output_type": "execute_result"
    }
   ],
   "source": [
    "reviews_df.duplicated(['user_id', 'course_id']).sum()"
   ]
  },
  {
   "cell_type": "markdown",
   "metadata": {},
   "source": [
    "There are 185 duplicated reviews. I will remove them keeping the first review made by the user."
   ]
  },
  {
   "cell_type": "code",
   "execution_count": 87,
   "metadata": {},
   "outputs": [],
   "source": [
    "reviews_df.drop_duplicates(['user_id', 'course_id'], inplace=True, keep='last')"
   ]
  },
  {
   "cell_type": "code",
   "execution_count": 88,
   "metadata": {},
   "outputs": [
    {
     "data": {
      "text/plain": [
       "0"
      ]
     },
     "execution_count": 88,
     "metadata": {},
     "output_type": "execute_result"
    }
   ],
   "source": [
    "reviews_df.duplicated(['user_id', 'course_id']).sum()"
   ]
  },
  {
   "cell_type": "markdown",
   "metadata": {},
   "source": [
    "### 3.3 Search for missing values"
   ]
  },
  {
   "cell_type": "code",
   "execution_count": 89,
   "metadata": {
    "scrolled": true
   },
   "outputs": [
    {
     "name": "stdout",
     "output_type": "stream",
     "text": [
      "<class 'pandas.core.frame.DataFrame'>\n",
      "Int64Index: 18975 entries, 0 to 19159\n",
      "Data columns (total 8 columns):\n",
      "user_id               18975 non-null object\n",
      "course_id             18975 non-null int64\n",
      "course_title          18975 non-null object\n",
      "course_category       18975 non-null object\n",
      "course_description    18919 non-null object\n",
      "center                18975 non-null object\n",
      "rating                18975 non-null int64\n",
      "created_on            18975 non-null datetime64[ns]\n",
      "dtypes: datetime64[ns](1), int64(2), object(5)\n",
      "memory usage: 1.3+ MB\n"
     ]
    }
   ],
   "source": [
    "reviews_df.info()"
   ]
  },
  {
   "cell_type": "markdown",
   "metadata": {},
   "source": [
    "There are 56 reviews to courses without description."
   ]
  },
  {
   "cell_type": "code",
   "execution_count": 90,
   "metadata": {},
   "outputs": [
    {
     "data": {
      "text/plain": [
       "23"
      ]
     },
     "execution_count": 90,
     "metadata": {},
     "output_type": "execute_result"
    }
   ],
   "source": [
    "reviews_df[reviews_df['course_description'].isnull()]['course_id'].nunique()"
   ]
  },
  {
   "cell_type": "markdown",
   "metadata": {},
   "source": [
    "Or 23 courses without description. I will do the same as in the previous case. I will keep the rows to keep the information of each review. I will replace the null value with an empty string in this dataframe too."
   ]
  },
  {
   "cell_type": "code",
   "execution_count": 99,
   "metadata": {},
   "outputs": [],
   "source": [
    "reviews_df['course_description'] = reviews_df['course_description'].fillna('')"
   ]
  },
  {
   "cell_type": "code",
   "execution_count": 100,
   "metadata": {},
   "outputs": [
    {
     "data": {
      "text/plain": [
       "0"
      ]
     },
     "execution_count": 100,
     "metadata": {},
     "output_type": "execute_result"
    }
   ],
   "source": [
    "reviews_df[reviews_df['course_description'].isnull()]['course_id'].nunique()"
   ]
  },
  {
   "cell_type": "markdown",
   "metadata": {},
   "source": [
    "### 3.4 Convert `course_id` column type to string"
   ]
  },
  {
   "cell_type": "code",
   "execution_count": 101,
   "metadata": {},
   "outputs": [],
   "source": [
    "reviews_df['course_id'] = reviews_df['course_id'].astype(str)"
   ]
  },
  {
   "cell_type": "code",
   "execution_count": 102,
   "metadata": {},
   "outputs": [
    {
     "name": "stdout",
     "output_type": "stream",
     "text": [
      "<class 'pandas.core.frame.DataFrame'>\n",
      "Int64Index: 18975 entries, 0 to 19159\n",
      "Data columns (total 8 columns):\n",
      "user_id               18975 non-null object\n",
      "course_id             18975 non-null object\n",
      "course_title          18975 non-null object\n",
      "course_category       18975 non-null object\n",
      "course_description    18975 non-null object\n",
      "center                18975 non-null object\n",
      "rating                18975 non-null int64\n",
      "created_on            18975 non-null datetime64[ns]\n",
      "dtypes: datetime64[ns](1), int64(1), object(6)\n",
      "memory usage: 1.3+ MB\n"
     ]
    }
   ],
   "source": [
    "reviews_df.info()"
   ]
  },
  {
   "cell_type": "code",
   "execution_count": 103,
   "metadata": {},
   "outputs": [
    {
     "data": {
      "text/html": [
       "<div>\n",
       "<style scoped>\n",
       "    .dataframe tbody tr th:only-of-type {\n",
       "        vertical-align: middle;\n",
       "    }\n",
       "\n",
       "    .dataframe tbody tr th {\n",
       "        vertical-align: top;\n",
       "    }\n",
       "\n",
       "    .dataframe thead th {\n",
       "        text-align: right;\n",
       "    }\n",
       "</style>\n",
       "<table border=\"1\" class=\"dataframe\">\n",
       "  <thead>\n",
       "    <tr style=\"text-align: right;\">\n",
       "      <th></th>\n",
       "      <th>user_id</th>\n",
       "      <th>course_id</th>\n",
       "      <th>course_title</th>\n",
       "      <th>course_category</th>\n",
       "      <th>course_description</th>\n",
       "      <th>center</th>\n",
       "      <th>rating</th>\n",
       "      <th>created_on</th>\n",
       "    </tr>\n",
       "  </thead>\n",
       "  <tbody>\n",
       "    <tr>\n",
       "      <th>0</th>\n",
       "      <td>2b8d8517932c25c11858c48b7563d1f0</td>\n",
       "      <td>170378812</td>\n",
       "      <td>SIA Bodyguard Training</td>\n",
       "      <td>Self-development</td>\n",
       "      <td>The SIA approved Close Protection course is th...</td>\n",
       "      <td>Clinton Training Ltd</td>\n",
       "      <td>6</td>\n",
       "      <td>2019-12-26 17:40:22</td>\n",
       "    </tr>\n",
       "    <tr>\n",
       "      <th>2</th>\n",
       "      <td>52d477c4ebcb10e3368a2fa396d97df7</td>\n",
       "      <td>170628943</td>\n",
       "      <td>Bachelor in Aviation Management</td>\n",
       "      <td>Energy and Utilities</td>\n",
       "      <td>Immerse yourself in the world of aviation mana...</td>\n",
       "      <td>IUBH University of Applied Sciences</td>\n",
       "      <td>10</td>\n",
       "      <td>2019-12-26 14:51:26</td>\n",
       "    </tr>\n",
       "    <tr>\n",
       "      <th>3</th>\n",
       "      <td>8921583e8a24ca92d0ae4b65d86d6c6a</td>\n",
       "      <td>170385895</td>\n",
       "      <td>Forensics</td>\n",
       "      <td>Police</td>\n",
       "      <td>Forensic science is a very exciting area as sh...</td>\n",
       "      <td>International Career Institute</td>\n",
       "      <td>10</td>\n",
       "      <td>2019-12-26 11:27:27</td>\n",
       "    </tr>\n",
       "    <tr>\n",
       "      <th>4</th>\n",
       "      <td>6c4962141ae920e56739fd36a1383333</td>\n",
       "      <td>170363242</td>\n",
       "      <td>NVQ Tiling courses - Free - Funded by Government</td>\n",
       "      <td>Construction Trades</td>\n",
       "      <td>CSCS Skill Card. &lt;br /&gt;Suitable for: Employed,...</td>\n",
       "      <td>Censura Consulting</td>\n",
       "      <td>10</td>\n",
       "      <td>2019-12-26 11:25:08</td>\n",
       "    </tr>\n",
       "    <tr>\n",
       "      <th>5</th>\n",
       "      <td>6c4962141ae920e56739fd36a1383333</td>\n",
       "      <td>170567406</td>\n",
       "      <td>Level 2 Diploma in Wall and Floor Tiling</td>\n",
       "      <td>Construction Trades</td>\n",
       "      <td>Level 2 Diploma in Wall and Floor Tiling\\n« Re...</td>\n",
       "      <td>Hackney Community College</td>\n",
       "      <td>10</td>\n",
       "      <td>2019-12-26 11:19:59</td>\n",
       "    </tr>\n",
       "  </tbody>\n",
       "</table>\n",
       "</div>"
      ],
      "text/plain": [
       "                            user_id  course_id  \\\n",
       "0  2b8d8517932c25c11858c48b7563d1f0  170378812   \n",
       "2  52d477c4ebcb10e3368a2fa396d97df7  170628943   \n",
       "3  8921583e8a24ca92d0ae4b65d86d6c6a  170385895   \n",
       "4  6c4962141ae920e56739fd36a1383333  170363242   \n",
       "5  6c4962141ae920e56739fd36a1383333  170567406   \n",
       "\n",
       "                                       course_title       course_category  \\\n",
       "0                            SIA Bodyguard Training      Self-development   \n",
       "2                   Bachelor in Aviation Management  Energy and Utilities   \n",
       "3                                         Forensics                Police   \n",
       "4  NVQ Tiling courses - Free - Funded by Government   Construction Trades   \n",
       "5          Level 2 Diploma in Wall and Floor Tiling   Construction Trades   \n",
       "\n",
       "                                  course_description  \\\n",
       "0  The SIA approved Close Protection course is th...   \n",
       "2  Immerse yourself in the world of aviation mana...   \n",
       "3  Forensic science is a very exciting area as sh...   \n",
       "4  CSCS Skill Card. <br />Suitable for: Employed,...   \n",
       "5  Level 2 Diploma in Wall and Floor Tiling\\n« Re...   \n",
       "\n",
       "                                center  rating          created_on  \n",
       "0                 Clinton Training Ltd       6 2019-12-26 17:40:22  \n",
       "2  IUBH University of Applied Sciences      10 2019-12-26 14:51:26  \n",
       "3       International Career Institute      10 2019-12-26 11:27:27  \n",
       "4                   Censura Consulting      10 2019-12-26 11:25:08  \n",
       "5            Hackney Community College      10 2019-12-26 11:19:59  "
      ]
     },
     "execution_count": 103,
     "metadata": {},
     "output_type": "execute_result"
    }
   ],
   "source": [
    "reviews_df.head()"
   ]
  },
  {
   "cell_type": "markdown",
   "metadata": {},
   "source": [
    "## 4 Create courses dataframe\n",
    "\n",
    "I will create a dataframe of unique courses from the reviews and leads dataframes"
   ]
  },
  {
   "cell_type": "code",
   "execution_count": 104,
   "metadata": {},
   "outputs": [
    {
     "data": {
      "text/html": [
       "<div>\n",
       "<style scoped>\n",
       "    .dataframe tbody tr th:only-of-type {\n",
       "        vertical-align: middle;\n",
       "    }\n",
       "\n",
       "    .dataframe tbody tr th {\n",
       "        vertical-align: top;\n",
       "    }\n",
       "\n",
       "    .dataframe thead th {\n",
       "        text-align: right;\n",
       "    }\n",
       "</style>\n",
       "<table border=\"1\" class=\"dataframe\">\n",
       "  <thead>\n",
       "    <tr style=\"text-align: right;\">\n",
       "      <th></th>\n",
       "      <th>course_id</th>\n",
       "      <th>course_title</th>\n",
       "      <th>course_description</th>\n",
       "      <th>course_category</th>\n",
       "      <th>center</th>\n",
       "    </tr>\n",
       "  </thead>\n",
       "  <tbody>\n",
       "    <tr>\n",
       "      <th>0</th>\n",
       "      <td>170654780</td>\n",
       "      <td>New to Web Design</td>\n",
       "      <td>Our New to Web Design course bundle will teach...</td>\n",
       "      <td>Other Web Design</td>\n",
       "      <td>IT Online Learning</td>\n",
       "    </tr>\n",
       "    <tr>\n",
       "      <th>1</th>\n",
       "      <td>170565168</td>\n",
       "      <td>Wordpress Website &amp; Blog Builder</td>\n",
       "      <td>Right now, there are about 6.7 million blogs o...</td>\n",
       "      <td>Other Web Design</td>\n",
       "      <td>International Open Academy</td>\n",
       "    </tr>\n",
       "    <tr>\n",
       "      <th>2</th>\n",
       "      <td>170079653</td>\n",
       "      <td>Office Skills Diploma</td>\n",
       "      <td>If you want to gain practical skills in order ...</td>\n",
       "      <td>Office Systems</td>\n",
       "      <td>Pitman Training London</td>\n",
       "    </tr>\n",
       "    <tr>\n",
       "      <th>3</th>\n",
       "      <td>170623853</td>\n",
       "      <td>Web Design Bundle Course - CPD Certified &amp; IAO...</td>\n",
       "      <td>Web design is not only about planning and desi...</td>\n",
       "      <td>HomeSite</td>\n",
       "      <td>John Academy</td>\n",
       "    </tr>\n",
       "    <tr>\n",
       "      <th>4</th>\n",
       "      <td>170418482</td>\n",
       "      <td>Webmaster HTML &amp; CSS Web Design Course</td>\n",
       "      <td>Emagister presents the Webmaster course - HTML...</td>\n",
       "      <td>Other Web Design</td>\n",
       "      <td>Distance Learning Centre</td>\n",
       "    </tr>\n",
       "  </tbody>\n",
       "</table>\n",
       "</div>"
      ],
      "text/plain": [
       "   course_id                                       course_title  \\\n",
       "0  170654780                                  New to Web Design   \n",
       "1  170565168                   Wordpress Website & Blog Builder   \n",
       "2  170079653                              Office Skills Diploma   \n",
       "3  170623853  Web Design Bundle Course - CPD Certified & IAO...   \n",
       "4  170418482             Webmaster HTML & CSS Web Design Course   \n",
       "\n",
       "                                  course_description    course_category  \\\n",
       "0  Our New to Web Design course bundle will teach...  Other Web Design    \n",
       "1  Right now, there are about 6.7 million blogs o...  Other Web Design    \n",
       "2  If you want to gain practical skills in order ...     Office Systems   \n",
       "3  Web design is not only about planning and desi...           HomeSite   \n",
       "4  Emagister presents the Webmaster course - HTML...  Other Web Design    \n",
       "\n",
       "                       center  \n",
       "0          IT Online Learning  \n",
       "1  International Open Academy  \n",
       "2      Pitman Training London  \n",
       "3                John Academy  \n",
       "4    Distance Learning Centre  "
      ]
     },
     "execution_count": 104,
     "metadata": {},
     "output_type": "execute_result"
    }
   ],
   "source": [
    "keep_columns = ['course_id', 'course_title', 'course_description', 'course_category', 'center']\n",
    "\n",
    "courses_from_leads = leads_df[keep_columns].drop_duplicates('course_id')\n",
    "courses_from_reviews = reviews_df[keep_columns].drop_duplicates('course_id')\n",
    "\n",
    "courses_df = pd.merge(courses_from_leads, courses_from_reviews,\n",
    "                      left_on=keep_columns, \n",
    "                      right_on=keep_columns, \n",
    "                      how='outer')\n",
    "\n",
    "# Remove duplicates\n",
    "courses_df.drop_duplicates('course_id', inplace=True)\n",
    "\n",
    "courses_df.head()"
   ]
  },
  {
   "cell_type": "code",
   "execution_count": 105,
   "metadata": {},
   "outputs": [
    {
     "data": {
      "text/plain": [
       "17527"
      ]
     },
     "execution_count": 105,
     "metadata": {},
     "output_type": "execute_result"
    }
   ],
   "source": [
    "courses_df['course_id'].nunique()"
   ]
  },
  {
   "cell_type": "code",
   "execution_count": 106,
   "metadata": {
    "scrolled": true
   },
   "outputs": [
    {
     "name": "stdout",
     "output_type": "stream",
     "text": [
      "<class 'pandas.core.frame.DataFrame'>\n",
      "Int64Index: 17527 entries, 0 to 17534\n",
      "Data columns (total 5 columns):\n",
      "course_id             17527 non-null object\n",
      "course_title          17527 non-null object\n",
      "course_description    17527 non-null object\n",
      "course_category       17527 non-null object\n",
      "center                17527 non-null object\n",
      "dtypes: object(5)\n",
      "memory usage: 821.6+ KB\n"
     ]
    }
   ],
   "source": [
    "courses_df.info()"
   ]
  },
  {
   "cell_type": "markdown",
   "metadata": {},
   "source": [
    "Renaming the columns"
   ]
  },
  {
   "cell_type": "code",
   "execution_count": 107,
   "metadata": {},
   "outputs": [],
   "source": [
    "courses_df.rename(columns={'course_id': 'id', 'course_title': 'title',\n",
    "                          'course_description': 'description', 'course_category': 'category'},\n",
    "                 inplace=True)"
   ]
  },
  {
   "cell_type": "markdown",
   "metadata": {},
   "source": [
    "Cleaning text columns"
   ]
  },
  {
   "cell_type": "code",
   "execution_count": 108,
   "metadata": {},
   "outputs": [],
   "source": [
    "courses_df['title'] = courses_df['title'].apply(clean_text)\n",
    "courses_df['description'] = courses_df['description'].apply(lambda x: clean_text(x) if x else x)\n",
    "courses_df['center'] = courses_df['center'].apply(clean_text)"
   ]
  },
  {
   "cell_type": "markdown",
   "metadata": {},
   "source": [
    "### 4.1 Content language\n",
    "\n",
    "Sometimes the course descriptions are not in the correct language. I will detect the language, and I will discard the courses with the description in a language other than English. <span style=\"color:red\">**This process takes about 45 minutes on a MacBook Pro (2.3 GHz Intel Core i5, 16 GB RAM)**</span>"
   ]
  },
  {
   "cell_type": "code",
   "execution_count": 109,
   "metadata": {},
   "outputs": [],
   "source": [
    "lang_detector = LangDetector()\n",
    "def get_lang(text):\n",
    "    \"\"\" \n",
    "    Detects the language of a text\n",
    "    \n",
    "    :param text str: Text of which we want to know the language\n",
    "                          \n",
    "    :return str: Language ISO 639-1 code\n",
    "    \"\"\"\n",
    "    if not text:\n",
    "        return LangDetector.DEFAULT_LANGUAGE\n",
    "    \n",
    "    try: \n",
    "        return lang_detector.iso_639_1_code(text)\n",
    "    except ValueError:\n",
    "        return LangDetector.DEFAULT_LANGUAGE"
   ]
  },
  {
   "cell_type": "code",
   "execution_count": 110,
   "metadata": {},
   "outputs": [],
   "source": [
    "courses_df['lang'] = courses_df['description'].apply(get_lang)"
   ]
  },
  {
   "cell_type": "code",
   "execution_count": 111,
   "metadata": {},
   "outputs": [
    {
     "data": {
      "text/html": [
       "<div>\n",
       "<style scoped>\n",
       "    .dataframe tbody tr th:only-of-type {\n",
       "        vertical-align: middle;\n",
       "    }\n",
       "\n",
       "    .dataframe tbody tr th {\n",
       "        vertical-align: top;\n",
       "    }\n",
       "\n",
       "    .dataframe thead th {\n",
       "        text-align: right;\n",
       "    }\n",
       "</style>\n",
       "<table border=\"1\" class=\"dataframe\">\n",
       "  <thead>\n",
       "    <tr style=\"text-align: right;\">\n",
       "      <th></th>\n",
       "      <th>id</th>\n",
       "      <th>title</th>\n",
       "      <th>description</th>\n",
       "      <th>category</th>\n",
       "      <th>center</th>\n",
       "      <th>lang</th>\n",
       "    </tr>\n",
       "  </thead>\n",
       "  <tbody>\n",
       "    <tr>\n",
       "      <th>56</th>\n",
       "      <td>170573636</td>\n",
       "      <td>Criminologa</td>\n",
       "      <td>El curso est dirigido a todos aquellos que pro...</td>\n",
       "      <td>Criminal Law</td>\n",
       "      <td>Deka Online Courses</td>\n",
       "      <td>es</td>\n",
       "    </tr>\n",
       "    <tr>\n",
       "      <th>66</th>\n",
       "      <td>170661935</td>\n",
       "      <td>Business Model Innovation</td>\n",
       "      <td>Design Thinking parte de la idea de que la mej...</td>\n",
       "      <td>Business Management</td>\n",
       "      <td>Design Thinking Sweden</td>\n",
       "      <td>es</td>\n",
       "    </tr>\n",
       "    <tr>\n",
       "      <th>78</th>\n",
       "      <td>170232997</td>\n",
       "      <td>Introduction to Basic TIG Welding</td>\n",
       "      <td>To get basic skills in TIG welding. Suitable f...</td>\n",
       "      <td>Engineering</td>\n",
       "      <td>Allister Moore Weld Training Centre</td>\n",
       "      <td>xx</td>\n",
       "    </tr>\n",
       "    <tr>\n",
       "      <th>89</th>\n",
       "      <td>170573635</td>\n",
       "      <td>Educador Cinfilo</td>\n",
       "      <td>El curso est dirigido a todos aquellos que pro...</td>\n",
       "      <td>Animal Health</td>\n",
       "      <td>Deka Online Courses</td>\n",
       "      <td>es</td>\n",
       "    </tr>\n",
       "    <tr>\n",
       "      <th>120</th>\n",
       "      <td>170623758</td>\n",
       "      <td>Masaje y Masoterapia</td>\n",
       "      <td>El curso est dirigido a todos aquellos que pro...</td>\n",
       "      <td>Medicine</td>\n",
       "      <td>Deka Online Courses</td>\n",
       "      <td>es</td>\n",
       "    </tr>\n",
       "  </tbody>\n",
       "</table>\n",
       "</div>"
      ],
      "text/plain": [
       "            id                              title  \\\n",
       "56   170573636                        Criminologa   \n",
       "66   170661935          Business Model Innovation   \n",
       "78   170232997  Introduction to Basic TIG Welding   \n",
       "89   170573635                   Educador Cinfilo   \n",
       "120  170623758               Masaje y Masoterapia   \n",
       "\n",
       "                                           description             category  \\\n",
       "56   El curso est dirigido a todos aquellos que pro...         Criminal Law   \n",
       "66   Design Thinking parte de la idea de que la mej...  Business Management   \n",
       "78   To get basic skills in TIG welding. Suitable f...          Engineering   \n",
       "89   El curso est dirigido a todos aquellos que pro...        Animal Health   \n",
       "120  El curso est dirigido a todos aquellos que pro...             Medicine   \n",
       "\n",
       "                                  center lang  \n",
       "56                   Deka Online Courses   es  \n",
       "66                Design Thinking Sweden   es  \n",
       "78   Allister Moore Weld Training Centre   xx  \n",
       "89                   Deka Online Courses   es  \n",
       "120                  Deka Online Courses   es  "
      ]
     },
     "execution_count": 111,
     "metadata": {},
     "output_type": "execute_result"
    }
   ],
   "source": [
    "not_english_courses = courses_df[courses_df['lang'] != 'en']\n",
    "not_english_courses.head()"
   ]
  },
  {
   "cell_type": "markdown",
   "metadata": {},
   "source": [
    "Remove not english courses and column `lang`."
   ]
  },
  {
   "cell_type": "code",
   "execution_count": 112,
   "metadata": {},
   "outputs": [],
   "source": [
    "courses_df.drop(courses_df[courses_df['lang'] != 'en'].index, inplace=True)\n",
    "courses_df.drop('lang', axis=1, inplace=True)"
   ]
  },
  {
   "cell_type": "markdown",
   "metadata": {},
   "source": [
    "Remove courses written in a non-English language from `reviews_df` and `leads_df`"
   ]
  },
  {
   "cell_type": "code",
   "execution_count": 113,
   "metadata": {},
   "outputs": [],
   "source": [
    "reviews_df = reviews_df[~reviews_df['course_id'].isin(not_english_courses['id'].values)]\n",
    "leads_df = leads_df[~leads_df['course_id'].isin(not_english_courses['id'].values)]"
   ]
  },
  {
   "cell_type": "markdown",
   "metadata": {},
   "source": [
    "### 4.2 Save leads and reviews to database\n",
    "**Save leads**"
   ]
  },
  {
   "cell_type": "code",
   "execution_count": 135,
   "metadata": {},
   "outputs": [],
   "source": [
    "# Creates the 'clean_leads' table\n",
    "\n",
    "leads_df = leads_df[['user_id', 'course_id', 'created_on']]\n",
    "\n",
    "sql_drop = 'DROP TABLE IF EXISTS `clean_leads`'\n",
    "c = connection().execute(sql_drop)\n",
    "\n",
    "sql_create = \"\"\"CREATE TABLE clean_leads\n",
    "(\n",
    "    `user_id`    CHAR(36) NOT NULL,\n",
    "    `course_id`  VARCHAR(12) NOT NULL,\n",
    "    `created_on` DATETIME NOT NULL,\n",
    "    PRIMARY KEY (`user_id`, `course_id`)\n",
    ") ENGINE=InnoDB DEFAULT CHARSET=utf8\n",
    "\"\"\"\n",
    "c = connection().execute(sql_create)\n",
    "\n",
    "# Save leads to database\n",
    "leads_df.to_sql('clean_leads', con=connection(), if_exists='append', index=False)"
   ]
  },
  {
   "cell_type": "markdown",
   "metadata": {},
   "source": [
    "**Save reviews**"
   ]
  },
  {
   "cell_type": "code",
   "execution_count": 136,
   "metadata": {},
   "outputs": [],
   "source": [
    "# Creates the 'clean_reviews' table\n",
    "\n",
    "reviews_df = reviews_df[['user_id', 'course_id', 'rating', 'created_on']]\n",
    "\n",
    "sql_drop = 'DROP TABLE IF EXISTS `clean_reviews`'\n",
    "c = connection().execute(sql_drop)\n",
    "\n",
    "sql_create = \"\"\"CREATE TABLE `clean_reviews`\n",
    "(\n",
    "    `user_id`    CHAR(36) NOT NULL,\n",
    "    `course_id`  VARCHAR(12) NOT NULL,\n",
    "    `rating`     INT NOT NULL,\n",
    "    `created_on` DATETIME NOT NULL,\n",
    "    PRIMARY KEY (`user_id`, `course_id`)\n",
    ") ENGINE=InnoDB DEFAULT CHARSET=utf8\n",
    "\"\"\"\n",
    "c = connection().execute(sql_create)\n",
    "\n",
    "# Save reviews to database\n",
    "reviews_df.to_sql('clean_reviews', con=connection(), if_exists='append', index=False)"
   ]
  },
  {
   "cell_type": "markdown",
   "metadata": {},
   "source": [
    "\n",
    "### 4.2 Computing the weighted rating\n",
    "\n",
    "I will add a column to the courses_df indicating the weighted rating for each course. I will also add a column indicating the number of reviews of each course.\n",
    "\n",
    "To compute the weighted rating, I will use the IMDB's weighted rating formula to calculate the [Top Rated 250 titles](https://help.imdb.com/article/imdb/track-movies-tv/ratings-faq/G67Y87TFYYP6TWAV#calculatetop):\n",
    "\n",
    "$$\n",
    "weighted\\space rating\\space(wr) = (\\dfrac{v}{v+m}\\times{R})+(\\dfrac{m}{v+m}\\times{C})\n",
    "$$\n",
    "\n",
    "Where:\n",
    "\n",
    "- $v$ is the number of reviews received by the course\n",
    "- $m$ is the minimum number of reviews required for the course to be listed in the top\n",
    "- $R$ is the average rating of the course\n",
    "- $C$ is the average rating of all the courses in the dataset\n",
    "\n",
    "I can compute $v$, $R$ and $C$, but $m$ is a number that does not depend on any calculation. In IMDB, this number is 25,000. In Emagister, we award a prize to the most valued study centers and schools. One of the conditions to qualify for the prize is that each course has at least 25 reviews, so I will use 25 as a value for $m$.\n",
    "\n",
    "With this calculation, I will take into account the number of reviews each course has received to rank courses."
   ]
  },
  {
   "cell_type": "code",
   "execution_count": 114,
   "metadata": {},
   "outputs": [],
   "source": [
    "def average_rating(course_id, df):\n",
    "    \"\"\" \n",
    "    Computes the average rating of a course\n",
    "    \n",
    "    :param course_id str: Course id\n",
    "                          \n",
    "    :return float|np.nan: The average rating of a course or np.nan if the course has no rating\n",
    "    \"\"\"\n",
    "    df = df[df['course_id'] == course_id]\n",
    "    \n",
    "    if df.shape[0] == 0:\n",
    "        return np.nan\n",
    "    \n",
    "    return df['rating'].mean()\n",
    "\n",
    "\n",
    "def num_reviews(course_id, df):\n",
    "    \"\"\" \n",
    "    Counts the number of reviews of a course\n",
    "    \n",
    "    :param course_id str: Course id\n",
    "                          \n",
    "    :return int: The number of reviews of a course\n",
    "    \"\"\"\n",
    "    df = df[df['course_id'] == course_id]\n",
    "    \n",
    "    return df.shape[0]\n",
    "\n",
    "\n",
    "def all_avg_rating(df):\n",
    "    \"\"\" \n",
    "    Computes the average rating of all courses (C)\n",
    "    \n",
    "    :param df DataFrame: Courses dataframe\n",
    "                          \n",
    "    :return float: The average rating of all courses in DataFrame\n",
    "    \"\"\"\n",
    "    df = df[~df['avg_rating'].isnull()]\n",
    "        \n",
    "    return df['avg_rating'].mean()\n",
    "\n",
    "\n",
    "def weighted_rating(row, C, m):\n",
    "    \"\"\" \n",
    "    Computes the weighted rating of a course\n",
    "    \n",
    "    :param row DataFrame row: A DataFrame row representing a course\n",
    "    :param C float: The average rating of all the courses in the dataset\n",
    "    :param m int: The minimum number of reviews required for the course to be listed\n",
    "                          \n",
    "    :return float: The average rating of all courses in DataFrame\n",
    "    \"\"\"\n",
    "    v = row['num_reviews']\n",
    "    R = row['avg_rating']\n",
    "    \n",
    "    if v == 0 and np.isnan(R):\n",
    "        return np.nan\n",
    "    \n",
    "    wr = (v * R / (v + m)) + (m * C / (v + m))\n",
    "    \n",
    "    return wr"
   ]
  },
  {
   "cell_type": "markdown",
   "metadata": {},
   "source": [
    "I must first calculate the rating average of each course:"
   ]
  },
  {
   "cell_type": "code",
   "execution_count": 115,
   "metadata": {},
   "outputs": [],
   "source": [
    "courses_df['avg_rating'] = courses_df['id'].apply(average_rating, args=(reviews_df,))"
   ]
  },
  {
   "cell_type": "markdown",
   "metadata": {},
   "source": [
    "Then, I count the number of reviews received for each course:"
   ]
  },
  {
   "cell_type": "code",
   "execution_count": 116,
   "metadata": {},
   "outputs": [],
   "source": [
    "courses_df['num_reviews'] = courses_df['id'].apply(num_reviews, args=(reviews_df,)).astype(int)"
   ]
  },
  {
   "cell_type": "markdown",
   "metadata": {},
   "source": [
    "And finally, I will calculate the weighted rating. Using 25 as a value for $m$, as I explained above."
   ]
  },
  {
   "cell_type": "code",
   "execution_count": 117,
   "metadata": {},
   "outputs": [],
   "source": [
    "C = all_avg_rating(courses_df)\n",
    "m = 25\n",
    "\n",
    "\n",
    "courses_df['weighted_rating'] = courses_df.apply(weighted_rating, axis=1, args=(C, m,))"
   ]
  },
  {
   "cell_type": "code",
   "execution_count": 118,
   "metadata": {},
   "outputs": [
    {
     "data": {
      "text/html": [
       "<div>\n",
       "<style scoped>\n",
       "    .dataframe tbody tr th:only-of-type {\n",
       "        vertical-align: middle;\n",
       "    }\n",
       "\n",
       "    .dataframe tbody tr th {\n",
       "        vertical-align: top;\n",
       "    }\n",
       "\n",
       "    .dataframe thead th {\n",
       "        text-align: right;\n",
       "    }\n",
       "</style>\n",
       "<table border=\"1\" class=\"dataframe\">\n",
       "  <thead>\n",
       "    <tr style=\"text-align: right;\">\n",
       "      <th></th>\n",
       "      <th>id</th>\n",
       "      <th>title</th>\n",
       "      <th>description</th>\n",
       "      <th>category</th>\n",
       "      <th>center</th>\n",
       "      <th>avg_rating</th>\n",
       "      <th>num_reviews</th>\n",
       "      <th>weighted_rating</th>\n",
       "    </tr>\n",
       "  </thead>\n",
       "  <tbody>\n",
       "    <tr>\n",
       "      <th>14544</th>\n",
       "      <td>170575432</td>\n",
       "      <td>Aerospace Engineering MEng (Hons) 4 years</td>\n",
       "      <td>The first two years of this course give you a ...</td>\n",
       "      <td>Engineering</td>\n",
       "      <td>University of Bath</td>\n",
       "      <td>10.0</td>\n",
       "      <td>44</td>\n",
       "      <td>9.731074</td>\n",
       "    </tr>\n",
       "    <tr>\n",
       "      <th>2949</th>\n",
       "      <td>170601662</td>\n",
       "      <td>Excel Intermediate Course</td>\n",
       "      <td>Course summary This Excel course is offered on...</td>\n",
       "      <td>Excel</td>\n",
       "      <td>PCWorkshops</td>\n",
       "      <td>10.0</td>\n",
       "      <td>44</td>\n",
       "      <td>9.731074</td>\n",
       "    </tr>\n",
       "    <tr>\n",
       "      <th>13730</th>\n",
       "      <td>170644676</td>\n",
       "      <td>Corporate English Training</td>\n",
       "      <td>Corporate English Training The London School o...</td>\n",
       "      <td>English</td>\n",
       "      <td>The London School of English</td>\n",
       "      <td>10.0</td>\n",
       "      <td>29</td>\n",
       "      <td>9.656372</td>\n",
       "    </tr>\n",
       "    <tr>\n",
       "      <th>11903</th>\n",
       "      <td>170040286</td>\n",
       "      <td>Drafting and Negotiating International Agency ...</td>\n",
       "      <td>This two-day interactive course is targeted a...</td>\n",
       "      <td>International Law</td>\n",
       "      <td>Falconbury Ltd</td>\n",
       "      <td>10.0</td>\n",
       "      <td>27</td>\n",
       "      <td>9.643155</td>\n",
       "    </tr>\n",
       "    <tr>\n",
       "      <th>11900</th>\n",
       "      <td>170040323</td>\n",
       "      <td>Drafting Commercial Contracts</td>\n",
       "      <td>Do you want to negotiate and draft clear and c...</td>\n",
       "      <td>Business Law</td>\n",
       "      <td>Falconbury Ltd</td>\n",
       "      <td>10.0</td>\n",
       "      <td>26</td>\n",
       "      <td>9.636158</td>\n",
       "    </tr>\n",
       "  </tbody>\n",
       "</table>\n",
       "</div>"
      ],
      "text/plain": [
       "              id                                              title  \\\n",
       "14544  170575432          Aerospace Engineering MEng (Hons) 4 years   \n",
       "2949   170601662                          Excel Intermediate Course   \n",
       "13730  170644676                         Corporate English Training   \n",
       "11903  170040286  Drafting and Negotiating International Agency ...   \n",
       "11900  170040323                      Drafting Commercial Contracts   \n",
       "\n",
       "                                             description           category  \\\n",
       "14544  The first two years of this course give you a ...        Engineering   \n",
       "2949   Course summary This Excel course is offered on...              Excel   \n",
       "13730  Corporate English Training The London School o...            English   \n",
       "11903   This two-day interactive course is targeted a...  International Law   \n",
       "11900  Do you want to negotiate and draft clear and c...       Business Law   \n",
       "\n",
       "                             center  avg_rating  num_reviews  weighted_rating  \n",
       "14544            University of Bath        10.0           44         9.731074  \n",
       "2949                    PCWorkshops        10.0           44         9.731074  \n",
       "13730  The London School of English        10.0           29         9.656372  \n",
       "11903                Falconbury Ltd        10.0           27         9.643155  \n",
       "11900                Falconbury Ltd        10.0           26         9.636158  "
      ]
     },
     "execution_count": 118,
     "metadata": {},
     "output_type": "execute_result"
    }
   ],
   "source": [
    "courses_df.sort_values('weighted_rating', ascending=False).head()"
   ]
  },
  {
   "cell_type": "markdown",
   "metadata": {},
   "source": [
    "### 4.3 Add number of leads to courses_df\n",
    "Now, I will add a column to the courses_df indicating the number of leads generated for each course."
   ]
  },
  {
   "cell_type": "code",
   "execution_count": 119,
   "metadata": {},
   "outputs": [],
   "source": [
    "lead_counts = leads_df.groupby('course_id').count()['user_id']\n",
    "def number_of_leads(course_id):\n",
    "    \"\"\" \n",
    "    Counts the number of leads generated by a course\n",
    "    \n",
    "    :param course_id str: Course id\n",
    "                          \n",
    "    :return int: The number of leads generated by a course\n",
    "    \"\"\"\n",
    "    try:\n",
    "        return lead_counts.loc[course_id]\n",
    "    except KeyError:\n",
    "        return 0"
   ]
  },
  {
   "cell_type": "code",
   "execution_count": 120,
   "metadata": {},
   "outputs": [],
   "source": [
    "courses_df['number_of_leads'] = courses_df['id'].apply(number_of_leads).astype(int)"
   ]
  },
  {
   "cell_type": "code",
   "execution_count": 121,
   "metadata": {},
   "outputs": [
    {
     "name": "stdout",
     "output_type": "stream",
     "text": [
      "<class 'pandas.core.frame.DataFrame'>\n",
      "Int64Index: 17323 entries, 0 to 17534\n",
      "Data columns (total 9 columns):\n",
      "id                 17323 non-null object\n",
      "title              17323 non-null object\n",
      "description        17323 non-null object\n",
      "category           17323 non-null object\n",
      "center             17323 non-null object\n",
      "avg_rating         7045 non-null float64\n",
      "num_reviews        17323 non-null int64\n",
      "weighted_rating    7045 non-null float64\n",
      "number_of_leads    17323 non-null int64\n",
      "dtypes: float64(2), int64(2), object(5)\n",
      "memory usage: 1.3+ MB\n"
     ]
    }
   ],
   "source": [
    "courses_df.info()"
   ]
  },
  {
   "cell_type": "markdown",
   "metadata": {},
   "source": [
    "### 4.4 Save courses to database"
   ]
  },
  {
   "cell_type": "code",
   "execution_count": 134,
   "metadata": {},
   "outputs": [],
   "source": [
    "# Creates the 'courses' table\n",
    "\n",
    "sql_drop = 'DROP TABLE IF EXISTS `courses`'\n",
    "c = connection().execute(sql_drop)\n",
    "\n",
    "sql_create = \"\"\"CREATE TABLE `courses` (\n",
    "  `id` varchar(9) NOT NULL,\n",
    "  `title` text,\n",
    "  `description` text,\n",
    "  `center` varchar(100) NOT NULL,\n",
    "  `avg_rating` double DEFAULT NULL,\n",
    "  `num_reviews` int(11) DEFAULT NULL,\n",
    "  `weighted_rating` double DEFAULT NULL,\n",
    "  `number_of_leads` int(11) DEFAULT NULL,\n",
    "  `category_id` int(11) NOT NULL,\n",
    "  PRIMARY KEY (`id`),\n",
    "  KEY `courses_category_id_index` (`category_id`)\n",
    ") ENGINE=InnoDB DEFAULT CHARSET=utf8\n",
    "\"\"\"\n",
    "c = connection().execute(sql_create)\n",
    "\n",
    "# Save courses to database\n",
    "courses_df.to_sql('courses', con=connection(), if_exists='append', index=False)"
   ]
  },
  {
   "cell_type": "markdown",
   "metadata": {},
   "source": [
    "## 5 Create a categories dataframe\n",
    "\n",
    "I will create a categories DataFrame to store the categories of the courses. This will be useful in the web application to navigate through the different categories. "
   ]
  },
  {
   "cell_type": "code",
   "execution_count": 122,
   "metadata": {},
   "outputs": [],
   "source": [
    "categories = courses_df['category'].unique()"
   ]
  },
  {
   "cell_type": "code",
   "execution_count": 123,
   "metadata": {},
   "outputs": [],
   "source": [
    "categories_df = pd.DataFrame(categories, columns=['name']).reset_index()"
   ]
  },
  {
   "cell_type": "code",
   "execution_count": 124,
   "metadata": {},
   "outputs": [
    {
     "name": "stdout",
     "output_type": "stream",
     "text": [
      "<class 'pandas.core.frame.DataFrame'>\n",
      "RangeIndex: 253 entries, 0 to 252\n",
      "Data columns (total 2 columns):\n",
      "index    253 non-null int64\n",
      "name     253 non-null object\n",
      "dtypes: int64(1), object(1)\n",
      "memory usage: 4.0+ KB\n"
     ]
    }
   ],
   "source": [
    "categories_df.info()"
   ]
  },
  {
   "cell_type": "code",
   "execution_count": 125,
   "metadata": {},
   "outputs": [],
   "source": [
    "# Convert the index into a column\n",
    "categories_df.rename(columns={'index': 'id'}, inplace=True)"
   ]
  },
  {
   "cell_type": "code",
   "execution_count": 126,
   "metadata": {},
   "outputs": [
    {
     "name": "stdout",
     "output_type": "stream",
     "text": [
      "<class 'pandas.core.frame.DataFrame'>\n",
      "RangeIndex: 253 entries, 0 to 252\n",
      "Data columns (total 2 columns):\n",
      "id      253 non-null int64\n",
      "name    253 non-null object\n",
      "dtypes: int64(1), object(1)\n",
      "memory usage: 4.0+ KB\n"
     ]
    }
   ],
   "source": [
    "categories_df.info()"
   ]
  },
  {
   "cell_type": "code",
   "execution_count": 127,
   "metadata": {},
   "outputs": [],
   "source": [
    "# This is to avoid identifiers with 0 value\n",
    "categories_df['id'] = categories_df['id'].apply(lambda x: x + 1)"
   ]
  },
  {
   "cell_type": "code",
   "execution_count": 128,
   "metadata": {},
   "outputs": [
    {
     "data": {
      "text/html": [
       "<div>\n",
       "<style scoped>\n",
       "    .dataframe tbody tr th:only-of-type {\n",
       "        vertical-align: middle;\n",
       "    }\n",
       "\n",
       "    .dataframe tbody tr th {\n",
       "        vertical-align: top;\n",
       "    }\n",
       "\n",
       "    .dataframe thead th {\n",
       "        text-align: right;\n",
       "    }\n",
       "</style>\n",
       "<table border=\"1\" class=\"dataframe\">\n",
       "  <thead>\n",
       "    <tr style=\"text-align: right;\">\n",
       "      <th></th>\n",
       "      <th>id</th>\n",
       "      <th>name</th>\n",
       "    </tr>\n",
       "  </thead>\n",
       "  <tbody>\n",
       "    <tr>\n",
       "      <th>0</th>\n",
       "      <td>1</td>\n",
       "      <td>Other Web Design</td>\n",
       "    </tr>\n",
       "    <tr>\n",
       "      <th>1</th>\n",
       "      <td>2</td>\n",
       "      <td>Office Systems</td>\n",
       "    </tr>\n",
       "    <tr>\n",
       "      <th>2</th>\n",
       "      <td>3</td>\n",
       "      <td>HomeSite</td>\n",
       "    </tr>\n",
       "    <tr>\n",
       "      <th>3</th>\n",
       "      <td>4</td>\n",
       "      <td>Engineering</td>\n",
       "    </tr>\n",
       "    <tr>\n",
       "      <th>4</th>\n",
       "      <td>5</td>\n",
       "      <td>Marketing  Operations</td>\n",
       "    </tr>\n",
       "  </tbody>\n",
       "</table>\n",
       "</div>"
      ],
      "text/plain": [
       "   id                   name\n",
       "0   1      Other Web Design \n",
       "1   2         Office Systems\n",
       "2   3               HomeSite\n",
       "3   4            Engineering\n",
       "4   5  Marketing  Operations"
      ]
     },
     "execution_count": 128,
     "metadata": {},
     "output_type": "execute_result"
    }
   ],
   "source": [
    "categories_df.head()"
   ]
  },
  {
   "cell_type": "markdown",
   "metadata": {},
   "source": [
    "### 5.1 Add category id to courses dataframe"
   ]
  },
  {
   "cell_type": "code",
   "execution_count": 129,
   "metadata": {},
   "outputs": [],
   "source": [
    "def category_id(category_name):\n",
    "    \"\"\"Search for a category by name in the category data frame and return its identifier\n",
    "\n",
    "    :param category_name: Category name\n",
    "    :return: The category id\n",
    "    \"\"\"\n",
    "    return categories_df[categories_df['name'] == category_name]['id'].values[0]\n",
    "    "
   ]
  },
  {
   "cell_type": "code",
   "execution_count": 130,
   "metadata": {},
   "outputs": [],
   "source": [
    "courses_df['category_id'] = courses_df['category'].apply(category_id)"
   ]
  },
  {
   "cell_type": "code",
   "execution_count": 131,
   "metadata": {},
   "outputs": [],
   "source": [
    "# Removes the category name from courses_df\n",
    "courses_df.drop('category', inplace=True, axis=1)"
   ]
  },
  {
   "cell_type": "markdown",
   "metadata": {},
   "source": [
    "### 5.2 Save categories to database"
   ]
  },
  {
   "cell_type": "code",
   "execution_count": 133,
   "metadata": {},
   "outputs": [],
   "source": [
    "# Creates the 'categories' table\n",
    "\n",
    "sql_drop = 'DROP TABLE IF EXISTS `categories`'\n",
    "c = connection().execute(sql_drop)\n",
    "\n",
    "sql_create = \"\"\"CREATE TABLE `categories` (\n",
    "  `id` int(11) NOT NULL,\n",
    "  `name` varchar(200) NOT NULL,\n",
    "  PRIMARY KEY (`id`)\n",
    ") ENGINE=InnoDB DEFAULT CHARSET=utf8\n",
    "\"\"\"\n",
    "c = connection().execute(sql_create)\n",
    "\n",
    "# Save categories to database\n",
    "categories_df.to_sql('categories', con=connection(), if_exists='append', index=False)\n"
   ]
  },
  {
   "cell_type": "code",
   "execution_count": null,
   "metadata": {},
   "outputs": [],
   "source": []
  }
 ],
 "metadata": {
  "kernelspec": {
   "display_name": "Python 3",
   "language": "python",
   "name": "python3"
  },
  "language_info": {
   "codemirror_mode": {
    "name": "ipython",
    "version": 3
   },
   "file_extension": ".py",
   "mimetype": "text/x-python",
   "name": "python",
   "nbconvert_exporter": "python",
   "pygments_lexer": "ipython3",
   "version": "3.7.3"
  },
  "latex_envs": {
   "LaTeX_envs_menu_present": true,
   "autoclose": false,
   "autocomplete": true,
   "bibliofile": "biblio.bib",
   "cite_by": "apalike",
   "current_citInitial": 1,
   "eqLabelWithNumbers": true,
   "eqNumInitial": 1,
   "hotkeys": {
    "equation": "Ctrl-E",
    "itemize": "Ctrl-I"
   },
   "labels_anchors": false,
   "latex_user_defs": false,
   "report_style_numbering": false,
   "user_envs_cfg": false
  },
  "pycharm": {
   "stem_cell": {
    "cell_type": "raw",
    "metadata": {
     "collapsed": false
    },
    "source": []
   }
  }
 },
 "nbformat": 4,
 "nbformat_minor": 2
}
