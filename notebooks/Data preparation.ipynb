{
 "cells": [
  {
   "cell_type": "code",
   "execution_count": 128,
   "metadata": {},
   "outputs": [],
   "source": [
    "import numpy as np\n",
    "import pandas as pd\n",
    "import hashlib"
   ]
  },
  {
   "cell_type": "code",
   "execution_count": 129,
   "metadata": {},
   "outputs": [],
   "source": [
    "courses = pd.read_csv('raw_data/courses.csv', dtype={'course_id': str})\n",
    "reviews = pd.read_csv('raw_data/reviews.csv', dtype={'course_id': str})\n",
    "leads = pd.read_csv('raw_data/leads.csv', dtype={'course_id': str})\n",
    "enrollments = pd.read_csv('raw_data/enrolments.csv', dtype={'course_id': str})"
   ]
  },
  {
   "cell_type": "code",
   "execution_count": 130,
   "metadata": {},
   "outputs": [],
   "source": [
    "def hash_id(id):\n",
    "    if pd.isnull(id):\n",
    "        return np.nan\n",
    "    \n",
    "    return hashlib.md5(id.encode()).hexdigest()"
   ]
  },
  {
   "cell_type": "markdown",
   "metadata": {},
   "source": [
    "### Hash course ids and user ids"
   ]
  },
  {
   "cell_type": "code",
   "execution_count": 131,
   "metadata": {},
   "outputs": [
    {
     "name": "stdout",
     "output_type": "stream",
     "text": [
      "<class 'pandas.core.frame.DataFrame'>\n",
      "RangeIndex: 40000 entries, 0 to 39999\n",
      "Data columns (total 5 columns):\n",
      "user_id            40000 non-null object\n",
      "course_id          40000 non-null object\n",
      "rating             40000 non-null int64\n",
      "would_recommend    40000 non-null int64\n",
      "created_on         40000 non-null object\n",
      "dtypes: int64(2), object(3)\n",
      "memory usage: 1.5+ MB\n"
     ]
    }
   ],
   "source": [
    "reviews.info()"
   ]
  },
  {
   "cell_type": "code",
   "execution_count": 132,
   "metadata": {},
   "outputs": [
    {
     "data": {
      "text/html": [
       "<div>\n",
       "<style scoped>\n",
       "    .dataframe tbody tr th:only-of-type {\n",
       "        vertical-align: middle;\n",
       "    }\n",
       "\n",
       "    .dataframe tbody tr th {\n",
       "        vertical-align: top;\n",
       "    }\n",
       "\n",
       "    .dataframe thead th {\n",
       "        text-align: right;\n",
       "    }\n",
       "</style>\n",
       "<table border=\"1\" class=\"dataframe\">\n",
       "  <thead>\n",
       "    <tr style=\"text-align: right;\">\n",
       "      <th></th>\n",
       "      <th>user_id</th>\n",
       "      <th>course_id</th>\n",
       "      <th>rating</th>\n",
       "      <th>would_recommend</th>\n",
       "      <th>created_on</th>\n",
       "    </tr>\n",
       "  </thead>\n",
       "  <tbody>\n",
       "    <tr>\n",
       "      <th>0</th>\n",
       "      <td>99999992768213172242341862848683</td>\n",
       "      <td>3468302</td>\n",
       "      <td>10</td>\n",
       "      <td>1</td>\n",
       "      <td>2019-11-28 17:36:56.0</td>\n",
       "    </tr>\n",
       "    <tr>\n",
       "      <th>1</th>\n",
       "      <td>99999992768213172242341864619086</td>\n",
       "      <td>3546634</td>\n",
       "      <td>8</td>\n",
       "      <td>1</td>\n",
       "      <td>2019-11-27 23:20:28.0</td>\n",
       "    </tr>\n",
       "    <tr>\n",
       "      <th>2</th>\n",
       "      <td>99999992768213172242341862276225</td>\n",
       "      <td>3463038</td>\n",
       "      <td>10</td>\n",
       "      <td>1</td>\n",
       "      <td>2019-11-27 12:48:58.0</td>\n",
       "    </tr>\n",
       "    <tr>\n",
       "      <th>3</th>\n",
       "      <td>99999992768213172242341864879224</td>\n",
       "      <td>3005366</td>\n",
       "      <td>8</td>\n",
       "      <td>1</td>\n",
       "      <td>2019-11-24 15:09:45.0</td>\n",
       "    </tr>\n",
       "    <tr>\n",
       "      <th>4</th>\n",
       "      <td>99999992768213172242341864788114</td>\n",
       "      <td>3598509</td>\n",
       "      <td>10</td>\n",
       "      <td>1</td>\n",
       "      <td>2019-11-24 13:50:17.0</td>\n",
       "    </tr>\n",
       "  </tbody>\n",
       "</table>\n",
       "</div>"
      ],
      "text/plain": [
       "                            user_id course_id  rating  would_recommend  \\\n",
       "0  99999992768213172242341862848683   3468302      10                1   \n",
       "1  99999992768213172242341864619086   3546634       8                1   \n",
       "2  99999992768213172242341862276225   3463038      10                1   \n",
       "3  99999992768213172242341864879224   3005366       8                1   \n",
       "4  99999992768213172242341864788114   3598509      10                1   \n",
       "\n",
       "              created_on  \n",
       "0  2019-11-28 17:36:56.0  \n",
       "1  2019-11-27 23:20:28.0  \n",
       "2  2019-11-27 12:48:58.0  \n",
       "3  2019-11-24 15:09:45.0  \n",
       "4  2019-11-24 13:50:17.0  "
      ]
     },
     "execution_count": 132,
     "metadata": {},
     "output_type": "execute_result"
    }
   ],
   "source": [
    "reviews.head()"
   ]
  },
  {
   "cell_type": "code",
   "execution_count": 133,
   "metadata": {},
   "outputs": [
    {
     "data": {
      "text/plain": [
       "(32609, 16173)"
      ]
     },
     "execution_count": 133,
     "metadata": {},
     "output_type": "execute_result"
    }
   ],
   "source": [
    "reviews['user_id'].nunique(), reviews['course_id'].nunique()"
   ]
  },
  {
   "cell_type": "code",
   "execution_count": 134,
   "metadata": {},
   "outputs": [],
   "source": [
    "reviews['user_id'] = reviews['user_id'].apply(hash_id)\n",
    "reviews['course_id'] = reviews['course_id'].apply(hash_id)"
   ]
  },
  {
   "cell_type": "code",
   "execution_count": 135,
   "metadata": {},
   "outputs": [
    {
     "data": {
      "text/plain": [
       "(32609, 16173)"
      ]
     },
     "execution_count": 135,
     "metadata": {},
     "output_type": "execute_result"
    }
   ],
   "source": [
    "reviews['user_id'].nunique(), reviews['course_id'].nunique()"
   ]
  },
  {
   "cell_type": "code",
   "execution_count": 136,
   "metadata": {},
   "outputs": [
    {
     "data": {
      "text/html": [
       "<div>\n",
       "<style scoped>\n",
       "    .dataframe tbody tr th:only-of-type {\n",
       "        vertical-align: middle;\n",
       "    }\n",
       "\n",
       "    .dataframe tbody tr th {\n",
       "        vertical-align: top;\n",
       "    }\n",
       "\n",
       "    .dataframe thead th {\n",
       "        text-align: right;\n",
       "    }\n",
       "</style>\n",
       "<table border=\"1\" class=\"dataframe\">\n",
       "  <thead>\n",
       "    <tr style=\"text-align: right;\">\n",
       "      <th></th>\n",
       "      <th>user_id</th>\n",
       "      <th>course_id</th>\n",
       "      <th>rating</th>\n",
       "      <th>would_recommend</th>\n",
       "      <th>created_on</th>\n",
       "    </tr>\n",
       "  </thead>\n",
       "  <tbody>\n",
       "    <tr>\n",
       "      <th>0</th>\n",
       "      <td>51032d220ab2279b636f1b6281b4ae58</td>\n",
       "      <td>767e2c2694eba8846b43907ce13339d6</td>\n",
       "      <td>10</td>\n",
       "      <td>1</td>\n",
       "      <td>2019-11-28 17:36:56.0</td>\n",
       "    </tr>\n",
       "    <tr>\n",
       "      <th>1</th>\n",
       "      <td>28c2598b9595df51264eb811492d9394</td>\n",
       "      <td>31ad7e4bb73e736dcc219b65ad70f9f2</td>\n",
       "      <td>8</td>\n",
       "      <td>1</td>\n",
       "      <td>2019-11-27 23:20:28.0</td>\n",
       "    </tr>\n",
       "    <tr>\n",
       "      <th>2</th>\n",
       "      <td>559ead19ade9b2075cc673806be024d3</td>\n",
       "      <td>0dc630bd6b91c59bd642268c55d5d369</td>\n",
       "      <td>10</td>\n",
       "      <td>1</td>\n",
       "      <td>2019-11-27 12:48:58.0</td>\n",
       "    </tr>\n",
       "    <tr>\n",
       "      <th>3</th>\n",
       "      <td>13043f6b28ef0eb89d0de5fd37840006</td>\n",
       "      <td>f1773d38b79747ac29664cbf6ba78242</td>\n",
       "      <td>8</td>\n",
       "      <td>1</td>\n",
       "      <td>2019-11-24 15:09:45.0</td>\n",
       "    </tr>\n",
       "    <tr>\n",
       "      <th>4</th>\n",
       "      <td>5da6b9b0733df5317edab20016605642</td>\n",
       "      <td>96583309b833d38b83fadfbf994f0e1c</td>\n",
       "      <td>10</td>\n",
       "      <td>1</td>\n",
       "      <td>2019-11-24 13:50:17.0</td>\n",
       "    </tr>\n",
       "  </tbody>\n",
       "</table>\n",
       "</div>"
      ],
      "text/plain": [
       "                            user_id                         course_id  rating  \\\n",
       "0  51032d220ab2279b636f1b6281b4ae58  767e2c2694eba8846b43907ce13339d6      10   \n",
       "1  28c2598b9595df51264eb811492d9394  31ad7e4bb73e736dcc219b65ad70f9f2       8   \n",
       "2  559ead19ade9b2075cc673806be024d3  0dc630bd6b91c59bd642268c55d5d369      10   \n",
       "3  13043f6b28ef0eb89d0de5fd37840006  f1773d38b79747ac29664cbf6ba78242       8   \n",
       "4  5da6b9b0733df5317edab20016605642  96583309b833d38b83fadfbf994f0e1c      10   \n",
       "\n",
       "   would_recommend             created_on  \n",
       "0                1  2019-11-28 17:36:56.0  \n",
       "1                1  2019-11-27 23:20:28.0  \n",
       "2                1  2019-11-27 12:48:58.0  \n",
       "3                1  2019-11-24 15:09:45.0  \n",
       "4                1  2019-11-24 13:50:17.0  "
      ]
     },
     "execution_count": 136,
     "metadata": {},
     "output_type": "execute_result"
    }
   ],
   "source": [
    "reviews.head()"
   ]
  },
  {
   "cell_type": "code",
   "execution_count": 137,
   "metadata": {},
   "outputs": [],
   "source": [
    "reviews.to_csv('data/reviews.csv', index=False)"
   ]
  },
  {
   "cell_type": "markdown",
   "metadata": {},
   "source": [
    "### Hashing course ids"
   ]
  },
  {
   "cell_type": "code",
   "execution_count": 138,
   "metadata": {},
   "outputs": [
    {
     "name": "stdout",
     "output_type": "stream",
     "text": [
      "<class 'pandas.core.frame.DataFrame'>\n",
      "RangeIndex: 41899 entries, 0 to 41898\n",
      "Data columns (total 15 columns):\n",
      "course_id      41899 non-null object\n",
      "center_id      41899 non-null object\n",
      "url            41899 non-null object\n",
      "title          41899 non-null object\n",
      "description    41649 non-null object\n",
      "syllabus       41895 non-null object\n",
      "methodology    41899 non-null object\n",
      "category       41899 non-null object\n",
      "family         41897 non-null object\n",
      "course_type    41899 non-null object\n",
      "price_range    34688 non-null object\n",
      "duration       15339 non-null object\n",
      "language       41899 non-null object\n",
      "region         13424 non-null float64\n",
      "updated_on     41899 non-null object\n",
      "dtypes: float64(1), object(14)\n",
      "memory usage: 4.8+ MB\n"
     ]
    }
   ],
   "source": [
    "courses.info()"
   ]
  },
  {
   "cell_type": "code",
   "execution_count": 139,
   "metadata": {},
   "outputs": [
    {
     "data": {
      "text/html": [
       "<div>\n",
       "<style scoped>\n",
       "    .dataframe tbody tr th:only-of-type {\n",
       "        vertical-align: middle;\n",
       "    }\n",
       "\n",
       "    .dataframe tbody tr th {\n",
       "        vertical-align: top;\n",
       "    }\n",
       "\n",
       "    .dataframe thead th {\n",
       "        text-align: right;\n",
       "    }\n",
       "</style>\n",
       "<table border=\"1\" class=\"dataframe\">\n",
       "  <thead>\n",
       "    <tr style=\"text-align: right;\">\n",
       "      <th></th>\n",
       "      <th>course_id</th>\n",
       "      <th>center_id</th>\n",
       "      <th>url</th>\n",
       "      <th>title</th>\n",
       "      <th>description</th>\n",
       "      <th>syllabus</th>\n",
       "      <th>methodology</th>\n",
       "      <th>category</th>\n",
       "      <th>family</th>\n",
       "      <th>course_type</th>\n",
       "      <th>price_range</th>\n",
       "      <th>duration</th>\n",
       "      <th>language</th>\n",
       "      <th>region</th>\n",
       "      <th>updated_on</th>\n",
       "    </tr>\n",
       "  </thead>\n",
       "  <tbody>\n",
       "    <tr>\n",
       "      <th>0</th>\n",
       "      <td>3328746</td>\n",
       "      <td>99997192958079401036578245533930</td>\n",
       "      <td>/curso-calculo-construccion-pilotes-zonas-sism...</td>\n",
       "      <td>Curso de cálculo y construcción de pilotes en ...</td>\n",
       "      <td>Se trata de un curso de alto nivel para el con...</td>\n",
       "      <td>&lt;p&gt;El curso se encuadrar&amp;aacute; en siete de U...</td>\n",
       "      <td>Online</td>\n",
       "      <td>Ingeniería civil</td>\n",
       "      <td>Inmobiliaria y construcción</td>\n",
       "      <td>Curso</td>\n",
       "      <td>151-300 €</td>\n",
       "      <td>Año(s)</td>\n",
       "      <td>Castellano</td>\n",
       "      <td>NaN</td>\n",
       "      <td>2019-12-02 11:50:33.0</td>\n",
       "    </tr>\n",
       "    <tr>\n",
       "      <th>1</th>\n",
       "      <td>3528894</td>\n",
       "      <td>99997192958079401036578245533930</td>\n",
       "      <td>/curso-diseno-calculo-estructuras-acero-metodo...</td>\n",
       "      <td>Curso de Diseño y cálculo de estructuras de ac...</td>\n",
       "      <td>Dadas las nuevas tendencias y requerimientos B...</td>\n",
       "      <td>&lt;p&gt;TEMA 01 | INTRODUCCI&amp;Oacute;N AL DISE&amp;Ntild...</td>\n",
       "      <td>Online</td>\n",
       "      <td>Ingeniería civil</td>\n",
       "      <td>Inmobiliaria y construcción</td>\n",
       "      <td>Curso</td>\n",
       "      <td>151-300 €</td>\n",
       "      <td>Año(s)</td>\n",
       "      <td>Castellano</td>\n",
       "      <td>NaN</td>\n",
       "      <td>2019-12-02 11:50:12.0</td>\n",
       "    </tr>\n",
       "    <tr>\n",
       "      <th>2</th>\n",
       "      <td>2780144</td>\n",
       "      <td>40181100082250516849485256694567</td>\n",
       "      <td>/curso-para-profundizar-norma-ifs-cursos-27801...</td>\n",
       "      <td>Norma Ifs - Food V.6.1 (online)</td>\n",
       "      <td>¿Sabes cómo gestionar la seguridad alimentaria...</td>\n",
       "      <td>&lt;p&gt;&lt;strong&gt;M&amp;oacute;dulo 1.&amp;nbsp; Fundamentos ...</td>\n",
       "      <td>Online</td>\n",
       "      <td>Calidad alimentaria</td>\n",
       "      <td>Industria</td>\n",
       "      <td>Curso</td>\n",
       "      <td>151-300 €</td>\n",
       "      <td>NaN</td>\n",
       "      <td>Castellano</td>\n",
       "      <td>NaN</td>\n",
       "      <td>2019-12-02 11:47:44.0</td>\n",
       "    </tr>\n",
       "    <tr>\n",
       "      <th>3</th>\n",
       "      <td>2678879</td>\n",
       "      <td>51859010040551486953485250494565</td>\n",
       "      <td>/gestion-del-modelo-financiacion-formacion-con...</td>\n",
       "      <td>Gestión del Modelo de Financiación de la Forma...</td>\n",
       "      <td>¿Te gustaría conocer hasta el último detalle s...</td>\n",
       "      <td>&lt;p&gt;&lt;strong&gt;DIA 1- Nivel intermedio&lt;/strong&gt;&lt;br...</td>\n",
       "      <td>Presencial</td>\n",
       "      <td>Formación de personal</td>\n",
       "      <td>Administración de empresas</td>\n",
       "      <td>Curso subvencionado para trabajadores</td>\n",
       "      <td>501-1000 €</td>\n",
       "      <td>Mes(es)</td>\n",
       "      <td>Castellano</td>\n",
       "      <td>35.0</td>\n",
       "      <td>2019-12-02 11:46:14.0</td>\n",
       "    </tr>\n",
       "    <tr>\n",
       "      <th>4</th>\n",
       "      <td>2466756</td>\n",
       "      <td>51859010040551486953485250494565</td>\n",
       "      <td>/gestion-del-modelo-financiacion-formacion-con...</td>\n",
       "      <td>Gestión del Modelo de Financiación de la Forma...</td>\n",
       "      <td>Si quieres aprender a gestionar la formación c...</td>\n",
       "      <td>&lt;p&gt;&amp;bull; Alternativas de Gesti&amp;oacute;n:&lt;/p&gt;\\...</td>\n",
       "      <td>Presencial</td>\n",
       "      <td>Formación de personal</td>\n",
       "      <td>Administración de empresas</td>\n",
       "      <td>Curso subvencionado para trabajadores</td>\n",
       "      <td>301-500 €</td>\n",
       "      <td>Día(s)</td>\n",
       "      <td>Castellano</td>\n",
       "      <td>35.0</td>\n",
       "      <td>2019-12-02 11:45:07.0</td>\n",
       "    </tr>\n",
       "  </tbody>\n",
       "</table>\n",
       "</div>"
      ],
      "text/plain": [
       "  course_id                         center_id  \\\n",
       "0   3328746  99997192958079401036578245533930   \n",
       "1   3528894  99997192958079401036578245533930   \n",
       "2   2780144  40181100082250516849485256694567   \n",
       "3   2678879  51859010040551486953485250494565   \n",
       "4   2466756  51859010040551486953485250494565   \n",
       "\n",
       "                                                 url  \\\n",
       "0  /curso-calculo-construccion-pilotes-zonas-sism...   \n",
       "1  /curso-diseno-calculo-estructuras-acero-metodo...   \n",
       "2  /curso-para-profundizar-norma-ifs-cursos-27801...   \n",
       "3  /gestion-del-modelo-financiacion-formacion-con...   \n",
       "4  /gestion-del-modelo-financiacion-formacion-con...   \n",
       "\n",
       "                                               title  \\\n",
       "0  Curso de cálculo y construcción de pilotes en ...   \n",
       "1  Curso de Diseño y cálculo de estructuras de ac...   \n",
       "2                    Norma Ifs - Food V.6.1 (online)   \n",
       "3  Gestión del Modelo de Financiación de la Forma...   \n",
       "4  Gestión del Modelo de Financiación de la Forma...   \n",
       "\n",
       "                                         description  \\\n",
       "0  Se trata de un curso de alto nivel para el con...   \n",
       "1  Dadas las nuevas tendencias y requerimientos B...   \n",
       "2  ¿Sabes cómo gestionar la seguridad alimentaria...   \n",
       "3  ¿Te gustaría conocer hasta el último detalle s...   \n",
       "4  Si quieres aprender a gestionar la formación c...   \n",
       "\n",
       "                                            syllabus methodology  \\\n",
       "0  <p>El curso se encuadrar&aacute; en siete de U...      Online   \n",
       "1  <p>TEMA 01 | INTRODUCCI&Oacute;N AL DISE&Ntild...      Online   \n",
       "2  <p><strong>M&oacute;dulo 1.&nbsp; Fundamentos ...      Online   \n",
       "3  <p><strong>DIA 1- Nivel intermedio</strong><br...  Presencial   \n",
       "4  <p>&bull; Alternativas de Gesti&oacute;n:</p>\\...  Presencial   \n",
       "\n",
       "                category                       family  \\\n",
       "0       Ingeniería civil  Inmobiliaria y construcción   \n",
       "1       Ingeniería civil  Inmobiliaria y construcción   \n",
       "2    Calidad alimentaria                    Industria   \n",
       "3  Formación de personal   Administración de empresas   \n",
       "4  Formación de personal   Administración de empresas   \n",
       "\n",
       "                             course_type price_range duration    language  \\\n",
       "0                                  Curso   151-300 €   Año(s)  Castellano   \n",
       "1                                  Curso   151-300 €   Año(s)  Castellano   \n",
       "2                                  Curso   151-300 €      NaN  Castellano   \n",
       "3  Curso subvencionado para trabajadores  501-1000 €  Mes(es)  Castellano   \n",
       "4  Curso subvencionado para trabajadores   301-500 €   Día(s)  Castellano   \n",
       "\n",
       "   region             updated_on  \n",
       "0     NaN  2019-12-02 11:50:33.0  \n",
       "1     NaN  2019-12-02 11:50:12.0  \n",
       "2     NaN  2019-12-02 11:47:44.0  \n",
       "3    35.0  2019-12-02 11:46:14.0  \n",
       "4    35.0  2019-12-02 11:45:07.0  "
      ]
     },
     "execution_count": 139,
     "metadata": {},
     "output_type": "execute_result"
    }
   ],
   "source": [
    "courses.head()"
   ]
  },
  {
   "cell_type": "code",
   "execution_count": 140,
   "metadata": {},
   "outputs": [
    {
     "data": {
      "text/plain": [
       "41899"
      ]
     },
     "execution_count": 140,
     "metadata": {},
     "output_type": "execute_result"
    }
   ],
   "source": [
    "courses['course_id'].nunique()"
   ]
  },
  {
   "cell_type": "code",
   "execution_count": 141,
   "metadata": {},
   "outputs": [],
   "source": [
    "courses['course_id'] = courses['course_id'].apply(hash_id)"
   ]
  },
  {
   "cell_type": "code",
   "execution_count": 142,
   "metadata": {},
   "outputs": [
    {
     "data": {
      "text/plain": [
       "41899"
      ]
     },
     "execution_count": 142,
     "metadata": {},
     "output_type": "execute_result"
    }
   ],
   "source": [
    "courses['course_id'].nunique()"
   ]
  },
  {
   "cell_type": "code",
   "execution_count": 143,
   "metadata": {},
   "outputs": [
    {
     "name": "stdout",
     "output_type": "stream",
     "text": [
      "<class 'pandas.core.frame.DataFrame'>\n",
      "RangeIndex: 41899 entries, 0 to 41898\n",
      "Data columns (total 15 columns):\n",
      "course_id      41899 non-null object\n",
      "center_id      41899 non-null object\n",
      "url            41899 non-null object\n",
      "title          41899 non-null object\n",
      "description    41649 non-null object\n",
      "syllabus       41895 non-null object\n",
      "methodology    41899 non-null object\n",
      "category       41899 non-null object\n",
      "family         41897 non-null object\n",
      "course_type    41899 non-null object\n",
      "price_range    34688 non-null object\n",
      "duration       15339 non-null object\n",
      "language       41899 non-null object\n",
      "region         13424 non-null float64\n",
      "updated_on     41899 non-null object\n",
      "dtypes: float64(1), object(14)\n",
      "memory usage: 4.8+ MB\n"
     ]
    }
   ],
   "source": [
    "courses.info()"
   ]
  },
  {
   "cell_type": "code",
   "execution_count": 144,
   "metadata": {},
   "outputs": [
    {
     "data": {
      "text/html": [
       "<div>\n",
       "<style scoped>\n",
       "    .dataframe tbody tr th:only-of-type {\n",
       "        vertical-align: middle;\n",
       "    }\n",
       "\n",
       "    .dataframe tbody tr th {\n",
       "        vertical-align: top;\n",
       "    }\n",
       "\n",
       "    .dataframe thead th {\n",
       "        text-align: right;\n",
       "    }\n",
       "</style>\n",
       "<table border=\"1\" class=\"dataframe\">\n",
       "  <thead>\n",
       "    <tr style=\"text-align: right;\">\n",
       "      <th></th>\n",
       "      <th>course_id</th>\n",
       "      <th>center_id</th>\n",
       "      <th>url</th>\n",
       "      <th>title</th>\n",
       "      <th>description</th>\n",
       "      <th>syllabus</th>\n",
       "      <th>methodology</th>\n",
       "      <th>category</th>\n",
       "      <th>family</th>\n",
       "      <th>course_type</th>\n",
       "      <th>price_range</th>\n",
       "      <th>duration</th>\n",
       "      <th>language</th>\n",
       "      <th>region</th>\n",
       "      <th>updated_on</th>\n",
       "    </tr>\n",
       "  </thead>\n",
       "  <tbody>\n",
       "    <tr>\n",
       "      <th>0</th>\n",
       "      <td>25d0482af56ef761d627104ff58241d2</td>\n",
       "      <td>99997192958079401036578245533930</td>\n",
       "      <td>/curso-calculo-construccion-pilotes-zonas-sism...</td>\n",
       "      <td>Curso de cálculo y construcción de pilotes en ...</td>\n",
       "      <td>Se trata de un curso de alto nivel para el con...</td>\n",
       "      <td>&lt;p&gt;El curso se encuadrar&amp;aacute; en siete de U...</td>\n",
       "      <td>Online</td>\n",
       "      <td>Ingeniería civil</td>\n",
       "      <td>Inmobiliaria y construcción</td>\n",
       "      <td>Curso</td>\n",
       "      <td>151-300 €</td>\n",
       "      <td>Año(s)</td>\n",
       "      <td>Castellano</td>\n",
       "      <td>NaN</td>\n",
       "      <td>2019-12-02 11:50:33.0</td>\n",
       "    </tr>\n",
       "    <tr>\n",
       "      <th>1</th>\n",
       "      <td>3f2735cdb4da9a61b532a50d47790e26</td>\n",
       "      <td>99997192958079401036578245533930</td>\n",
       "      <td>/curso-diseno-calculo-estructuras-acero-metodo...</td>\n",
       "      <td>Curso de Diseño y cálculo de estructuras de ac...</td>\n",
       "      <td>Dadas las nuevas tendencias y requerimientos B...</td>\n",
       "      <td>&lt;p&gt;TEMA 01 | INTRODUCCI&amp;Oacute;N AL DISE&amp;Ntild...</td>\n",
       "      <td>Online</td>\n",
       "      <td>Ingeniería civil</td>\n",
       "      <td>Inmobiliaria y construcción</td>\n",
       "      <td>Curso</td>\n",
       "      <td>151-300 €</td>\n",
       "      <td>Año(s)</td>\n",
       "      <td>Castellano</td>\n",
       "      <td>NaN</td>\n",
       "      <td>2019-12-02 11:50:12.0</td>\n",
       "    </tr>\n",
       "    <tr>\n",
       "      <th>2</th>\n",
       "      <td>3cc4c8696dcd68dd606842d2323827e1</td>\n",
       "      <td>40181100082250516849485256694567</td>\n",
       "      <td>/curso-para-profundizar-norma-ifs-cursos-27801...</td>\n",
       "      <td>Norma Ifs - Food V.6.1 (online)</td>\n",
       "      <td>¿Sabes cómo gestionar la seguridad alimentaria...</td>\n",
       "      <td>&lt;p&gt;&lt;strong&gt;M&amp;oacute;dulo 1.&amp;nbsp; Fundamentos ...</td>\n",
       "      <td>Online</td>\n",
       "      <td>Calidad alimentaria</td>\n",
       "      <td>Industria</td>\n",
       "      <td>Curso</td>\n",
       "      <td>151-300 €</td>\n",
       "      <td>NaN</td>\n",
       "      <td>Castellano</td>\n",
       "      <td>NaN</td>\n",
       "      <td>2019-12-02 11:47:44.0</td>\n",
       "    </tr>\n",
       "    <tr>\n",
       "      <th>3</th>\n",
       "      <td>58cf421dd698d0ee689eb5d4208e7dac</td>\n",
       "      <td>51859010040551486953485250494565</td>\n",
       "      <td>/gestion-del-modelo-financiacion-formacion-con...</td>\n",
       "      <td>Gestión del Modelo de Financiación de la Forma...</td>\n",
       "      <td>¿Te gustaría conocer hasta el último detalle s...</td>\n",
       "      <td>&lt;p&gt;&lt;strong&gt;DIA 1- Nivel intermedio&lt;/strong&gt;&lt;br...</td>\n",
       "      <td>Presencial</td>\n",
       "      <td>Formación de personal</td>\n",
       "      <td>Administración de empresas</td>\n",
       "      <td>Curso subvencionado para trabajadores</td>\n",
       "      <td>501-1000 €</td>\n",
       "      <td>Mes(es)</td>\n",
       "      <td>Castellano</td>\n",
       "      <td>35.0</td>\n",
       "      <td>2019-12-02 11:46:14.0</td>\n",
       "    </tr>\n",
       "    <tr>\n",
       "      <th>4</th>\n",
       "      <td>07eefa376a6f7bc75b8ad706f67c57af</td>\n",
       "      <td>51859010040551486953485250494565</td>\n",
       "      <td>/gestion-del-modelo-financiacion-formacion-con...</td>\n",
       "      <td>Gestión del Modelo de Financiación de la Forma...</td>\n",
       "      <td>Si quieres aprender a gestionar la formación c...</td>\n",
       "      <td>&lt;p&gt;&amp;bull; Alternativas de Gesti&amp;oacute;n:&lt;/p&gt;\\...</td>\n",
       "      <td>Presencial</td>\n",
       "      <td>Formación de personal</td>\n",
       "      <td>Administración de empresas</td>\n",
       "      <td>Curso subvencionado para trabajadores</td>\n",
       "      <td>301-500 €</td>\n",
       "      <td>Día(s)</td>\n",
       "      <td>Castellano</td>\n",
       "      <td>35.0</td>\n",
       "      <td>2019-12-02 11:45:07.0</td>\n",
       "    </tr>\n",
       "  </tbody>\n",
       "</table>\n",
       "</div>"
      ],
      "text/plain": [
       "                          course_id                         center_id  \\\n",
       "0  25d0482af56ef761d627104ff58241d2  99997192958079401036578245533930   \n",
       "1  3f2735cdb4da9a61b532a50d47790e26  99997192958079401036578245533930   \n",
       "2  3cc4c8696dcd68dd606842d2323827e1  40181100082250516849485256694567   \n",
       "3  58cf421dd698d0ee689eb5d4208e7dac  51859010040551486953485250494565   \n",
       "4  07eefa376a6f7bc75b8ad706f67c57af  51859010040551486953485250494565   \n",
       "\n",
       "                                                 url  \\\n",
       "0  /curso-calculo-construccion-pilotes-zonas-sism...   \n",
       "1  /curso-diseno-calculo-estructuras-acero-metodo...   \n",
       "2  /curso-para-profundizar-norma-ifs-cursos-27801...   \n",
       "3  /gestion-del-modelo-financiacion-formacion-con...   \n",
       "4  /gestion-del-modelo-financiacion-formacion-con...   \n",
       "\n",
       "                                               title  \\\n",
       "0  Curso de cálculo y construcción de pilotes en ...   \n",
       "1  Curso de Diseño y cálculo de estructuras de ac...   \n",
       "2                    Norma Ifs - Food V.6.1 (online)   \n",
       "3  Gestión del Modelo de Financiación de la Forma...   \n",
       "4  Gestión del Modelo de Financiación de la Forma...   \n",
       "\n",
       "                                         description  \\\n",
       "0  Se trata de un curso de alto nivel para el con...   \n",
       "1  Dadas las nuevas tendencias y requerimientos B...   \n",
       "2  ¿Sabes cómo gestionar la seguridad alimentaria...   \n",
       "3  ¿Te gustaría conocer hasta el último detalle s...   \n",
       "4  Si quieres aprender a gestionar la formación c...   \n",
       "\n",
       "                                            syllabus methodology  \\\n",
       "0  <p>El curso se encuadrar&aacute; en siete de U...      Online   \n",
       "1  <p>TEMA 01 | INTRODUCCI&Oacute;N AL DISE&Ntild...      Online   \n",
       "2  <p><strong>M&oacute;dulo 1.&nbsp; Fundamentos ...      Online   \n",
       "3  <p><strong>DIA 1- Nivel intermedio</strong><br...  Presencial   \n",
       "4  <p>&bull; Alternativas de Gesti&oacute;n:</p>\\...  Presencial   \n",
       "\n",
       "                category                       family  \\\n",
       "0       Ingeniería civil  Inmobiliaria y construcción   \n",
       "1       Ingeniería civil  Inmobiliaria y construcción   \n",
       "2    Calidad alimentaria                    Industria   \n",
       "3  Formación de personal   Administración de empresas   \n",
       "4  Formación de personal   Administración de empresas   \n",
       "\n",
       "                             course_type price_range duration    language  \\\n",
       "0                                  Curso   151-300 €   Año(s)  Castellano   \n",
       "1                                  Curso   151-300 €   Año(s)  Castellano   \n",
       "2                                  Curso   151-300 €      NaN  Castellano   \n",
       "3  Curso subvencionado para trabajadores  501-1000 €  Mes(es)  Castellano   \n",
       "4  Curso subvencionado para trabajadores   301-500 €   Día(s)  Castellano   \n",
       "\n",
       "   region             updated_on  \n",
       "0     NaN  2019-12-02 11:50:33.0  \n",
       "1     NaN  2019-12-02 11:50:12.0  \n",
       "2     NaN  2019-12-02 11:47:44.0  \n",
       "3    35.0  2019-12-02 11:46:14.0  \n",
       "4    35.0  2019-12-02 11:45:07.0  "
      ]
     },
     "execution_count": 144,
     "metadata": {},
     "output_type": "execute_result"
    }
   ],
   "source": [
    "courses.head()"
   ]
  },
  {
   "cell_type": "markdown",
   "metadata": {},
   "source": [
    "### Remove center info and url"
   ]
  },
  {
   "cell_type": "code",
   "execution_count": 145,
   "metadata": {},
   "outputs": [],
   "source": [
    "courses.drop(['center_id', 'url'], axis=1, inplace=True)"
   ]
  },
  {
   "cell_type": "code",
   "execution_count": 146,
   "metadata": {},
   "outputs": [
    {
     "name": "stdout",
     "output_type": "stream",
     "text": [
      "<class 'pandas.core.frame.DataFrame'>\n",
      "RangeIndex: 41899 entries, 0 to 41898\n",
      "Data columns (total 13 columns):\n",
      "course_id      41899 non-null object\n",
      "title          41899 non-null object\n",
      "description    41649 non-null object\n",
      "syllabus       41895 non-null object\n",
      "methodology    41899 non-null object\n",
      "category       41899 non-null object\n",
      "family         41897 non-null object\n",
      "course_type    41899 non-null object\n",
      "price_range    34688 non-null object\n",
      "duration       15339 non-null object\n",
      "language       41899 non-null object\n",
      "region         13424 non-null float64\n",
      "updated_on     41899 non-null object\n",
      "dtypes: float64(1), object(12)\n",
      "memory usage: 4.2+ MB\n"
     ]
    }
   ],
   "source": [
    "courses.info()"
   ]
  },
  {
   "cell_type": "code",
   "execution_count": 147,
   "metadata": {},
   "outputs": [],
   "source": [
    "courses.to_csv('data/courses.csv', index=False)"
   ]
  },
  {
   "cell_type": "markdown",
   "metadata": {},
   "source": [
    "### Hashing course ids and user ids"
   ]
  },
  {
   "cell_type": "code",
   "execution_count": 148,
   "metadata": {},
   "outputs": [
    {
     "data": {
      "text/plain": [
       "(24606, 22262)"
      ]
     },
     "execution_count": 148,
     "metadata": {},
     "output_type": "execute_result"
    }
   ],
   "source": [
    "leads['user_id'].nunique(), leads['course_id'].nunique()"
   ]
  },
  {
   "cell_type": "code",
   "execution_count": 149,
   "metadata": {},
   "outputs": [],
   "source": [
    "leads['user_id'] = leads['user_id'].apply(hash_id)\n",
    "leads['course_id'] = leads['course_id'].apply(hash_id)"
   ]
  },
  {
   "cell_type": "code",
   "execution_count": 150,
   "metadata": {},
   "outputs": [
    {
     "data": {
      "text/plain": [
       "(24606, 22262)"
      ]
     },
     "execution_count": 150,
     "metadata": {},
     "output_type": "execute_result"
    }
   ],
   "source": [
    "leads['user_id'].nunique(), leads['course_id'].nunique()"
   ]
  },
  {
   "cell_type": "code",
   "execution_count": 151,
   "metadata": {},
   "outputs": [
    {
     "data": {
      "text/html": [
       "<div>\n",
       "<style scoped>\n",
       "    .dataframe tbody tr th:only-of-type {\n",
       "        vertical-align: middle;\n",
       "    }\n",
       "\n",
       "    .dataframe tbody tr th {\n",
       "        vertical-align: top;\n",
       "    }\n",
       "\n",
       "    .dataframe thead th {\n",
       "        text-align: right;\n",
       "    }\n",
       "</style>\n",
       "<table border=\"1\" class=\"dataframe\">\n",
       "  <thead>\n",
       "    <tr style=\"text-align: right;\">\n",
       "      <th></th>\n",
       "      <th>user_id</th>\n",
       "      <th>course_id</th>\n",
       "    </tr>\n",
       "  </thead>\n",
       "  <tbody>\n",
       "    <tr>\n",
       "      <th>0</th>\n",
       "      <td>10fb910da113efc5cd74b81065400e12</td>\n",
       "      <td>e0c424c5fc399cdbb1bf8549bde633c5</td>\n",
       "    </tr>\n",
       "    <tr>\n",
       "      <th>1</th>\n",
       "      <td>f43f477510f8c2048e600a85ab339369</td>\n",
       "      <td>f8ddab8ef084cc588c984b58767c5cbb</td>\n",
       "    </tr>\n",
       "    <tr>\n",
       "      <th>2</th>\n",
       "      <td>c7011ab2cb1b9a24e59e5ba4ba217d64</td>\n",
       "      <td>3395fa729651491cd1a84502ed090327</td>\n",
       "    </tr>\n",
       "    <tr>\n",
       "      <th>3</th>\n",
       "      <td>8596ef53d30e7baf338fe6854bc0a443</td>\n",
       "      <td>4e0abe5d6fd932aea04bdbd79360bb4c</td>\n",
       "    </tr>\n",
       "    <tr>\n",
       "      <th>4</th>\n",
       "      <td>f88b4e58210523ee2351dcf7212781bc</td>\n",
       "      <td>12551267b905d157247a6618809a8e50</td>\n",
       "    </tr>\n",
       "  </tbody>\n",
       "</table>\n",
       "</div>"
      ],
      "text/plain": [
       "                            user_id                         course_id\n",
       "0  10fb910da113efc5cd74b81065400e12  e0c424c5fc399cdbb1bf8549bde633c5\n",
       "1  f43f477510f8c2048e600a85ab339369  f8ddab8ef084cc588c984b58767c5cbb\n",
       "2  c7011ab2cb1b9a24e59e5ba4ba217d64  3395fa729651491cd1a84502ed090327\n",
       "3  8596ef53d30e7baf338fe6854bc0a443  4e0abe5d6fd932aea04bdbd79360bb4c\n",
       "4  f88b4e58210523ee2351dcf7212781bc  12551267b905d157247a6618809a8e50"
      ]
     },
     "execution_count": 151,
     "metadata": {},
     "output_type": "execute_result"
    }
   ],
   "source": [
    "leads.head()"
   ]
  },
  {
   "cell_type": "code",
   "execution_count": 152,
   "metadata": {},
   "outputs": [],
   "source": [
    "leads.to_csv('data/leads.csv', index=False)"
   ]
  },
  {
   "cell_type": "markdown",
   "metadata": {},
   "source": [
    "### Hashing course ids and user ids"
   ]
  },
  {
   "cell_type": "code",
   "execution_count": 153,
   "metadata": {},
   "outputs": [
    {
     "name": "stdout",
     "output_type": "stream",
     "text": [
      "<class 'pandas.core.frame.DataFrame'>\n",
      "RangeIndex: 36473 entries, 0 to 36472\n",
      "Data columns (total 3 columns):\n",
      "user_id       36473 non-null object\n",
      "course_id     36473 non-null object\n",
      "created_on    36473 non-null object\n",
      "dtypes: object(3)\n",
      "memory usage: 854.9+ KB\n"
     ]
    }
   ],
   "source": [
    "enrollments.info()"
   ]
  },
  {
   "cell_type": "code",
   "execution_count": 154,
   "metadata": {},
   "outputs": [
    {
     "data": {
      "text/plain": [
       "(34069, 17707)"
      ]
     },
     "execution_count": 154,
     "metadata": {},
     "output_type": "execute_result"
    }
   ],
   "source": [
    "enrollments['user_id'].nunique(), enrollments['course_id'].nunique()"
   ]
  },
  {
   "cell_type": "code",
   "execution_count": 155,
   "metadata": {},
   "outputs": [],
   "source": [
    "enrollments['user_id'] = enrollments['user_id'].apply(hash_id)\n",
    "enrollments['course_id'] = enrollments['course_id'].apply(hash_id)"
   ]
  },
  {
   "cell_type": "code",
   "execution_count": 156,
   "metadata": {},
   "outputs": [
    {
     "data": {
      "text/plain": [
       "(34069, 17707)"
      ]
     },
     "execution_count": 156,
     "metadata": {},
     "output_type": "execute_result"
    }
   ],
   "source": [
    "enrollments['user_id'].nunique(), enrollments['course_id'].nunique()"
   ]
  },
  {
   "cell_type": "code",
   "execution_count": 157,
   "metadata": {},
   "outputs": [],
   "source": [
    "enrollments.to_csv('data/enrollments.csv', index=False)"
   ]
  },
  {
   "cell_type": "code",
   "execution_count": 158,
   "metadata": {},
   "outputs": [
    {
     "data": {
      "text/html": [
       "<div>\n",
       "<style scoped>\n",
       "    .dataframe tbody tr th:only-of-type {\n",
       "        vertical-align: middle;\n",
       "    }\n",
       "\n",
       "    .dataframe tbody tr th {\n",
       "        vertical-align: top;\n",
       "    }\n",
       "\n",
       "    .dataframe thead th {\n",
       "        text-align: right;\n",
       "    }\n",
       "</style>\n",
       "<table border=\"1\" class=\"dataframe\">\n",
       "  <thead>\n",
       "    <tr style=\"text-align: right;\">\n",
       "      <th></th>\n",
       "      <th>user_id</th>\n",
       "      <th>course_id</th>\n",
       "      <th>created_on</th>\n",
       "    </tr>\n",
       "  </thead>\n",
       "  <tbody>\n",
       "    <tr>\n",
       "      <th>0</th>\n",
       "      <td>4e44de9990a37934ff841620eb23aa60</td>\n",
       "      <td>9986b296a935c8e12c5174002c553d28</td>\n",
       "      <td>2019-12-02 11:03:00.0</td>\n",
       "    </tr>\n",
       "    <tr>\n",
       "      <th>1</th>\n",
       "      <td>01894f391119850a080f75a9d5465e07</td>\n",
       "      <td>c50abb2999708df662f05bb5124becbe</td>\n",
       "      <td>2019-12-02 10:58:00.0</td>\n",
       "    </tr>\n",
       "    <tr>\n",
       "      <th>2</th>\n",
       "      <td>bb0129ee0be40917aab04e6a0d64d6fc</td>\n",
       "      <td>859d20d9ad7964bc61e1db2f89ac6d26</td>\n",
       "      <td>2019-12-02 10:57:00.0</td>\n",
       "    </tr>\n",
       "    <tr>\n",
       "      <th>3</th>\n",
       "      <td>cbbcb1a5990b8146a604ab348291b1e7</td>\n",
       "      <td>85881119076acb7f2db0eab38e00de54</td>\n",
       "      <td>2019-12-02 10:56:00.0</td>\n",
       "    </tr>\n",
       "    <tr>\n",
       "      <th>4</th>\n",
       "      <td>250c1e5e5bcbcfbb5aedd7eeca2fb892</td>\n",
       "      <td>51cdfed4901b031d70c01eb21db59b03</td>\n",
       "      <td>2019-12-02 10:45:00.0</td>\n",
       "    </tr>\n",
       "  </tbody>\n",
       "</table>\n",
       "</div>"
      ],
      "text/plain": [
       "                            user_id                         course_id  \\\n",
       "0  4e44de9990a37934ff841620eb23aa60  9986b296a935c8e12c5174002c553d28   \n",
       "1  01894f391119850a080f75a9d5465e07  c50abb2999708df662f05bb5124becbe   \n",
       "2  bb0129ee0be40917aab04e6a0d64d6fc  859d20d9ad7964bc61e1db2f89ac6d26   \n",
       "3  cbbcb1a5990b8146a604ab348291b1e7  85881119076acb7f2db0eab38e00de54   \n",
       "4  250c1e5e5bcbcfbb5aedd7eeca2fb892  51cdfed4901b031d70c01eb21db59b03   \n",
       "\n",
       "              created_on  \n",
       "0  2019-12-02 11:03:00.0  \n",
       "1  2019-12-02 10:58:00.0  \n",
       "2  2019-12-02 10:57:00.0  \n",
       "3  2019-12-02 10:56:00.0  \n",
       "4  2019-12-02 10:45:00.0  "
      ]
     },
     "execution_count": 158,
     "metadata": {},
     "output_type": "execute_result"
    }
   ],
   "source": [
    "enrollments.head()"
   ]
  },
  {
   "cell_type": "code",
   "execution_count": 162,
   "metadata": {},
   "outputs": [
    {
     "name": "stdout",
     "output_type": "stream",
     "text": [
      "<class 'pandas.core.frame.DataFrame'>\n",
      "RangeIndex: 41899 entries, 0 to 41898\n",
      "Data columns (total 13 columns):\n",
      "course_id      41899 non-null object\n",
      "title          41899 non-null object\n",
      "description    41649 non-null object\n",
      "syllabus       41895 non-null object\n",
      "methodology    41899 non-null object\n",
      "category       41899 non-null object\n",
      "family         41897 non-null object\n",
      "course_type    41899 non-null object\n",
      "price_range    34688 non-null object\n",
      "duration       15339 non-null object\n",
      "language       41899 non-null object\n",
      "region         13424 non-null float64\n",
      "updated_on     41899 non-null object\n",
      "dtypes: float64(1), object(12)\n",
      "memory usage: 4.2+ MB\n"
     ]
    }
   ],
   "source": [
    "courses.info()"
   ]
  },
  {
   "cell_type": "code",
   "execution_count": 173,
   "metadata": {},
   "outputs": [
    {
     "data": {
      "text/plain": [
       "Online            19490\n",
       "Presencial        10328\n",
       "A distancia        8506\n",
       "Semipresencial     3463\n",
       "In company          112\n",
       "Name: methodology, dtype: int64"
      ]
     },
     "execution_count": 173,
     "metadata": {},
     "output_type": "execute_result"
    }
   ],
   "source": [
    "courses['methodology'].value_counts()"
   ]
  },
  {
   "cell_type": "code",
   "execution_count": 174,
   "metadata": {},
   "outputs": [
    {
     "data": {
      "text/plain": [
       "13903"
      ]
     },
     "execution_count": 174,
     "metadata": {},
     "output_type": "execute_result"
    }
   ],
   "source": [
    "10328 + 112 + 3463"
   ]
  },
  {
   "cell_type": "code",
   "execution_count": 191,
   "metadata": {},
   "outputs": [
    {
     "data": {
      "text/plain": [
       "(66, 13)"
      ]
     },
     "execution_count": 191,
     "metadata": {},
     "output_type": "execute_result"
    }
   ],
   "source": [
    "online_courses = courses['methodology'] == 'Online'\n",
    "distance_courses = courses['methodology'] == 'A distancia'\n",
    "with_region = pd.isnull(courses['region'])\n",
    "\n",
    "courses.loc[(distance_courses | online_courses) & ~with_region].shape"
   ]
  },
  {
   "cell_type": "code",
   "execution_count": null,
   "metadata": {},
   "outputs": [],
   "source": []
  }
 ],
 "metadata": {
  "kernelspec": {
   "display_name": "Python 3",
   "language": "python",
   "name": "python3"
  },
  "language_info": {
   "codemirror_mode": {
    "name": "ipython",
    "version": 3
   },
   "file_extension": ".py",
   "mimetype": "text/x-python",
   "name": "python",
   "nbconvert_exporter": "python",
   "pygments_lexer": "ipython3",
   "version": "3.7.3"
  },
  "latex_envs": {
   "LaTeX_envs_menu_present": true,
   "autoclose": false,
   "autocomplete": true,
   "bibliofile": "biblio.bib",
   "cite_by": "apalike",
   "current_citInitial": 1,
   "eqLabelWithNumbers": true,
   "eqNumInitial": 1,
   "hotkeys": {
    "equation": "Ctrl-E",
    "itemize": "Ctrl-I"
   },
   "labels_anchors": false,
   "latex_user_defs": false,
   "report_style_numbering": false,
   "user_envs_cfg": false
  }
 },
 "nbformat": 4,
 "nbformat_minor": 2
}
