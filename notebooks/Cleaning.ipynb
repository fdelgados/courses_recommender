{
 "cells": [
  {
   "cell_type": "code",
   "execution_count": 64,
   "metadata": {},
   "outputs": [],
   "source": [
    "import numpy as np\n",
    "import pandas as pd\n",
    "from bs4 import BeautifulSoup as bs\n",
    "from datetime import datetime"
   ]
  },
  {
   "cell_type": "code",
   "execution_count": 91,
   "metadata": {},
   "outputs": [],
   "source": [
    "courses = pd.read_csv('../data/processed/courses.csv')\n",
    "reviews = pd.read_csv('../data/processed/reviews.csv')\n",
    "leads = pd.read_csv('../data/processed/leads.csv')\n",
    "enrollments = pd.read_csv('../data/processed/enrollments.csv')"
   ]
  },
  {
   "cell_type": "markdown",
   "metadata": {},
   "source": [
    "## Courses\n",
    "This is de course dataframe schema"
   ]
  },
  {
   "cell_type": "code",
   "execution_count": 129,
   "metadata": {},
   "outputs": [],
   "source": [
    "courses_schema = pd.read_csv('../data/processed/courses_schema.csv')"
   ]
  },
  {
   "cell_type": "code",
   "execution_count": 130,
   "metadata": {},
   "outputs": [
    {
     "data": {
      "text/html": [
       "<div>\n",
       "<style scoped>\n",
       "    .dataframe tbody tr th:only-of-type {\n",
       "        vertical-align: middle;\n",
       "    }\n",
       "\n",
       "    .dataframe tbody tr th {\n",
       "        vertical-align: top;\n",
       "    }\n",
       "\n",
       "    .dataframe thead th {\n",
       "        text-align: right;\n",
       "    }\n",
       "</style>\n",
       "<table border=\"1\" class=\"dataframe\">\n",
       "  <thead>\n",
       "    <tr style=\"text-align: right;\">\n",
       "      <th></th>\n",
       "      <th>column_name</th>\n",
       "      <th>description</th>\n",
       "      <th>type</th>\n",
       "      <th>comments</th>\n",
       "    </tr>\n",
       "  </thead>\n",
       "  <tbody>\n",
       "    <tr>\n",
       "      <th>0</th>\n",
       "      <td>course_id</td>\n",
       "      <td>The unique identifier of the course</td>\n",
       "      <td>string</td>\n",
       "      <td>For reasons of security they have been encripted</td>\n",
       "    </tr>\n",
       "    <tr>\n",
       "      <th>1</th>\n",
       "      <td>title</td>\n",
       "      <td>Course title</td>\n",
       "      <td>string</td>\n",
       "      <td></td>\n",
       "    </tr>\n",
       "    <tr>\n",
       "      <th>2</th>\n",
       "      <td>description</td>\n",
       "      <td>Course description</td>\n",
       "      <td>string</td>\n",
       "      <td></td>\n",
       "    </tr>\n",
       "    <tr>\n",
       "      <th>3</th>\n",
       "      <td>syllabus</td>\n",
       "      <td>Course syllabus</td>\n",
       "      <td>string</td>\n",
       "      <td>Contains HTML tags</td>\n",
       "    </tr>\n",
       "    <tr>\n",
       "      <th>4</th>\n",
       "      <td>course_type</td>\n",
       "      <td>Course type id</td>\n",
       "      <td>numeric</td>\n",
       "      <td>For example: Master's degree, Bachelor's degre...</td>\n",
       "    </tr>\n",
       "    <tr>\n",
       "      <th>5</th>\n",
       "      <td>category</td>\n",
       "      <td>Course category id</td>\n",
       "      <td>numeric</td>\n",
       "      <td>Course topic</td>\n",
       "    </tr>\n",
       "    <tr>\n",
       "      <th>6</th>\n",
       "      <td>methodology</td>\n",
       "      <td>Course methodology id (online, classroom based...</td>\n",
       "      <td>numeric</td>\n",
       "      <td>1 = Classroom, 2 = Distance, 3 = Online, 8 = C...</td>\n",
       "    </tr>\n",
       "    <tr>\n",
       "      <th>7</th>\n",
       "      <td>price_range</td>\n",
       "      <td>Maximum and minimum price of the course in euros</td>\n",
       "      <td>numeric</td>\n",
       "      <td>From 0 = Free to 23 = &gt; 9000 €. -1 for courses...</td>\n",
       "    </tr>\n",
       "    <tr>\n",
       "      <th>8</th>\n",
       "      <td>duration</td>\n",
       "      <td>Maximum course duration</td>\n",
       "      <td>numeric</td>\n",
       "      <td>10 = hours,  20 = days, 30 = weeks,  40 = 3 mo...</td>\n",
       "    </tr>\n",
       "    <tr>\n",
       "      <th>9</th>\n",
       "      <td>flexible</td>\n",
       "      <td>Whether or not it is a self paced course</td>\n",
       "      <td>boolean</td>\n",
       "      <td>1 = yes, 0 = no</td>\n",
       "    </tr>\n",
       "    <tr>\n",
       "      <th>10</th>\n",
       "      <td>language</td>\n",
       "      <td>Language in which the course is taught</td>\n",
       "      <td>string</td>\n",
       "      <td>ISO 639-1 Code. es = Spanish, en = English, ca...</td>\n",
       "    </tr>\n",
       "    <tr>\n",
       "      <th>11</th>\n",
       "      <td>location</td>\n",
       "      <td>Location (region id) in which the course is ta...</td>\n",
       "      <td>numeric</td>\n",
       "      <td>NaN of -1 for online or distance courses</td>\n",
       "    </tr>\n",
       "    <tr>\n",
       "      <th>12</th>\n",
       "      <td>updated_on</td>\n",
       "      <td>Date of last content update</td>\n",
       "      <td>datetime</td>\n",
       "      <td></td>\n",
       "    </tr>\n",
       "  </tbody>\n",
       "</table>\n",
       "</div>"
      ],
      "text/plain": [
       "    column_name                                        description      type  \\\n",
       "0     course_id                The unique identifier of the course    string   \n",
       "1         title                                       Course title    string   \n",
       "2   description                                 Course description    string   \n",
       "3      syllabus                                    Course syllabus    string   \n",
       "4   course_type                                     Course type id   numeric   \n",
       "5      category                                 Course category id   numeric   \n",
       "6   methodology  Course methodology id (online, classroom based...   numeric   \n",
       "7   price_range   Maximum and minimum price of the course in euros   numeric   \n",
       "8      duration                            Maximum course duration   numeric   \n",
       "9      flexible           Whether or not it is a self paced course   boolean   \n",
       "10     language             Language in which the course is taught    string   \n",
       "11     location  Location (region id) in which the course is ta...   numeric   \n",
       "12   updated_on                        Date of last content update  datetime   \n",
       "\n",
       "                                             comments  \n",
       "0    For reasons of security they have been encripted  \n",
       "1                                                      \n",
       "2                                                      \n",
       "3                                  Contains HTML tags  \n",
       "4   For example: Master's degree, Bachelor's degre...  \n",
       "5                                        Course topic  \n",
       "6   1 = Classroom, 2 = Distance, 3 = Online, 8 = C...  \n",
       "7   From 0 = Free to 23 = > 9000 €. -1 for courses...  \n",
       "8   10 = hours,  20 = days, 30 = weeks,  40 = 3 mo...  \n",
       "9                                     1 = yes, 0 = no  \n",
       "10  ISO 639-1 Code. es = Spanish, en = English, ca...  \n",
       "11           NaN of -1 for online or distance courses  \n",
       "12                                                     "
      ]
     },
     "execution_count": 130,
     "metadata": {},
     "output_type": "execute_result"
    }
   ],
   "source": [
    "courses_schema"
   ]
  },
  {
   "cell_type": "markdown",
   "metadata": {},
   "source": [
    "### Duplicated rows"
   ]
  },
  {
   "cell_type": "code",
   "execution_count": 94,
   "metadata": {},
   "outputs": [
    {
     "data": {
      "text/html": [
       "<div>\n",
       "<style scoped>\n",
       "    .dataframe tbody tr th:only-of-type {\n",
       "        vertical-align: middle;\n",
       "    }\n",
       "\n",
       "    .dataframe tbody tr th {\n",
       "        vertical-align: top;\n",
       "    }\n",
       "\n",
       "    .dataframe thead th {\n",
       "        text-align: right;\n",
       "    }\n",
       "</style>\n",
       "<table border=\"1\" class=\"dataframe\">\n",
       "  <thead>\n",
       "    <tr style=\"text-align: right;\">\n",
       "      <th></th>\n",
       "      <th>course_id</th>\n",
       "      <th>title</th>\n",
       "      <th>description</th>\n",
       "      <th>syllabus</th>\n",
       "      <th>methodology</th>\n",
       "      <th>category</th>\n",
       "      <th>course_type</th>\n",
       "      <th>price_range</th>\n",
       "      <th>duration</th>\n",
       "      <th>flexible</th>\n",
       "      <th>language</th>\n",
       "      <th>location</th>\n",
       "      <th>updated_on</th>\n",
       "    </tr>\n",
       "  </thead>\n",
       "  <tbody>\n",
       "  </tbody>\n",
       "</table>\n",
       "</div>"
      ],
      "text/plain": [
       "Empty DataFrame\n",
       "Columns: [course_id, title, description, syllabus, methodology, category, course_type, price_range, duration, flexible, language, location, updated_on]\n",
       "Index: []"
      ]
     },
     "execution_count": 94,
     "metadata": {},
     "output_type": "execute_result"
    }
   ],
   "source": [
    "courses[courses.duplicated(subset='course_id')]"
   ]
  },
  {
   "cell_type": "markdown",
   "metadata": {},
   "source": [
    "There are no duplicated rows in this data frame"
   ]
  },
  {
   "cell_type": "markdown",
   "metadata": {},
   "source": [
    "### Missing data"
   ]
  },
  {
   "cell_type": "code",
   "execution_count": 95,
   "metadata": {},
   "outputs": [
    {
     "data": {
      "text/html": [
       "<div>\n",
       "<style scoped>\n",
       "    .dataframe tbody tr th:only-of-type {\n",
       "        vertical-align: middle;\n",
       "    }\n",
       "\n",
       "    .dataframe tbody tr th {\n",
       "        vertical-align: top;\n",
       "    }\n",
       "\n",
       "    .dataframe thead th {\n",
       "        text-align: right;\n",
       "    }\n",
       "</style>\n",
       "<table border=\"1\" class=\"dataframe\">\n",
       "  <thead>\n",
       "    <tr style=\"text-align: right;\">\n",
       "      <th></th>\n",
       "      <th>course_id</th>\n",
       "      <th>title</th>\n",
       "      <th>description</th>\n",
       "      <th>syllabus</th>\n",
       "      <th>methodology</th>\n",
       "      <th>category</th>\n",
       "      <th>course_type</th>\n",
       "      <th>price_range</th>\n",
       "      <th>duration</th>\n",
       "      <th>flexible</th>\n",
       "      <th>language</th>\n",
       "      <th>location</th>\n",
       "      <th>updated_on</th>\n",
       "    </tr>\n",
       "  </thead>\n",
       "  <tbody>\n",
       "    <tr>\n",
       "      <th>0</th>\n",
       "      <td>291f3500fcc8230cbdc52f59555f0cb6</td>\n",
       "      <td>Máster en Gestión de Proyectos Logísticos SAP</td>\n",
       "      <td>Emagister.com pone a tu disposición el Máster ...</td>\n",
       "      <td>&lt;br /&gt;&lt;strong&gt;PROGRAMA:&lt;/strong&gt;&lt;br /&gt;&lt;br /&gt;&lt;b...</td>\n",
       "      <td>1</td>\n",
       "      <td>805</td>\n",
       "      <td>1230</td>\n",
       "      <td>22</td>\n",
       "      <td>60</td>\n",
       "      <td>0</td>\n",
       "      <td>es</td>\n",
       "      <td>35.0</td>\n",
       "      <td>2019-12-03 14:09:30.0</td>\n",
       "    </tr>\n",
       "    <tr>\n",
       "      <th>1</th>\n",
       "      <td>3ea3378c14939797fcbcf29f2fa9bb29</td>\n",
       "      <td>Máster Universitario en Producción y Realizaci...</td>\n",
       "      <td>Emagister.com pone a tu disposición el Máster ...</td>\n",
       "      <td>&lt;strong&gt;Temario&lt;/strong&gt;&lt;br /&gt;&lt;br /&gt;M&amp;oacute;d...</td>\n",
       "      <td>1</td>\n",
       "      <td>14</td>\n",
       "      <td>1235</td>\n",
       "      <td>20</td>\n",
       "      <td>-1</td>\n",
       "      <td>0</td>\n",
       "      <td>es</td>\n",
       "      <td>35.0</td>\n",
       "      <td>2019-12-03 14:07:31.0</td>\n",
       "    </tr>\n",
       "    <tr>\n",
       "      <th>2</th>\n",
       "      <td>18268a14024efd522e0b92a75b7c46e7</td>\n",
       "      <td>Curso de SEO Y SEM ( POSICIONAMIENTO EN LAS RE...</td>\n",
       "      <td>Emagister.com pone a tu disposición el curso d...</td>\n",
       "      <td>&lt;p&gt;Posicionamiento Natural en Buscadores SEO:&lt;...</td>\n",
       "      <td>1</td>\n",
       "      <td>597</td>\n",
       "      <td>1000</td>\n",
       "      <td>14</td>\n",
       "      <td>30</td>\n",
       "      <td>0</td>\n",
       "      <td>es</td>\n",
       "      <td>4.0</td>\n",
       "      <td>2019-12-03 14:05:46.0</td>\n",
       "    </tr>\n",
       "    <tr>\n",
       "      <th>3</th>\n",
       "      <td>a9522a489bea6a940ee4b8370c13b06e</td>\n",
       "      <td>Curso de Especialista en Periodismo y Moda</td>\n",
       "      <td>Emagister.com pone a tu disposición el Curso d...</td>\n",
       "      <td>&lt;strong&gt;Temario&lt;/strong&gt;&lt;br /&gt;&lt;br /&gt;&lt;br /&gt;&lt;str...</td>\n",
       "      <td>1</td>\n",
       "      <td>416</td>\n",
       "      <td>1000</td>\n",
       "      <td>16</td>\n",
       "      <td>50</td>\n",
       "      <td>0</td>\n",
       "      <td>es</td>\n",
       "      <td>35.0</td>\n",
       "      <td>2019-12-03 14:03:31.0</td>\n",
       "    </tr>\n",
       "    <tr>\n",
       "      <th>4</th>\n",
       "      <td>8e49c7e1e0edce52656762fe7480b430</td>\n",
       "      <td>Máster Universitario en Abogacía (Acceso y Eje...</td>\n",
       "      <td>¿Tienes estudios de Derecho y quieres ejercer?...</td>\n",
       "      <td>&lt;strong&gt;I. Marco Jur&amp;iacute;dico Colegial y De...</td>\n",
       "      <td>1</td>\n",
       "      <td>5</td>\n",
       "      <td>1235</td>\n",
       "      <td>23</td>\n",
       "      <td>-1</td>\n",
       "      <td>0</td>\n",
       "      <td>es</td>\n",
       "      <td>35.0</td>\n",
       "      <td>2019-12-03 14:02:03.0</td>\n",
       "    </tr>\n",
       "  </tbody>\n",
       "</table>\n",
       "</div>"
      ],
      "text/plain": [
       "                          course_id  \\\n",
       "0  291f3500fcc8230cbdc52f59555f0cb6   \n",
       "1  3ea3378c14939797fcbcf29f2fa9bb29   \n",
       "2  18268a14024efd522e0b92a75b7c46e7   \n",
       "3  a9522a489bea6a940ee4b8370c13b06e   \n",
       "4  8e49c7e1e0edce52656762fe7480b430   \n",
       "\n",
       "                                               title  \\\n",
       "0      Máster en Gestión de Proyectos Logísticos SAP   \n",
       "1  Máster Universitario en Producción y Realizaci...   \n",
       "2  Curso de SEO Y SEM ( POSICIONAMIENTO EN LAS RE...   \n",
       "3         Curso de Especialista en Periodismo y Moda   \n",
       "4  Máster Universitario en Abogacía (Acceso y Eje...   \n",
       "\n",
       "                                         description  \\\n",
       "0  Emagister.com pone a tu disposición el Máster ...   \n",
       "1  Emagister.com pone a tu disposición el Máster ...   \n",
       "2  Emagister.com pone a tu disposición el curso d...   \n",
       "3  Emagister.com pone a tu disposición el Curso d...   \n",
       "4  ¿Tienes estudios de Derecho y quieres ejercer?...   \n",
       "\n",
       "                                            syllabus  methodology  category  \\\n",
       "0  <br /><strong>PROGRAMA:</strong><br /><br /><b...            1       805   \n",
       "1  <strong>Temario</strong><br /><br />M&oacute;d...            1        14   \n",
       "2  <p>Posicionamiento Natural en Buscadores SEO:<...            1       597   \n",
       "3  <strong>Temario</strong><br /><br /><br /><str...            1       416   \n",
       "4  <strong>I. Marco Jur&iacute;dico Colegial y De...            1         5   \n",
       "\n",
       "   course_type  price_range  duration  flexible language  location  \\\n",
       "0         1230           22        60         0       es      35.0   \n",
       "1         1235           20        -1         0       es      35.0   \n",
       "2         1000           14        30         0       es       4.0   \n",
       "3         1000           16        50         0       es      35.0   \n",
       "4         1235           23        -1         0       es      35.0   \n",
       "\n",
       "              updated_on  \n",
       "0  2019-12-03 14:09:30.0  \n",
       "1  2019-12-03 14:07:31.0  \n",
       "2  2019-12-03 14:05:46.0  \n",
       "3  2019-12-03 14:03:31.0  \n",
       "4  2019-12-03 14:02:03.0  "
      ]
     },
     "execution_count": 95,
     "metadata": {},
     "output_type": "execute_result"
    }
   ],
   "source": [
    "courses.head()"
   ]
  },
  {
   "cell_type": "code",
   "execution_count": 96,
   "metadata": {
    "scrolled": true
   },
   "outputs": [
    {
     "name": "stdout",
     "output_type": "stream",
     "text": [
      "<class 'pandas.core.frame.DataFrame'>\n",
      "RangeIndex: 41533 entries, 0 to 41532\n",
      "Data columns (total 13 columns):\n",
      "course_id      41533 non-null object\n",
      "title          41533 non-null object\n",
      "description    41283 non-null object\n",
      "syllabus       41529 non-null object\n",
      "methodology    41533 non-null int64\n",
      "category       41533 non-null int64\n",
      "course_type    41533 non-null int64\n",
      "price_range    41533 non-null int64\n",
      "duration       41533 non-null int64\n",
      "flexible       41533 non-null int64\n",
      "language       41533 non-null object\n",
      "location       13313 non-null float64\n",
      "updated_on     41533 non-null object\n",
      "dtypes: float64(1), int64(6), object(6)\n",
      "memory usage: 4.1+ MB\n"
     ]
    }
   ],
   "source": [
    "courses.info()"
   ]
  },
  {
   "cell_type": "markdown",
   "metadata": {},
   "source": [
    "#### `syllabus` and `description` columns\n",
    "There are courses without description and syllabus, in this case this is not a problem because I will merge title, description and syllabus columns in one column.\n",
    "#### `location` column"
   ]
  },
  {
   "cell_type": "markdown",
   "metadata": {},
   "source": [
    "NaN values and -1 in `location` column should correspond to courses with Online (3) or Distance (2) methodology"
   ]
  },
  {
   "cell_type": "code",
   "execution_count": 105,
   "metadata": {},
   "outputs": [
    {
     "data": {
      "text/plain": [
       "3    19471\n",
       "2     8301\n",
       "Name: methodology, dtype: int64"
      ]
     },
     "execution_count": 105,
     "metadata": {},
     "output_type": "execute_result"
    }
   ],
   "source": [
    "# Missing and -1 values in location column\n",
    "nan_location = np.isnan(courses['location'])\n",
    "neg_location = courses['location'] == -1\n",
    "courses[nan_location | neg_location]['methodology'].value_counts()"
   ]
  },
  {
   "cell_type": "markdown",
   "metadata": {},
   "source": [
    "Courses without location and a face-to-face methodology (1, 8 and 9) are those that have more than one location. To prevent confusions, I will replace these values with 0."
   ]
  },
  {
   "cell_type": "code",
   "execution_count": 106,
   "metadata": {},
   "outputs": [],
   "source": [
    "face_to_face_courses = courses['methodology'].isin([1, 8, 9])\n",
    "courses.loc[(nan_location | neg_location) & face_to_face_courses, 'location'] = 0.0"
   ]
  },
  {
   "cell_type": "code",
   "execution_count": 107,
   "metadata": {},
   "outputs": [
    {
     "data": {
      "text/plain": [
       "Series([], Name: methodology, dtype: int64)"
      ]
     },
     "execution_count": 107,
     "metadata": {},
     "output_type": "execute_result"
    }
   ],
   "source": [
    "courses[(nan_location | neg_location) & face_to_face_courses]['methodology'].value_counts()"
   ]
  },
  {
   "cell_type": "code",
   "execution_count": 109,
   "metadata": {},
   "outputs": [
    {
     "data": {
      "text/plain": [
       "8    366\n",
       "9     80\n",
       "1     33\n",
       "Name: methodology, dtype: int64"
      ]
     },
     "execution_count": 109,
     "metadata": {},
     "output_type": "execute_result"
    }
   ],
   "source": [
    "courses[courses['location'] == 0.0]['methodology'].value_counts()"
   ]
  },
  {
   "cell_type": "markdown",
   "metadata": {},
   "source": [
    "Online and distance courses with `location` are courses that were classroom based in the past and when they were converted to the new methodology, the location was not updated. Now, I will replace those locations with NaN"
   ]
  },
  {
   "cell_type": "code",
   "execution_count": 110,
   "metadata": {},
   "outputs": [
    {
     "data": {
      "text/plain": [
       "35.0      14\n",
       "36.0      11\n",
       "9.0        4\n",
       "45.0       4\n",
       "192.0      3\n",
       "26.0       2\n",
       "13.0       2\n",
       "12.0       2\n",
       "51.0       2\n",
       "21.0       2\n",
       "6.0        1\n",
       "64.0       1\n",
       "171.0      1\n",
       "122.0      1\n",
       "1102.0     1\n",
       "65.0       1\n",
       "185.0      1\n",
       "1662.0     1\n",
       "19.0       1\n",
       "55.0       1\n",
       "20.0       1\n",
       "5.0        1\n",
       "66.0       1\n",
       "266.0      1\n",
       "42.0       1\n",
       "392.0      1\n",
       "95.0       1\n",
       "492.0      1\n",
       "31.0       1\n",
       "39.0       1\n",
       "Name: location, dtype: int64"
      ]
     },
     "execution_count": 110,
     "metadata": {},
     "output_type": "execute_result"
    }
   ],
   "source": [
    "distance_courses = courses['methodology'] == 2\n",
    "online_courses = courses['methodology'] == 3\n",
    "courses[distance_courses | online_courses]['location'].value_counts()"
   ]
  },
  {
   "cell_type": "code",
   "execution_count": 111,
   "metadata": {},
   "outputs": [],
   "source": [
    "courses.loc[distance_courses | online_courses, 'location'] = np.nan"
   ]
  },
  {
   "cell_type": "code",
   "execution_count": 112,
   "metadata": {},
   "outputs": [
    {
     "data": {
      "text/plain": [
       "Series([], Name: location, dtype: int64)"
      ]
     },
     "execution_count": 112,
     "metadata": {},
     "output_type": "execute_result"
    }
   ],
   "source": [
    "courses[distance_courses | online_courses]['location'].value_counts()"
   ]
  },
  {
   "cell_type": "markdown",
   "metadata": {},
   "source": [
    "Finally, lets normalize those values. I will set region -1 to courses whose methodology is Distance (2) and Online (3)"
   ]
  },
  {
   "cell_type": "code",
   "execution_count": 117,
   "metadata": {},
   "outputs": [],
   "source": [
    "courses.loc[distance_courses | online_courses, 'location'] = -1.0"
   ]
  },
  {
   "cell_type": "code",
   "execution_count": 121,
   "metadata": {},
   "outputs": [
    {
     "name": "stdout",
     "output_type": "stream",
     "text": [
      "<class 'pandas.core.frame.DataFrame'>\n",
      "RangeIndex: 41533 entries, 0 to 41532\n",
      "Data columns (total 13 columns):\n",
      "course_id      41533 non-null object\n",
      "title          41533 non-null object\n",
      "description    41283 non-null object\n",
      "syllabus       41529 non-null object\n",
      "methodology    41533 non-null int64\n",
      "category       41533 non-null int64\n",
      "course_type    41533 non-null int64\n",
      "price_range    41533 non-null int64\n",
      "duration       41533 non-null int64\n",
      "flexible       41533 non-null int64\n",
      "language       41533 non-null object\n",
      "location       41533 non-null float64\n",
      "updated_on     41533 non-null object\n",
      "dtypes: float64(1), int64(6), object(6)\n",
      "memory usage: 4.1+ MB\n"
     ]
    }
   ],
   "source": [
    "courses.info()"
   ]
  },
  {
   "cell_type": "markdown",
   "metadata": {},
   "source": [
    "### Data types\n",
    "I will change `location` column to int and `updated_on` to datetime"
   ]
  },
  {
   "cell_type": "code",
   "execution_count": 126,
   "metadata": {},
   "outputs": [],
   "source": [
    "courses['location'] = courses['location'].astype(int)\n",
    "courses['updated_on'] = pd.to_datetime(courses['updated_on'])"
   ]
  },
  {
   "cell_type": "code",
   "execution_count": 128,
   "metadata": {},
   "outputs": [
    {
     "name": "stdout",
     "output_type": "stream",
     "text": [
      "<class 'pandas.core.frame.DataFrame'>\n",
      "RangeIndex: 41533 entries, 0 to 41532\n",
      "Data columns (total 13 columns):\n",
      "course_id      41533 non-null object\n",
      "title          41533 non-null object\n",
      "description    41283 non-null object\n",
      "syllabus       41529 non-null object\n",
      "methodology    41533 non-null int64\n",
      "category       41533 non-null int64\n",
      "course_type    41533 non-null int64\n",
      "price_range    41533 non-null int64\n",
      "duration       41533 non-null int64\n",
      "flexible       41533 non-null int64\n",
      "language       41533 non-null object\n",
      "location       41533 non-null int64\n",
      "updated_on     41533 non-null datetime64[ns]\n",
      "dtypes: datetime64[ns](1), int64(7), object(5)\n",
      "memory usage: 4.1+ MB\n"
     ]
    }
   ],
   "source": [
    "courses.info()"
   ]
  },
  {
   "cell_type": "markdown",
   "metadata": {},
   "source": [
    "### Clean text columns"
   ]
  },
  {
   "cell_type": "code",
   "execution_count": 134,
   "metadata": {},
   "outputs": [],
   "source": [
    "def clean_syllabus(syllabus):\n",
    "    return ' '.join(bs(syllabus, 'lxml').get_text(' ', strip=True).split()).replace(u'\\xa0', ' ') if not pd.isnull(syllabus) else None\n",
    "\n",
    "def clean_description(description):\n",
    "    return description.replace(u'\\xa0', ' ') if not pd.isnull(description) else None"
   ]
  },
  {
   "cell_type": "code",
   "execution_count": 132,
   "metadata": {},
   "outputs": [],
   "source": [
    "# remove HTML tags from syllabus\n",
    "courses['syllabus'] = courses['syllabus'].apply(clean_syllabus)"
   ]
  },
  {
   "cell_type": "code",
   "execution_count": 135,
   "metadata": {},
   "outputs": [],
   "source": [
    "# clean unicode characters from description\n",
    "courses['description'] = courses['description'].apply(clean_description)"
   ]
  },
  {
   "cell_type": "code",
   "execution_count": 136,
   "metadata": {},
   "outputs": [
    {
     "data": {
      "text/html": [
       "<div>\n",
       "<style scoped>\n",
       "    .dataframe tbody tr th:only-of-type {\n",
       "        vertical-align: middle;\n",
       "    }\n",
       "\n",
       "    .dataframe tbody tr th {\n",
       "        vertical-align: top;\n",
       "    }\n",
       "\n",
       "    .dataframe thead th {\n",
       "        text-align: right;\n",
       "    }\n",
       "</style>\n",
       "<table border=\"1\" class=\"dataframe\">\n",
       "  <thead>\n",
       "    <tr style=\"text-align: right;\">\n",
       "      <th></th>\n",
       "      <th>course_id</th>\n",
       "      <th>title</th>\n",
       "      <th>description</th>\n",
       "      <th>syllabus</th>\n",
       "      <th>methodology</th>\n",
       "      <th>category</th>\n",
       "      <th>course_type</th>\n",
       "      <th>price_range</th>\n",
       "      <th>duration</th>\n",
       "      <th>flexible</th>\n",
       "      <th>language</th>\n",
       "      <th>location</th>\n",
       "      <th>updated_on</th>\n",
       "    </tr>\n",
       "  </thead>\n",
       "  <tbody>\n",
       "    <tr>\n",
       "      <th>0</th>\n",
       "      <td>291f3500fcc8230cbdc52f59555f0cb6</td>\n",
       "      <td>Máster en Gestión de Proyectos Logísticos SAP</td>\n",
       "      <td>Emagister.com pone a tu disposición el Máster ...</td>\n",
       "      <td>PROGRAMA: - Módulo de Introducción a Procesos ...</td>\n",
       "      <td>1</td>\n",
       "      <td>805</td>\n",
       "      <td>1230</td>\n",
       "      <td>22</td>\n",
       "      <td>60</td>\n",
       "      <td>0</td>\n",
       "      <td>es</td>\n",
       "      <td>35</td>\n",
       "      <td>2019-12-03 14:09:30</td>\n",
       "    </tr>\n",
       "    <tr>\n",
       "      <th>1</th>\n",
       "      <td>3ea3378c14939797fcbcf29f2fa9bb29</td>\n",
       "      <td>Máster Universitario en Producción y Realizaci...</td>\n",
       "      <td>Emagister.com pone a tu disposición el Máster ...</td>\n",
       "      <td>Temario Módulo I: FUNDAMENTOS DE LA REALIZACIÓ...</td>\n",
       "      <td>1</td>\n",
       "      <td>14</td>\n",
       "      <td>1235</td>\n",
       "      <td>20</td>\n",
       "      <td>-1</td>\n",
       "      <td>0</td>\n",
       "      <td>es</td>\n",
       "      <td>35</td>\n",
       "      <td>2019-12-03 14:07:31</td>\n",
       "    </tr>\n",
       "    <tr>\n",
       "      <th>2</th>\n",
       "      <td>18268a14024efd522e0b92a75b7c46e7</td>\n",
       "      <td>Curso de SEO Y SEM ( POSICIONAMIENTO EN LAS RE...</td>\n",
       "      <td>Emagister.com pone a tu disposición el curso d...</td>\n",
       "      <td>Posicionamiento Natural en Buscadores SEO: Int...</td>\n",
       "      <td>1</td>\n",
       "      <td>597</td>\n",
       "      <td>1000</td>\n",
       "      <td>14</td>\n",
       "      <td>30</td>\n",
       "      <td>0</td>\n",
       "      <td>es</td>\n",
       "      <td>4</td>\n",
       "      <td>2019-12-03 14:05:46</td>\n",
       "    </tr>\n",
       "    <tr>\n",
       "      <th>3</th>\n",
       "      <td>a9522a489bea6a940ee4b8370c13b06e</td>\n",
       "      <td>Curso de Especialista en Periodismo y Moda</td>\n",
       "      <td>Emagister.com pone a tu disposición el Curso d...</td>\n",
       "      <td>Temario Módulo I : Sociología de la Moda Módul...</td>\n",
       "      <td>1</td>\n",
       "      <td>416</td>\n",
       "      <td>1000</td>\n",
       "      <td>16</td>\n",
       "      <td>50</td>\n",
       "      <td>0</td>\n",
       "      <td>es</td>\n",
       "      <td>35</td>\n",
       "      <td>2019-12-03 14:03:31</td>\n",
       "    </tr>\n",
       "    <tr>\n",
       "      <th>4</th>\n",
       "      <td>8e49c7e1e0edce52656762fe7480b430</td>\n",
       "      <td>Máster Universitario en Abogacía (Acceso y Eje...</td>\n",
       "      <td>¿Tienes estudios de Derecho y quieres ejercer?...</td>\n",
       "      <td>I. Marco Jurídico Colegial y Deontología Profe...</td>\n",
       "      <td>1</td>\n",
       "      <td>5</td>\n",
       "      <td>1235</td>\n",
       "      <td>23</td>\n",
       "      <td>-1</td>\n",
       "      <td>0</td>\n",
       "      <td>es</td>\n",
       "      <td>35</td>\n",
       "      <td>2019-12-03 14:02:03</td>\n",
       "    </tr>\n",
       "  </tbody>\n",
       "</table>\n",
       "</div>"
      ],
      "text/plain": [
       "                          course_id  \\\n",
       "0  291f3500fcc8230cbdc52f59555f0cb6   \n",
       "1  3ea3378c14939797fcbcf29f2fa9bb29   \n",
       "2  18268a14024efd522e0b92a75b7c46e7   \n",
       "3  a9522a489bea6a940ee4b8370c13b06e   \n",
       "4  8e49c7e1e0edce52656762fe7480b430   \n",
       "\n",
       "                                               title  \\\n",
       "0      Máster en Gestión de Proyectos Logísticos SAP   \n",
       "1  Máster Universitario en Producción y Realizaci...   \n",
       "2  Curso de SEO Y SEM ( POSICIONAMIENTO EN LAS RE...   \n",
       "3         Curso de Especialista en Periodismo y Moda   \n",
       "4  Máster Universitario en Abogacía (Acceso y Eje...   \n",
       "\n",
       "                                         description  \\\n",
       "0  Emagister.com pone a tu disposición el Máster ...   \n",
       "1  Emagister.com pone a tu disposición el Máster ...   \n",
       "2  Emagister.com pone a tu disposición el curso d...   \n",
       "3  Emagister.com pone a tu disposición el Curso d...   \n",
       "4  ¿Tienes estudios de Derecho y quieres ejercer?...   \n",
       "\n",
       "                                            syllabus  methodology  category  \\\n",
       "0  PROGRAMA: - Módulo de Introducción a Procesos ...            1       805   \n",
       "1  Temario Módulo I: FUNDAMENTOS DE LA REALIZACIÓ...            1        14   \n",
       "2  Posicionamiento Natural en Buscadores SEO: Int...            1       597   \n",
       "3  Temario Módulo I : Sociología de la Moda Módul...            1       416   \n",
       "4  I. Marco Jurídico Colegial y Deontología Profe...            1         5   \n",
       "\n",
       "   course_type  price_range  duration  flexible language  location  \\\n",
       "0         1230           22        60         0       es        35   \n",
       "1         1235           20        -1         0       es        35   \n",
       "2         1000           14        30         0       es         4   \n",
       "3         1000           16        50         0       es        35   \n",
       "4         1235           23        -1         0       es        35   \n",
       "\n",
       "           updated_on  \n",
       "0 2019-12-03 14:09:30  \n",
       "1 2019-12-03 14:07:31  \n",
       "2 2019-12-03 14:05:46  \n",
       "3 2019-12-03 14:03:31  \n",
       "4 2019-12-03 14:02:03  "
      ]
     },
     "execution_count": 136,
     "metadata": {},
     "output_type": "execute_result"
    }
   ],
   "source": [
    "courses.head()"
   ]
  },
  {
   "cell_type": "code",
   "execution_count": 137,
   "metadata": {},
   "outputs": [],
   "source": [
    "courses.to_csv('../data/clean/courses.csv', index=False)"
   ]
  },
  {
   "cell_type": "markdown",
   "metadata": {},
   "source": [
    "## Reviews"
   ]
  },
  {
   "cell_type": "code",
   "execution_count": 138,
   "metadata": {},
   "outputs": [
    {
     "name": "stdout",
     "output_type": "stream",
     "text": [
      "<class 'pandas.core.frame.DataFrame'>\n",
      "RangeIndex: 40000 entries, 0 to 39999\n",
      "Data columns (total 5 columns):\n",
      "user_id            40000 non-null object\n",
      "course_id          40000 non-null object\n",
      "rating             40000 non-null int64\n",
      "would_recommend    40000 non-null int64\n",
      "created_on         40000 non-null object\n",
      "dtypes: int64(2), object(3)\n",
      "memory usage: 1.5+ MB\n"
     ]
    }
   ],
   "source": [
    "reviews.info()"
   ]
  },
  {
   "cell_type": "markdown",
   "metadata": {},
   "source": [
    "This dataframe has no null values."
   ]
  },
  {
   "cell_type": "markdown",
   "metadata": {},
   "source": [
    "### Data types\n",
    "I will convert the `created_on` column to datetime format"
   ]
  },
  {
   "cell_type": "code",
   "execution_count": 144,
   "metadata": {},
   "outputs": [],
   "source": [
    "reviews['created_on'] = pd.to_datetime(reviews['created_on'])"
   ]
  },
  {
   "cell_type": "code",
   "execution_count": 145,
   "metadata": {},
   "outputs": [
    {
     "name": "stdout",
     "output_type": "stream",
     "text": [
      "<class 'pandas.core.frame.DataFrame'>\n",
      "RangeIndex: 40000 entries, 0 to 39999\n",
      "Data columns (total 5 columns):\n",
      "user_id            40000 non-null object\n",
      "course_id          40000 non-null object\n",
      "rating             40000 non-null int64\n",
      "would_recommend    40000 non-null int64\n",
      "created_on         40000 non-null datetime64[ns]\n",
      "dtypes: datetime64[ns](1), int64(2), object(2)\n",
      "memory usage: 1.5+ MB\n"
     ]
    }
   ],
   "source": [
    "reviews.info()"
   ]
  },
  {
   "cell_type": "code",
   "execution_count": 146,
   "metadata": {},
   "outputs": [],
   "source": [
    "reviews.to_csv('../data/clean/reviews.csv', index=False)"
   ]
  },
  {
   "cell_type": "markdown",
   "metadata": {},
   "source": [
    "## Enrollments"
   ]
  },
  {
   "cell_type": "code",
   "execution_count": 139,
   "metadata": {},
   "outputs": [
    {
     "name": "stdout",
     "output_type": "stream",
     "text": [
      "<class 'pandas.core.frame.DataFrame'>\n",
      "RangeIndex: 36473 entries, 0 to 36472\n",
      "Data columns (total 3 columns):\n",
      "user_id       36473 non-null object\n",
      "course_id     36473 non-null object\n",
      "created_on    36473 non-null object\n",
      "dtypes: object(3)\n",
      "memory usage: 854.9+ KB\n"
     ]
    }
   ],
   "source": [
    "enrollments.info()"
   ]
  },
  {
   "cell_type": "markdown",
   "metadata": {},
   "source": [
    "This dataframe has no null values."
   ]
  },
  {
   "cell_type": "markdown",
   "metadata": {},
   "source": [
    "### Data types\n",
    "I will convert the `created_on` column to datetime format"
   ]
  },
  {
   "cell_type": "code",
   "execution_count": 142,
   "metadata": {},
   "outputs": [],
   "source": [
    "enrollments['created_on'] = pd.to_datetime(enrollments['created_on'])"
   ]
  },
  {
   "cell_type": "code",
   "execution_count": 143,
   "metadata": {},
   "outputs": [
    {
     "name": "stdout",
     "output_type": "stream",
     "text": [
      "<class 'pandas.core.frame.DataFrame'>\n",
      "RangeIndex: 36473 entries, 0 to 36472\n",
      "Data columns (total 3 columns):\n",
      "user_id       36473 non-null object\n",
      "course_id     36473 non-null object\n",
      "created_on    36473 non-null datetime64[ns]\n",
      "dtypes: datetime64[ns](1), object(2)\n",
      "memory usage: 854.9+ KB\n"
     ]
    }
   ],
   "source": [
    "enrollments.info()"
   ]
  },
  {
   "cell_type": "code",
   "execution_count": 147,
   "metadata": {},
   "outputs": [],
   "source": [
    "enrollments.to_csv('../data/clean/enrollments.csv', index=False)"
   ]
  },
  {
   "cell_type": "markdown",
   "metadata": {},
   "source": [
    "## Leads"
   ]
  },
  {
   "cell_type": "code",
   "execution_count": 140,
   "metadata": {},
   "outputs": [
    {
     "name": "stdout",
     "output_type": "stream",
     "text": [
      "<class 'pandas.core.frame.DataFrame'>\n",
      "RangeIndex: 50000 entries, 0 to 49999\n",
      "Data columns (total 2 columns):\n",
      "user_id      50000 non-null object\n",
      "course_id    50000 non-null object\n",
      "dtypes: object(2)\n",
      "memory usage: 781.3+ KB\n"
     ]
    }
   ],
   "source": [
    "leads.info()"
   ]
  },
  {
   "cell_type": "code",
   "execution_count": 141,
   "metadata": {},
   "outputs": [
    {
     "data": {
      "text/html": [
       "<div>\n",
       "<style scoped>\n",
       "    .dataframe tbody tr th:only-of-type {\n",
       "        vertical-align: middle;\n",
       "    }\n",
       "\n",
       "    .dataframe tbody tr th {\n",
       "        vertical-align: top;\n",
       "    }\n",
       "\n",
       "    .dataframe thead th {\n",
       "        text-align: right;\n",
       "    }\n",
       "</style>\n",
       "<table border=\"1\" class=\"dataframe\">\n",
       "  <thead>\n",
       "    <tr style=\"text-align: right;\">\n",
       "      <th></th>\n",
       "      <th>user_id</th>\n",
       "      <th>course_id</th>\n",
       "    </tr>\n",
       "  </thead>\n",
       "  <tbody>\n",
       "    <tr>\n",
       "      <th>0</th>\n",
       "      <td>10fb910da113efc5cd74b81065400e12</td>\n",
       "      <td>e0c424c5fc399cdbb1bf8549bde633c5</td>\n",
       "    </tr>\n",
       "    <tr>\n",
       "      <th>1</th>\n",
       "      <td>f43f477510f8c2048e600a85ab339369</td>\n",
       "      <td>f8ddab8ef084cc588c984b58767c5cbb</td>\n",
       "    </tr>\n",
       "    <tr>\n",
       "      <th>2</th>\n",
       "      <td>c7011ab2cb1b9a24e59e5ba4ba217d64</td>\n",
       "      <td>3395fa729651491cd1a84502ed090327</td>\n",
       "    </tr>\n",
       "    <tr>\n",
       "      <th>3</th>\n",
       "      <td>8596ef53d30e7baf338fe6854bc0a443</td>\n",
       "      <td>4e0abe5d6fd932aea04bdbd79360bb4c</td>\n",
       "    </tr>\n",
       "    <tr>\n",
       "      <th>4</th>\n",
       "      <td>f88b4e58210523ee2351dcf7212781bc</td>\n",
       "      <td>12551267b905d157247a6618809a8e50</td>\n",
       "    </tr>\n",
       "  </tbody>\n",
       "</table>\n",
       "</div>"
      ],
      "text/plain": [
       "                            user_id                         course_id\n",
       "0  10fb910da113efc5cd74b81065400e12  e0c424c5fc399cdbb1bf8549bde633c5\n",
       "1  f43f477510f8c2048e600a85ab339369  f8ddab8ef084cc588c984b58767c5cbb\n",
       "2  c7011ab2cb1b9a24e59e5ba4ba217d64  3395fa729651491cd1a84502ed090327\n",
       "3  8596ef53d30e7baf338fe6854bc0a443  4e0abe5d6fd932aea04bdbd79360bb4c\n",
       "4  f88b4e58210523ee2351dcf7212781bc  12551267b905d157247a6618809a8e50"
      ]
     },
     "execution_count": 141,
     "metadata": {},
     "output_type": "execute_result"
    }
   ],
   "source": [
    "leads.head()"
   ]
  },
  {
   "cell_type": "markdown",
   "metadata": {},
   "source": [
    "No missing values found and no data conversion is needed in this data set"
   ]
  },
  {
   "cell_type": "code",
   "execution_count": 148,
   "metadata": {},
   "outputs": [],
   "source": [
    "leads.to_csv('../data/clean/leads.csv', index=False)"
   ]
  },
  {
   "cell_type": "code",
   "execution_count": null,
   "metadata": {},
   "outputs": [],
   "source": []
  }
 ],
 "metadata": {
  "kernelspec": {
   "display_name": "Python 3",
   "language": "python",
   "name": "python3"
  },
  "language_info": {
   "codemirror_mode": {
    "name": "ipython",
    "version": 3
   },
   "file_extension": ".py",
   "mimetype": "text/x-python",
   "name": "python",
   "nbconvert_exporter": "python",
   "pygments_lexer": "ipython3",
   "version": "3.7.3"
  },
  "latex_envs": {
   "LaTeX_envs_menu_present": true,
   "autoclose": false,
   "autocomplete": true,
   "bibliofile": "biblio.bib",
   "cite_by": "apalike",
   "current_citInitial": 1,
   "eqLabelWithNumbers": true,
   "eqNumInitial": 1,
   "hotkeys": {
    "equation": "Ctrl-E",
    "itemize": "Ctrl-I"
   },
   "labels_anchors": false,
   "latex_user_defs": false,
   "report_style_numbering": false,
   "user_envs_cfg": false
  }
 },
 "nbformat": 4,
 "nbformat_minor": 2
}
