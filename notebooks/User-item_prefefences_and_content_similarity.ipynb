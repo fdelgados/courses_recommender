{
 "cells": [
  {
   "cell_type": "markdown",
   "metadata": {},
   "source": [
    "# Courses recommendation system\n",
    "# II. Build user-item preferences and content similarity structures\n",
    "\n",
    "This is the second part of the Udacity Data Science Nanodegree capstone project, which consists in the creation of a course recommendation system.\n",
    "\n",
    "Once the data is cleaned, the next step is to build structures that represent user preferences and similarities between courses. These structures are:\n",
    "\n",
    "* A course content symilarity matrix to be able to measure the similarity between courses based on their description and title.\n",
    "* A user-item matrix built from leads.\n",
    "* A user-item matrix built from reviews.\n",
    "\n",
    "This recommendation system is designed to work in a web application. Therefore, I think that converting these structures to a tabular format is a good idea so that data can be consulted quickly in a web environment.\n",
    "\n",
    "\n",
    "## 1. Import libraries"
   ]
  },
  {
   "cell_type": "code",
   "execution_count": 1,
   "metadata": {},
   "outputs": [
    {
     "name": "stderr",
     "output_type": "stream",
     "text": [
      "[nltk_data] Downloading package punkt to\n",
      "[nltk_data]     /Users/ciscodelgado/nltk_data...\n",
      "[nltk_data]   Package punkt is already up-to-date!\n",
      "[nltk_data] Downloading package stopwords to\n",
      "[nltk_data]     /Users/ciscodelgado/nltk_data...\n",
      "[nltk_data]   Package stopwords is already up-to-date!\n",
      "[nltk_data] Downloading package averaged_perceptron_tagger to\n",
      "[nltk_data]     /Users/ciscodelgado/nltk_data...\n",
      "[nltk_data]   Package averaged_perceptron_tagger is already up-to-\n",
      "[nltk_data]       date!\n",
      "[nltk_data] Downloading package wordnet to\n",
      "[nltk_data]     /Users/ciscodelgado/nltk_data...\n",
      "[nltk_data]   Package wordnet is already up-to-date!\n"
     ]
    }
   ],
   "source": [
    "import os\n",
    "import numpy as np\n",
    "import pandas as pd\n",
    "import pickle\n",
    "\n",
    "from scipy.sparse import csr_matrix\n",
    "from sklearn.pipeline import Pipeline\n",
    "from txtools.normalizer import TextNormalizer\n",
    "from txtools.similarity import Similarity\n",
    "from db_utils import connection\n",
    "\n",
    "import matplotlib as mpl\n",
    "import matplotlib.pyplot as plt\n",
    "\n",
    "%matplotlib inline"
   ]
  },
  {
   "cell_type": "markdown",
   "metadata": {},
   "source": [
    "## 2. Retrieve data\n",
    "\n",
    "In this step I will retrieve the clean data from database.\n",
    "\n",
    "Retrieve courses"
   ]
  },
  {
   "cell_type": "code",
   "execution_count": 2,
   "metadata": {},
   "outputs": [],
   "source": [
    "courses_query = '''SELECT c.*, cat.name AS category_name FROM courses c \n",
    "                    JOIN categories cat ON c.category_id = cat.id'''\n",
    "\n",
    "courses_df = pd.read_sql_query(courses_query, con=connection())"
   ]
  },
  {
   "cell_type": "markdown",
   "metadata": {},
   "source": [
    "Retrieve leads"
   ]
  },
  {
   "cell_type": "code",
   "execution_count": 3,
   "metadata": {},
   "outputs": [],
   "source": [
    "leads_query = 'SELECT * FROM clean_leads ORDER BY created_on DESC'\n",
    "\n",
    "leads_df = pd.read_sql_query(leads_query, con=connection())"
   ]
  },
  {
   "cell_type": "markdown",
   "metadata": {},
   "source": [
    "Retrieve reviews"
   ]
  },
  {
   "cell_type": "code",
   "execution_count": 4,
   "metadata": {},
   "outputs": [],
   "source": [
    "reviews_query = 'SELECT * FROM clean_reviews ORDER BY created_on DESC'\n",
    "\n",
    "reviews_df = pd.read_sql_query(reviews_query, con=connection())"
   ]
  },
  {
   "cell_type": "markdown",
   "metadata": {},
   "source": [
    "## 3. Create a course content similarity matrix\n",
    "\n",
    "I will create a similarity matrix for courses content. I will use the title and the description to compare the courses with each other. In the matrix, columns and rows indexes will be the course id and the intersection will be the similarity between them. The range of values will be between 0 and 1, where 0 means totally different and 1 means that the content is identical."
   ]
  },
  {
   "cell_type": "code",
   "execution_count": 17,
   "metadata": {},
   "outputs": [],
   "source": [
    "def create_similarity_matrix(df, sample_len=None):\n",
    "    \"\"\" \n",
    "    Creates a course similarity matrix\n",
    "    \n",
    "    :param df DataFrame: courses dataframe. Must include title and description columns\n",
    "    :param sample_len: Maximum number of courses used to create the matrix. If `None`, all courses in DataFrame\n",
    "            will be used.\n",
    "    :return np.ndarray: An m x m matrix representing the course similarities, where m is the number of courses.\n",
    "        Example of a similarity matrix:\n",
    "        \n",
    "         [[0.99999994 0.         0.13075474 0.02665992]\n",
    "          [0.         1.         0.00812627 0.00331377]\n",
    "          [0.13075474 0.00812627 1.         0.0069054 ]\n",
    "          [0.02665992 0.00331377 0.0069054  1.        ]]\n",
    "          \n",
    "        rows and columns represents a course, the elements in the matrix, represent the similarity between them.\n",
    "    \"\"\"\n",
    "    if not sample_len:\n",
    "        course_content = df['title'].str.cat(df['description'], sep='. ').values\n",
    "    else:\n",
    "        course_content = df['title'].str.cat(df['description'], sep='. ').head(sample_len).values\n",
    "    \n",
    "    model = Pipeline([\n",
    "        ('norm', TextNormalizer()),\n",
    "        ('sim', Similarity())\n",
    "    ])\n",
    "    \n",
    "    return model.fit_transform(course_content)\n",
    "    \n",
    "    \n",
    "def create_similarity_df(df, min_similarity=0.5, sample_len=None):\n",
    "    \"\"\"\n",
    "    Creates a course similarity DataFrame from a similarity matrix\n",
    "    \n",
    "    :param df DataFrame: Courses dataframe. Must include title and description columns\n",
    "    :param min_similarity float: Minimum similarity to be included in DataFrame\n",
    "    :param sample_len int: Maximum number of courses that will be included in the matrix\n",
    "    \n",
    "    :return DataFrame: a dataframe with following columns:\n",
    "        a_course str: course id\n",
    "        another_course str: course id\n",
    "        similarity float: similarity between courses\n",
    "    \"\"\"\n",
    "    sim_list = []\n",
    "    sim_matrix = create_similarity_matrix(df, sample_len=sample_len)\n",
    "    \n",
    "    for idx, similarities in enumerate(sim_matrix):\n",
    "        a_course_id = df.iloc[idx]['id']\n",
    "        \n",
    "        for idx_sims, sim_score in enumerate(similarities):\n",
    "            if idx == idx_sims:\n",
    "                continue\n",
    "\n",
    "            if sim_score < min_similarity:\n",
    "                continue\n",
    "\n",
    "            another_course_id = df.iloc[idx_sims]['id']\n",
    "\n",
    "            sim_list.append({'a_course_id': a_course_id, \n",
    "                             'another_course_id': another_course_id, \n",
    "                             'similarity': sim_score})\n",
    "\n",
    "    return pd.DataFrame(sim_list)"
   ]
  },
  {
   "cell_type": "markdown",
   "metadata": {},
   "source": [
    "I will create a similarity matrix with a sample of 50 courses"
   ]
  },
  {
   "cell_type": "code",
   "execution_count": 18,
   "metadata": {},
   "outputs": [
    {
     "data": {
      "image/png": "[encoded data removed]",
      "text/plain": [
       "<Figure size 576x432 with 2 Axes>"
      ]
     },
     "metadata": {
      "needs_background": "light"
     },
     "output_type": "display_data"
    }
   ],
   "source": [
    "sims = create_similarity_matrix(courses_df, sample_len=50)\n",
    "\n",
    "fig, ax = plt.subplots(figsize=(8, 6))\n",
    "\n",
    "cax = ax.matshow(sims, interpolation='nearest')\n",
    "fig.colorbar(cax)\n",
    "ax.set_title('Courses similarity')\n",
    "\n",
    "plt.show();"
   ]
  },
  {
   "cell_type": "markdown",
   "metadata": {},
   "source": [
    "The similarity dataframe will look like this:"
   ]
  },
  {
   "cell_type": "code",
   "execution_count": 19,
   "metadata": {},
   "outputs": [
    {
     "data": {
      "text/html": [
       "<div>\n",
       "<style scoped>\n",
       "    .dataframe tbody tr th:only-of-type {\n",
       "        vertical-align: middle;\n",
       "    }\n",
       "\n",
       "    .dataframe tbody tr th {\n",
       "        vertical-align: top;\n",
       "    }\n",
       "\n",
       "    .dataframe thead th {\n",
       "        text-align: right;\n",
       "    }\n",
       "</style>\n",
       "<table border=\"1\" class=\"dataframe\">\n",
       "  <thead>\n",
       "    <tr style=\"text-align: right;\">\n",
       "      <th></th>\n",
       "      <th>a_course_id</th>\n",
       "      <th>another_course_id</th>\n",
       "      <th>similarity</th>\n",
       "    </tr>\n",
       "  </thead>\n",
       "  <tbody>\n",
       "    <tr>\n",
       "      <th>0</th>\n",
       "      <td>170037187</td>\n",
       "      <td>170037258</td>\n",
       "      <td>0.772166</td>\n",
       "    </tr>\n",
       "    <tr>\n",
       "      <th>1</th>\n",
       "      <td>170037258</td>\n",
       "      <td>170037187</td>\n",
       "      <td>0.772166</td>\n",
       "    </tr>\n",
       "  </tbody>\n",
       "</table>\n",
       "</div>"
      ],
      "text/plain": [
       "  a_course_id another_course_id  similarity\n",
       "0   170037187         170037258    0.772166\n",
       "1   170037258         170037187    0.772166"
      ]
     },
     "execution_count": 19,
     "metadata": {},
     "output_type": "execute_result"
    }
   ],
   "source": [
    "sims_df_s50 = create_similarity_df(courses_df, sample_len=50)\n",
    "sims_df_s50.head()"
   ]
  },
  {
   "cell_type": "markdown",
   "metadata": {},
   "source": [
    "### 3.1. Create courses content similarity DataFrame\n",
    "And now, I will create the similarities dataframe with the entire courses dataframe. <span style=\"color:red\">**This process took approximately 8 hours on a MacBook pro (2.3 GHz Intel Core i5, 16 GB RAM)**</span>"
   ]
  },
  {
   "cell_type": "code",
   "execution_count": 20,
   "metadata": {},
   "outputs": [],
   "source": [
    "sims_df = create_similarity_df(courses_df)"
   ]
  },
  {
   "cell_type": "code",
   "execution_count": 27,
   "metadata": {},
   "outputs": [
    {
     "data": {
      "text/html": [
       "<div>\n",
       "<style scoped>\n",
       "    .dataframe tbody tr th:only-of-type {\n",
       "        vertical-align: middle;\n",
       "    }\n",
       "\n",
       "    .dataframe tbody tr th {\n",
       "        vertical-align: top;\n",
       "    }\n",
       "\n",
       "    .dataframe thead th {\n",
       "        text-align: right;\n",
       "    }\n",
       "</style>\n",
       "<table border=\"1\" class=\"dataframe\">\n",
       "  <thead>\n",
       "    <tr style=\"text-align: right;\">\n",
       "      <th></th>\n",
       "      <th>a_course_id</th>\n",
       "      <th>another_course_id</th>\n",
       "      <th>similarity</th>\n",
       "    </tr>\n",
       "  </thead>\n",
       "  <tbody>\n",
       "    <tr>\n",
       "      <th>0</th>\n",
       "      <td>170565193</td>\n",
       "      <td>170566126</td>\n",
       "      <td>0.606849</td>\n",
       "    </tr>\n",
       "    <tr>\n",
       "      <th>1</th>\n",
       "      <td>170563091</td>\n",
       "      <td>170263714</td>\n",
       "      <td>0.724279</td>\n",
       "    </tr>\n",
       "    <tr>\n",
       "      <th>2</th>\n",
       "      <td>170563091</td>\n",
       "      <td>170203253</td>\n",
       "      <td>0.548920</td>\n",
       "    </tr>\n",
       "    <tr>\n",
       "      <th>3</th>\n",
       "      <td>170563091</td>\n",
       "      <td>170008122</td>\n",
       "      <td>0.644050</td>\n",
       "    </tr>\n",
       "    <tr>\n",
       "      <th>4</th>\n",
       "      <td>170563091</td>\n",
       "      <td>170563098</td>\n",
       "      <td>0.827058</td>\n",
       "    </tr>\n",
       "  </tbody>\n",
       "</table>\n",
       "</div>"
      ],
      "text/plain": [
       "   a_course_id  another_course_id  similarity\n",
       "0    170565193          170566126    0.606849\n",
       "1    170563091          170263714    0.724279\n",
       "2    170563091          170203253    0.548920\n",
       "3    170563091          170008122    0.644050\n",
       "4    170563091          170563098    0.827058"
      ]
     },
     "execution_count": 27,
     "metadata": {},
     "output_type": "execute_result"
    }
   ],
   "source": [
    "sims_df.head()"
   ]
  },
  {
   "cell_type": "code",
   "execution_count": 28,
   "metadata": {},
   "outputs": [
    {
     "name": "stdout",
     "output_type": "stream",
     "text": [
      "<class 'pandas.core.frame.DataFrame'>\n",
      "RangeIndex: 74110 entries, 0 to 74109\n",
      "Data columns (total 3 columns):\n",
      "a_course_id          74110 non-null int64\n",
      "another_course_id    74110 non-null int64\n",
      "similarity           74110 non-null float64\n",
      "dtypes: float64(1), int64(2)\n",
      "memory usage: 1.7 MB\n"
     ]
    }
   ],
   "source": [
    "sims_df.info()"
   ]
  },
  {
   "cell_type": "markdown",
   "metadata": {},
   "source": [
    "### 3.2. Save courses similarities into the database"
   ]
  },
  {
   "cell_type": "code",
   "execution_count": 29,
   "metadata": {},
   "outputs": [],
   "source": [
    "conn = connection()\n",
    "\n",
    "sql_drop = 'DROP TABLE IF EXISTS `courses_similarities`'\n",
    "conn.execute(sql_drop)\n",
    "\n",
    "sql_create = \"\"\"CREATE TABLE `courses_similarities` (\n",
    "  `a_course_id` varchar(9) NOT NULL,\n",
    "  `another_course_id` varchar(9) NOT NULL,\n",
    "  `similarity` double NOT NULL,\n",
    "  PRIMARY KEY (`a_course_id`, `another_course_id`)\n",
    ") ENGINE=InnoDB DEFAULT CHARSET=utf8\n",
    "\"\"\"\n",
    "conn.execute(sql_create)\n",
    "\n",
    "# Save course similarities to database\n",
    "sims_df.to_sql('courses_similarities', con=conn, if_exists='append', index=False)"
   ]
  },
  {
   "cell_type": "markdown",
   "metadata": {},
   "source": [
    "## 4. Create the user-item matrices"
   ]
  },
  {
   "cell_type": "markdown",
   "metadata": {},
   "source": [
    "Now, I will create the user item matrices"
   ]
  },
  {
   "cell_type": "code",
   "execution_count": 5,
   "metadata": {},
   "outputs": [],
   "source": [
    "def create_ratings_user_item_matrix(df=reviews_df):\n",
    "    \"\"\"Creates a ratings user-item matrix DataFrame reviews\n",
    "\n",
    "    :return: A DataFrame representing the ratings user-item matrix\n",
    "    \"\"\"\n",
    "    user_items = df[['user_id', 'course_id', 'rating']]\n",
    "\n",
    "    return user_items.groupby(['user_id', 'course_id'])['rating'].max().unstack()\n",
    "\n",
    "def create_leads_user_item_matrix(df=leads_df):\n",
    "    \"\"\"Creates a leads user-item matrix DataFrame reviews\n",
    "\n",
    "    :return: A DataFrame representing the leads user-item matrix\n",
    "    \"\"\"\n",
    "    user_items = df[['user_id', 'course_id']]\n",
    "\n",
    "    user_item_matrix = user_items.groupby(['user_id', 'course_id'])['course_id'].max().unstack()\n",
    "    user_item_matrix = user_item_matrix.where(user_item_matrix.isnull(), other=1)\n",
    "    user_item_matrix = user_item_matrix.fillna(0)\n",
    "\n",
    "    return user_item_matrix"
   ]
  },
  {
   "cell_type": "code",
   "execution_count": 9,
   "metadata": {},
   "outputs": [],
   "source": [
    "ratings_user_item_matrix = create_ratings_user_item_matrix(reviews_df)\n",
    "leads_user_item_matrix = create_leads_user_item_matrix(leads_df)"
   ]
  },
  {
   "cell_type": "markdown",
   "metadata": {},
   "source": [
    "### 4.1. Save the matrices to csv files"
   ]
  },
  {
   "cell_type": "code",
   "execution_count": 10,
   "metadata": {},
   "outputs": [],
   "source": [
    "leads_user_item_matrix.to_csv('../data/leads_matrix.csv')\n",
    "ratings_user_item_matrix.to_csv('../data/ratings_matrix.csv')"
   ]
  },
  {
   "cell_type": "markdown",
   "metadata": {},
   "source": [
    "### 4.2. Checking the files size"
   ]
  },
  {
   "cell_type": "code",
   "execution_count": 12,
   "metadata": {},
   "outputs": [
    {
     "name": "stdout",
     "output_type": "stream",
     "text": [
      "Leads matrix size is 516.91 MB\n",
      "Ratings matrix size is 254.21 MB\n"
     ]
    }
   ],
   "source": [
    "leads_file_stats = os.stat('../data/leads_matrix.csv')\n",
    "ratings_file_stats = os.stat('../data/ratings_matrix.csv')\n",
    "\n",
    "print('Leads matrix size is {:.2f} MB'.format(leads_file_stats.st_size / (1024 * 1024)))\n",
    "print('Ratings matrix size is {:.2f} MB'.format(ratings_file_stats.st_size / (1024 * 1024)))"
   ]
  },
  {
   "cell_type": "markdown",
   "metadata": {},
   "source": [
    "The user-item matrices seems to be too heavy (about 500MB and 255MB) to be loaded  on every request of a web application or an API. To overcome this problem, I will create 'pre-baked' recommendation structures, that is, all recommendations for each user and course. The disadvantage of this strategy is that it will be necessary to execute the generation processes of these structures very frequently to keep the data updated."
   ]
  },
  {
   "cell_type": "markdown",
   "metadata": {},
   "source": [
    "## 5. Collaborative filtering\n",
    "\n",
    "### 5.1. Course-based collaborative filtering\n",
    " \n",
    "This type of recommendation uses the leads generated by users on courses. This will be useful for each course to have a section called \"Users who requested information about this course were also interested in...\". \n",
    "\n",
    "That section will be very helpful for new users without information request history."
   ]
  },
  {
   "cell_type": "code",
   "execution_count": 15,
   "metadata": {},
   "outputs": [],
   "source": [
    "def requested_courses(user_id):\n",
    "    \"\"\"Returns an array of courses ids to which the user has generated lead\n",
    "\n",
    "    :param user_id: User id for which we want to find generated leads\n",
    "    :return: An array of courses ids to which the user has generated lead\n",
    "    \"\"\"\n",
    "    return leads_df[leads_df['user_id'] == user_id]['course_id'].values\n",
    "\n",
    "def course_course_recommendations(course_id, user_item_matrix, max_recs=10):\n",
    "    \"\"\"Returns an array of recommended courses based on leads generated in one course\n",
    "\n",
    "    :param course_id: Course id for which we want to make the recommendations\n",
    "    :param user_item_matrix: Leads user-item matrix\n",
    "    :param max_recs: Maximum number of recommendations\n",
    "    :return numpy.array: Array of courses recommended based on generated leads in one course\n",
    "    \"\"\"\n",
    "    users = np.array(user_item_matrix[user_item_matrix.loc[:, course_id] == 1].index)\n",
    "    recs = np.array([])\n",
    "\n",
    "    for user_id in users:\n",
    "        user_courses = requested_courses(user_id)\n",
    "\n",
    "        new_recs = user_courses[user_courses != course_id]\n",
    "        recs = np.unique(np.concatenate([new_recs, recs], axis=0))\n",
    "\n",
    "        if len(recs) > max_recs:\n",
    "            break\n",
    "\n",
    "    return recs[:max_recs]"
   ]
  },
  {
   "cell_type": "markdown",
   "metadata": {},
   "source": [
    "#### 5.1.1. Create a course-course recommendation DataFrame\n",
    "This DataFrame will have two columns: column `course` represents the courses that have generated a lead and column `recommended`, where we will have the courses in which the same user who generated a lead in the courses of column `course` also generated leads."
   ]
  },
  {
   "cell_type": "code",
   "execution_count": 17,
   "metadata": {},
   "outputs": [],
   "source": [
    "recommendations = []\n",
    "for course in leads_user_item_matrix.columns:\n",
    "    recs = course_course_recommendations(course, leads_user_item_matrix)\n",
    "    for rec in recs:\n",
    "        recommendations.append({'course': course, 'recommended': rec})\n",
    "\n",
    "course_course_recs_df = pd.DataFrame(recommendations)"
   ]
  },
  {
   "cell_type": "code",
   "execution_count": 18,
   "metadata": {},
   "outputs": [
    {
     "name": "stdout",
     "output_type": "stream",
     "text": [
      "<class 'pandas.core.frame.DataFrame'>\n",
      "RangeIndex: 29469 entries, 0 to 29468\n",
      "Data columns (total 2 columns):\n",
      "course         29469 non-null object\n",
      "recommended    29469 non-null object\n",
      "dtypes: object(2)\n",
      "memory usage: 460.5+ KB\n"
     ]
    }
   ],
   "source": [
    "course_course_recs_df.info()"
   ]
  },
  {
   "cell_type": "markdown",
   "metadata": {},
   "source": [
    "#### 5.1.2. Save recommendations to database"
   ]
  },
  {
   "cell_type": "code",
   "execution_count": 19,
   "metadata": {},
   "outputs": [],
   "source": [
    "conn = connection()\n",
    "\n",
    "sql_drop = 'DROP TABLE IF EXISTS `recommended_courses_by_leads`'\n",
    "conn.execute(sql_drop)\n",
    "\n",
    "sql_create = \"\"\"CREATE TABLE `recommended_courses_by_leads` (\n",
    "  `course` varchar(9) NOT NULL,\n",
    "  `recommended` varchar(9) NOT NULL,\n",
    "  PRIMARY KEY (`course`, `recommended`)\n",
    ") ENGINE=InnoDB DEFAULT CHARSET=utf8\n",
    "\"\"\"\n",
    "conn.execute(sql_create)\n",
    "\n",
    "# Save recommendations to database\n",
    "course_course_recs_df.to_sql('recommended_courses_by_leads', con=conn, if_exists='append', index=False)"
   ]
  },
  {
   "cell_type": "markdown",
   "metadata": {},
   "source": [
    "### 5.2. Neighborhood based collaborative filtering using leads data\n",
    "#### 5.2.1. The matrix sparsity problem\n",
    "If we want to recommend courses to a user based on leads generated by other users, the problem gets worse. We have a matrix with 26186 users and 10331 courses, so we have more than 270 million cells, most of which with zero value (only 37085 filled with non-zero values)."
   ]
  },
  {
   "cell_type": "code",
   "execution_count": 20,
   "metadata": {},
   "outputs": [
    {
     "data": {
      "text/plain": [
       "(26186, 10331)"
      ]
     },
     "execution_count": 20,
     "metadata": {},
     "output_type": "execute_result"
    }
   ],
   "source": [
    "leads_user_item_matrix.shape"
   ]
  },
  {
   "cell_type": "code",
   "execution_count": 21,
   "metadata": {
    "scrolled": true
   },
   "outputs": [
    {
     "data": {
      "text/plain": [
       "270527566"
      ]
     },
     "execution_count": 21,
     "metadata": {},
     "output_type": "execute_result"
    }
   ],
   "source": [
    "leads_user_item_matrix.shape[0] * leads_user_item_matrix.shape[1]"
   ]
  },
  {
   "cell_type": "code",
   "execution_count": 22,
   "metadata": {},
   "outputs": [
    {
     "data": {
      "text/plain": [
       "37085"
      ]
     },
     "execution_count": 22,
     "metadata": {},
     "output_type": "execute_result"
    }
   ],
   "source": [
    "# Count non-zero values\n",
    "(leads_user_item_matrix != 0).sum().sum()"
   ]
  },
  {
   "cell_type": "markdown",
   "metadata": {},
   "source": [
    "This causes two problems:\n",
    "\n",
    "As I said before, we would need around 500MB memory to store the matrix. The second problem is that we need to perform operations on this matrix and the execution time of these operations would be very long.\n",
    "\n",
    "Since the bulk of the computation performed will involve adding or multiplying zero values together, we could perform the calculations only when there is a connection between the user and the course, that is when the cell value is 1.\n",
    "\n",
    "The solution to representing and working with sparse matrices is to use an alternate data structure to represent the sparse data.\n",
    "\n",
    "SciPy provides an [implementation](https://docs.scipy.org/doc/scipy/reference/generated/scipy.sparse.csr_matrix.html) for creating sparse matrix from multiple structures.\n",
    "\n",
    "I will create a sparse matrix from the `leads_user_item_matrix`:"
   ]
  },
  {
   "cell_type": "code",
   "execution_count": 23,
   "metadata": {},
   "outputs": [
    {
     "data": {
      "text/plain": [
       "<26186x10331 sparse matrix of type '<class 'numpy.int8'>'\n",
       "\twith 37085 stored elements in Compressed Sparse Row format>"
      ]
     },
     "execution_count": 23,
     "metadata": {},
     "output_type": "execute_result"
    }
   ],
   "source": [
    "sp_user_item_matrix = csr_matrix(leads_user_item_matrix.values, dtype='int8')\n",
    "sp_user_item_matrix"
   ]
  },
  {
   "cell_type": "code",
   "execution_count": 24,
   "metadata": {
    "scrolled": true
   },
   "outputs": [
    {
     "name": "stdout",
     "output_type": "stream",
     "text": [
      "  (0, 6556)\t1\n",
      "  (0, 6864)\t1\n",
      "  (0, 8165)\t1\n",
      "  (0, 9224)\t1\n",
      "  (1, 5944)\t1\n",
      "  (2, 8081)\t1\n",
      "  (3, 10232)\t1\n",
      "  (4, 10059)\t1\n",
      "  (5, 8159)\t1\n",
      "  (6, 293)\t1\n",
      "  (7, 6887)\t1\n",
      "  (8, 8843)\t1\n",
      "  (9, 9486)\t1\n",
      "  (10, 9855)\t1\n",
      "  (11, 5926)\t1\n",
      "  (12, 10232)\t1\n",
      "  (13, 10041)\t1\n",
      "  (14, 9094)\t1\n",
      "  (15, 4456)\t1\n",
      "  (16, 10041)\t1\n",
      "  (17, 10244)\t1\n",
      "  (18, 9181)\t1\n",
      "  (19, 1708)\t1\n",
      "  (19, 3784)\t1\n",
      "  (19, 3793)\t1\n",
      "  :\t:\n",
      "  (26163, 9055)\t1\n",
      "  (26164, 6535)\t1\n",
      "  (26165, 2569)\t1\n",
      "  (26166, 3669)\t1\n",
      "  (26167, 9058)\t1\n",
      "  (26168, 6090)\t1\n",
      "  (26169, 91)\t1\n",
      "  (26170, 9181)\t1\n",
      "  (26171, 3068)\t1\n",
      "  (26172, 10283)\t1\n",
      "  (26173, 7578)\t1\n",
      "  (26174, 10244)\t1\n",
      "  (26175, 10035)\t1\n",
      "  (26176, 1629)\t1\n",
      "  (26177, 2175)\t1\n",
      "  (26178, 1730)\t1\n",
      "  (26179, 9181)\t1\n",
      "  (26180, 3103)\t1\n",
      "  (26180, 9896)\t1\n",
      "  (26181, 7339)\t1\n",
      "  (26182, 9655)\t1\n",
      "  (26183, 6611)\t1\n",
      "  (26184, 10198)\t1\n",
      "  (26185, 365)\t1\n",
      "  (26185, 3825)\t1\n"
     ]
    }
   ],
   "source": [
    "print(sp_user_item_matrix)"
   ]
  },
  {
   "cell_type": "markdown",
   "metadata": {},
   "source": [
    "We see how the csr_matrix looks, the first element of tuple is the row index (users) and the second one is the column (courses) the value represents the relation between users and courses, in this case all values are 1.\n",
    "\n",
    "The next step is to create a user-courses map, a dictionary whose keys are user ids and values ​​the matrix corresponding to that user."
   ]
  },
  {
   "cell_type": "code",
   "execution_count": 25,
   "metadata": {},
   "outputs": [],
   "source": [
    "user_leads_courses_map = {}\n",
    "for i in range(0, sp_user_item_matrix.shape[0]):\n",
    "    user_leads_courses_map[leads_user_item_matrix.index[i]] = sp_user_item_matrix[i]"
   ]
  },
  {
   "cell_type": "code",
   "execution_count": 26,
   "metadata": {},
   "outputs": [],
   "source": [
    "with open('../data/user_courses_map.pickle', 'wb') as filename:\n",
    "    pickle.dump(user_leads_courses_map, filename)\n"
   ]
  },
  {
   "cell_type": "code",
   "execution_count": 27,
   "metadata": {},
   "outputs": [
    {
     "name": "stdout",
     "output_type": "stream",
     "text": [
      "Leads matrix size is 6.38 MB\n"
     ]
    }
   ],
   "source": [
    "file = os.stat('../data/user_courses_map.pickle')\n",
    "\n",
    "print('Leads matrix size is {:.2f} MB'.format(file.st_size / (1024 * 1024)))"
   ]
  },
  {
   "cell_type": "markdown",
   "metadata": {},
   "source": [
    "6.38 MB vs. 516.91 MB, the improvement is amazing.\n",
    "\n",
    "#### 5.2.2. Make recommendations"
   ]
  },
  {
   "cell_type": "code",
   "execution_count": 28,
   "metadata": {},
   "outputs": [],
   "source": [
    "def find_similar_users(user_id, sparse_user_item_dict, min_similarity = 1):\n",
    "    \"\"\" \n",
    "    Creates an array of similar users based on leads generated on the same courses\n",
    "    \n",
    "    :param user_id str: User id for which we want to find similar users\n",
    "    :param user_item_matrix DataFrame: Leads user-item matrix\n",
    "                          \n",
    "    :return numpy.array: Array of similar users sorted by similarity\n",
    "    \"\"\"\n",
    "    \n",
    "    user_courses = np.array(sparse_user_item_dict[user_id].todense())[0]\n",
    "    \n",
    "    similarities = dict()\n",
    "    \n",
    "    for another_user_id, another_user_courses in sparse_user_item_dict.items():\n",
    "        if user_id == another_user_id:\n",
    "            continue\n",
    "        \n",
    "        similarity = np.dot(user_courses, np.array(another_user_courses.todense())[0])\n",
    "        if similarity < min_similarity:\n",
    "            continue        \n",
    "                            \n",
    "        similarities[another_user_id] = similarity\n",
    "        \n",
    "\n",
    "    sorted_similarities = sorted(similarities.items(), key=lambda item: item[1], reverse=True)\n",
    "    \n",
    "    return np.array([id for (id, similarity) in sorted_similarities])\n",
    "\n",
    "def leads_based_recommendations_for_user(user_id, max_recs=10):\n",
    "    \"\"\" \n",
    "    Returns an array of recommended courses for a user based on generated leads\n",
    "    \n",
    "    :param user_id str: User id for which we want to make the recommendations\n",
    "    :param max_recs int: Maximum number of recommendations\n",
    "                          \n",
    "    :return numpy.array: Array of courses recommended based on generated leads\n",
    "    \"\"\"\n",
    "    \n",
    "    user_courses = requested_courses(user_id)\n",
    "    similar_users = find_similar_users(user_id, user_leads_courses_map)\n",
    "\n",
    "    recs = np.array([])\n",
    "\n",
    "    for user in similar_users:\n",
    "        neighbs_leads = requested_courses(user)\n",
    "\n",
    "        new_recs = np.setdiff1d(neighbs_leads, user_courses, assume_unique=True)\n",
    "        recs = np.unique(np.concatenate([new_recs, recs], axis=0))\n",
    "\n",
    "        if len(recs) > max_recs:\n",
    "            break\n",
    "\n",
    "    return recs[:max_recs]\n",
    "\n",
    "def course_names(course_ids):\n",
    "    return courses_df[courses_df['id'].isin(course_ids)]['title'].values"
   ]
  },
  {
   "cell_type": "code",
   "execution_count": 29,
   "metadata": {},
   "outputs": [
    {
     "name": "stdout",
     "output_type": "stream",
     "text": [
      "User courses:\n",
      "['Adobe Photoshop, Illustrator and Graphic Design Bundle Course']\n",
      "\n",
      "Recommended courses:\n",
      "['Enterprise Transformation Maturity Canvas'\n",
      " 'ACCA-Accountancy Traineeship Program' 'HNC Graphic Design'\n",
      " 'Graphics Design and Desktop Publishing'\n",
      " 'Quality Management Systems (QMS) - Lead Auditor'\n",
      " 'Internal Audit - OHSAS 18001 Occupational Health & Safety'\n",
      " 'Advanced Strategic Management'\n",
      " 'Adobe Graphic Design & Web Design Online Training Bundle'\n",
      " 'Professional Diploma in Graphic Design - CPD Certified'\n",
      " 'Auditing and Internal Control Skills']\n"
     ]
    }
   ],
   "source": [
    "user_id = '1460318498c1f53bb880ce2e6d9ef64b'\n",
    "\n",
    "print('User courses:')\n",
    "print(course_names(requested_courses(user_id)))\n",
    "\n",
    "print('\\nRecommended courses:')\n",
    "print(course_names(leads_based_recommendations_for_user(user_id)))"
   ]
  },
  {
   "cell_type": "markdown",
   "metadata": {},
   "source": [
    "It seems that the recommender works fine, it makes sense that a user who has generated lead in an Adobe Photoshop course is recommended courses on graphic design and other Adobe products."
   ]
  },
  {
   "cell_type": "markdown",
   "metadata": {},
   "source": [
    "### 5.3. Neighborhood based collaborative filtering using ratings"
   ]
  },
  {
   "cell_type": "markdown",
   "metadata": {},
   "source": [
    "#### 5.3.1. Make recommendations"
   ]
  },
  {
   "cell_type": "code",
   "execution_count": 71,
   "metadata": {},
   "outputs": [],
   "source": [
    "def rated_courses(user_id):\n",
    "    \"\"\"Returns an array of course ids rated by a user\n",
    "    \n",
    "    :param user_id: User identifier\n",
    "    :return: Array of courses rated by a user\n",
    "    \"\"\"\n",
    "    return reviews_df[reviews_df['user_id'] == user_id]['course_id'].values\n",
    "\n",
    "def courses_liked(user_id, min_rating=7):\n",
    "    \"\"\"Returns an array of courses rated by a user with a rating higher than `min_rating`\n",
    "    \n",
    "    :param user_id str: User id for which we want to find courses rated\n",
    "                          \n",
    "    :return array: Array of course ids rated by a user\n",
    "    \"\"\"\n",
    "    return reviews_df[(reviews_df['user_id'] == user_id) & (reviews_df['rating'] >= min_rating)]['course_id'].values"
   ]
  },
  {
   "cell_type": "code",
   "execution_count": 72,
   "metadata": {},
   "outputs": [],
   "source": [
    "def compute_euclidean_distance(a_user_id, another_user_id, ratings_user_item_matrix):\n",
    "    \"\"\"Computes the euclidean distance between users taking into account the rated courses\n",
    "    \n",
    "    :param a_user_id str: Id of a user\n",
    "    :param another_user_id str: Id of another user\n",
    "    :param user_item_matrix DataFrame: The reviews user-item matrix\n",
    "    :return float: The eculidean distance between the users\n",
    "    \"\"\"\n",
    "    a_user_courses = rated_courses(a_user_id)\n",
    "    another_user_courses = rated_courses(another_user_id)\n",
    "    \n",
    "    similar_courses = np.intersect1d(a_user_courses,\n",
    "                                     another_user_courses, \n",
    "                                     assume_unique=True)\n",
    "    \n",
    "    # there's no courses in common\n",
    "    if len(similar_courses) == 0:\n",
    "        return np.nan\n",
    "    \n",
    "    a_user_courses = ratings_user_item_matrix.loc[a_user_id].values\n",
    "    another_user_courses = ratings_user_item_matrix.loc[another_user_id].values\n",
    "    \n",
    "    return np.linalg.norm(a_user_courses - another_user_courses)\n",
    "\n",
    "def find_closest_neighbors(user_id, user_courses_map):\n",
    "    users = user_courses_map.keys()\n",
    "    distances = []\n",
    "    \n",
    "    for another_user_id in users:\n",
    "        if user_id == another_user_id:\n",
    "            continue\n",
    "            \n",
    "        try: \n",
    "            distance = compute_euclidean_distance(user_id,\n",
    "                                                  another_user_id,\n",
    "                                                  user_courses_map)\n",
    "        except KeyError:\n",
    "            continue\n",
    "\n",
    "        if np.isnan(distance):\n",
    "            continue\n",
    "\n",
    "        distances.append((another_user_id, distance))\n",
    "        \n",
    "    return distances.sort(key=lambda x: x[1])\n"
   ]
  },
  {
   "cell_type": "code",
   "execution_count": 66,
   "metadata": {},
   "outputs": [
    {
     "ename": "KeyboardInterrupt",
     "evalue": "",
     "output_type": "error",
     "traceback": [
      "\u001b[0;31m---------------------------------------------------------------------------\u001b[0m",
      "\u001b[0;31mKeyboardInterrupt\u001b[0m                         Traceback (most recent call last)",
      "\u001b[0;32m<ipython-input-66-a53e45665464>\u001b[0m in \u001b[0;36m<module>\u001b[0;34m\u001b[0m\n\u001b[1;32m      9\u001b[0m             distance = compute_euclidean_distance(user_id,\n\u001b[1;32m     10\u001b[0m                                                   \u001b[0manother_user_id\u001b[0m\u001b[0;34m,\u001b[0m\u001b[0;34m\u001b[0m\u001b[0;34m\u001b[0m\u001b[0m\n\u001b[0;32m---> 11\u001b[0;31m                                                   user_rating_courses_map)\n\u001b[0m\u001b[1;32m     12\u001b[0m         \u001b[0;32mexcept\u001b[0m \u001b[0mKeyError\u001b[0m\u001b[0;34m:\u001b[0m\u001b[0;34m\u001b[0m\u001b[0;34m\u001b[0m\u001b[0m\n\u001b[1;32m     13\u001b[0m             \u001b[0;32mcontinue\u001b[0m\u001b[0;34m\u001b[0m\u001b[0;34m\u001b[0m\u001b[0m\n",
      "\u001b[0;32m<ipython-input-65-99b5ee0e3c56>\u001b[0m in \u001b[0;36mcompute_euclidean_distance\u001b[0;34m(a_user_id, another_user_id, user_courses_map)\u001b[0m\n\u001b[1;32m      7\u001b[0m     \u001b[0;34m:\u001b[0m\u001b[0;32mreturn\u001b[0m \u001b[0mfloat\u001b[0m\u001b[0;34m:\u001b[0m \u001b[0mThe\u001b[0m \u001b[0meculidean\u001b[0m \u001b[0mdistance\u001b[0m \u001b[0mbetween\u001b[0m \u001b[0mthe\u001b[0m \u001b[0musers\u001b[0m\u001b[0;34m\u001b[0m\u001b[0;34m\u001b[0m\u001b[0m\n\u001b[1;32m      8\u001b[0m     \"\"\"\n\u001b[0;32m----> 9\u001b[0;31m     \u001b[0ma_user_courses\u001b[0m \u001b[0;34m=\u001b[0m \u001b[0mrated_courses\u001b[0m\u001b[0;34m(\u001b[0m\u001b[0ma_user_id\u001b[0m\u001b[0;34m)\u001b[0m\u001b[0;34m\u001b[0m\u001b[0;34m\u001b[0m\u001b[0m\n\u001b[0m\u001b[1;32m     10\u001b[0m     \u001b[0manother_user_courses\u001b[0m \u001b[0;34m=\u001b[0m \u001b[0mrated_courses\u001b[0m\u001b[0;34m(\u001b[0m\u001b[0manother_user_id\u001b[0m\u001b[0;34m)\u001b[0m\u001b[0;34m\u001b[0m\u001b[0;34m\u001b[0m\u001b[0m\n\u001b[1;32m     11\u001b[0m \u001b[0;34m\u001b[0m\u001b[0m\n",
      "\u001b[0;32m<ipython-input-40-d55ffed76e2c>\u001b[0m in \u001b[0;36mrated_courses\u001b[0;34m(user_id)\u001b[0m\n\u001b[1;32m      5\u001b[0m     \u001b[0;34m:\u001b[0m\u001b[0;32mreturn\u001b[0m\u001b[0;34m:\u001b[0m \u001b[0mArray\u001b[0m \u001b[0mof\u001b[0m \u001b[0mcourses\u001b[0m \u001b[0mrated\u001b[0m \u001b[0mby\u001b[0m \u001b[0ma\u001b[0m \u001b[0muser\u001b[0m\u001b[0;34m\u001b[0m\u001b[0;34m\u001b[0m\u001b[0m\n\u001b[1;32m      6\u001b[0m     \"\"\"\n\u001b[0;32m----> 7\u001b[0;31m     \u001b[0;32mreturn\u001b[0m \u001b[0mreviews_df\u001b[0m\u001b[0;34m[\u001b[0m\u001b[0mreviews_df\u001b[0m\u001b[0;34m[\u001b[0m\u001b[0;34m'user_id'\u001b[0m\u001b[0;34m]\u001b[0m \u001b[0;34m==\u001b[0m \u001b[0muser_id\u001b[0m\u001b[0;34m]\u001b[0m\u001b[0;34m[\u001b[0m\u001b[0;34m'course_id'\u001b[0m\u001b[0;34m]\u001b[0m\u001b[0;34m.\u001b[0m\u001b[0mvalues\u001b[0m\u001b[0;34m\u001b[0m\u001b[0;34m\u001b[0m\u001b[0m\n\u001b[0m\u001b[1;32m      8\u001b[0m \u001b[0;34m\u001b[0m\u001b[0m\n\u001b[1;32m      9\u001b[0m \u001b[0;32mdef\u001b[0m \u001b[0mcourses_liked\u001b[0m\u001b[0;34m(\u001b[0m\u001b[0muser_id\u001b[0m\u001b[0;34m,\u001b[0m \u001b[0mmin_rating\u001b[0m\u001b[0;34m=\u001b[0m\u001b[0;36m7\u001b[0m\u001b[0;34m)\u001b[0m\u001b[0;34m:\u001b[0m\u001b[0;34m\u001b[0m\u001b[0;34m\u001b[0m\u001b[0m\n",
      "\u001b[0;32m~/anaconda3/lib/python3.7/site-packages/pandas/core/ops.py\u001b[0m in \u001b[0;36mwrapper\u001b[0;34m(self, other, axis)\u001b[0m\n\u001b[1;32m   1764\u001b[0m \u001b[0;34m\u001b[0m\u001b[0m\n\u001b[1;32m   1765\u001b[0m             \u001b[0;32mwith\u001b[0m \u001b[0mnp\u001b[0m\u001b[0;34m.\u001b[0m\u001b[0merrstate\u001b[0m\u001b[0;34m(\u001b[0m\u001b[0mall\u001b[0m\u001b[0;34m=\u001b[0m\u001b[0;34m'ignore'\u001b[0m\u001b[0;34m)\u001b[0m\u001b[0;34m:\u001b[0m\u001b[0;34m\u001b[0m\u001b[0;34m\u001b[0m\u001b[0m\n\u001b[0;32m-> 1766\u001b[0;31m                 \u001b[0mres\u001b[0m \u001b[0;34m=\u001b[0m \u001b[0mna_op\u001b[0m\u001b[0;34m(\u001b[0m\u001b[0mvalues\u001b[0m\u001b[0;34m,\u001b[0m \u001b[0mother\u001b[0m\u001b[0;34m)\u001b[0m\u001b[0;34m\u001b[0m\u001b[0;34m\u001b[0m\u001b[0m\n\u001b[0m\u001b[1;32m   1767\u001b[0m             \u001b[0;32mif\u001b[0m \u001b[0mis_scalar\u001b[0m\u001b[0;34m(\u001b[0m\u001b[0mres\u001b[0m\u001b[0;34m)\u001b[0m\u001b[0;34m:\u001b[0m\u001b[0;34m\u001b[0m\u001b[0;34m\u001b[0m\u001b[0m\n\u001b[1;32m   1768\u001b[0m                 raise TypeError('Could not compare {typ} type with Series'\n",
      "\u001b[0;32m~/anaconda3/lib/python3.7/site-packages/pandas/core/ops.py\u001b[0m in \u001b[0;36mna_op\u001b[0;34m(x, y)\u001b[0m\n\u001b[1;32m   1623\u001b[0m \u001b[0;34m\u001b[0m\u001b[0m\n\u001b[1;32m   1624\u001b[0m         \u001b[0;32mif\u001b[0m \u001b[0mis_object_dtype\u001b[0m\u001b[0;34m(\u001b[0m\u001b[0mx\u001b[0m\u001b[0;34m.\u001b[0m\u001b[0mdtype\u001b[0m\u001b[0;34m)\u001b[0m\u001b[0;34m:\u001b[0m\u001b[0;34m\u001b[0m\u001b[0;34m\u001b[0m\u001b[0m\n\u001b[0;32m-> 1625\u001b[0;31m             \u001b[0mresult\u001b[0m \u001b[0;34m=\u001b[0m \u001b[0m_comp_method_OBJECT_ARRAY\u001b[0m\u001b[0;34m(\u001b[0m\u001b[0mop\u001b[0m\u001b[0;34m,\u001b[0m \u001b[0mx\u001b[0m\u001b[0;34m,\u001b[0m \u001b[0my\u001b[0m\u001b[0;34m)\u001b[0m\u001b[0;34m\u001b[0m\u001b[0;34m\u001b[0m\u001b[0m\n\u001b[0m\u001b[1;32m   1626\u001b[0m \u001b[0;34m\u001b[0m\u001b[0m\n\u001b[1;32m   1627\u001b[0m         \u001b[0;32melif\u001b[0m \u001b[0mis_datetimelike_v_numeric\u001b[0m\u001b[0;34m(\u001b[0m\u001b[0mx\u001b[0m\u001b[0;34m,\u001b[0m \u001b[0my\u001b[0m\u001b[0;34m)\u001b[0m\u001b[0;34m:\u001b[0m\u001b[0;34m\u001b[0m\u001b[0;34m\u001b[0m\u001b[0m\n",
      "\u001b[0;32m~/anaconda3/lib/python3.7/site-packages/pandas/core/ops.py\u001b[0m in \u001b[0;36m_comp_method_OBJECT_ARRAY\u001b[0;34m(op, x, y)\u001b[0m\n\u001b[1;32m   1601\u001b[0m         \u001b[0mresult\u001b[0m \u001b[0;34m=\u001b[0m \u001b[0mlibops\u001b[0m\u001b[0;34m.\u001b[0m\u001b[0mvec_compare\u001b[0m\u001b[0;34m(\u001b[0m\u001b[0mx\u001b[0m\u001b[0;34m,\u001b[0m \u001b[0my\u001b[0m\u001b[0;34m,\u001b[0m \u001b[0mop\u001b[0m\u001b[0;34m)\u001b[0m\u001b[0;34m\u001b[0m\u001b[0;34m\u001b[0m\u001b[0m\n\u001b[1;32m   1602\u001b[0m     \u001b[0;32melse\u001b[0m\u001b[0;34m:\u001b[0m\u001b[0;34m\u001b[0m\u001b[0;34m\u001b[0m\u001b[0m\n\u001b[0;32m-> 1603\u001b[0;31m         \u001b[0mresult\u001b[0m \u001b[0;34m=\u001b[0m \u001b[0mlibops\u001b[0m\u001b[0;34m.\u001b[0m\u001b[0mscalar_compare\u001b[0m\u001b[0;34m(\u001b[0m\u001b[0mx\u001b[0m\u001b[0;34m,\u001b[0m \u001b[0my\u001b[0m\u001b[0;34m,\u001b[0m \u001b[0mop\u001b[0m\u001b[0;34m)\u001b[0m\u001b[0;34m\u001b[0m\u001b[0;34m\u001b[0m\u001b[0m\n\u001b[0m\u001b[1;32m   1604\u001b[0m     \u001b[0;32mreturn\u001b[0m \u001b[0mresult\u001b[0m\u001b[0;34m\u001b[0m\u001b[0;34m\u001b[0m\u001b[0m\n\u001b[1;32m   1605\u001b[0m \u001b[0;34m\u001b[0m\u001b[0m\n",
      "\u001b[0;31mKeyboardInterrupt\u001b[0m: "
     ]
    }
   ],
   "source": [
    "distances = []\n",
    "max = 10\n",
    "for user_id in ratings_user_item_matrix.index:\n",
    "    for another_user_id in ratings_user_item_matrix.index:\n",
    "        if user_id == another_user_id:\n",
    "            continue\n",
    "            \n",
    "        try: \n",
    "            distance = compute_euclidean_distance(user_id,\n",
    "                                                  another_user_id,\n",
    "                                                  ratings_user_item_matrix)\n",
    "        except KeyError:\n",
    "            continue\n",
    "\n",
    "        if np.isnan(distance):\n",
    "            continue\n",
    "\n",
    "        distances.append({'a_user_id': user_id, 'another_user_id': another_user_id, 'eucl_distance': distance})\n",
    "    if len(distances) >= 10:\n",
    "        break\n",
    "        \n",
    "eucl_distances_df = pd.DataFrame(distances)"
   ]
  },
  {
   "cell_type": "code",
   "execution_count": null,
   "metadata": {},
   "outputs": [],
   "source": [
    "eucl_distances_df.head()"
   ]
  },
  {
   "cell_type": "code",
   "execution_count": 45,
   "metadata": {},
   "outputs": [],
   "source": [
    "def make_rating_recommendations(user_id, max_recs=10):\n",
    "    \"\"\"Returns an array of recommended courses for a user based on users ratings\n",
    "    \n",
    "    :param user_id str: User id for which we want to make the recommendations\n",
    "    :param max_recs int: Maximum number of recommendations\n",
    "    :return numpy.array: Array of courses recommended based on user ratings\n",
    "    \"\"\"\n",
    "    recs = np.array([])\n",
    "    \n",
    "    user_rated_courses = rated_courses(user_id)\n",
    "    closest_neighbors = find_closest_neighbors(user_id, user_rating_courses_map)\n",
    "    \n",
    "    if not closest_neighbors:\n",
    "        return recs\n",
    "    \n",
    "    for neighbor, _ in closest_neighbors:\n",
    "        neighbs_likes = courses_liked(neighbor)\n",
    "        \n",
    "        #Obtain recommendations for each neighbor\n",
    "        new_recs = np.setdiff1d(neighbs_likes, user_rated_courses, assume_unique=True)\n",
    "        \n",
    "        # Update recs with new recs\n",
    "        recs = np.unique(np.concatenate([new_recs, recs], axis=0))\n",
    "        \n",
    "        # If we have enough recommendations exit the loop\n",
    "        if len(recs) > num_recs-1:\n",
    "            break\n",
    "            \n",
    "    return recs\n",
    "    "
   ]
  },
  {
   "cell_type": "code",
   "execution_count": 46,
   "metadata": {},
   "outputs": [
    {
     "name": "stdout",
     "output_type": "stream",
     "text": [
      "['BSc (Hons) Environmental Management and Ecology']\n",
      "[]\n"
     ]
    }
   ],
   "source": [
    "user_id = '000958fdaefe0dd06f5d7c4e4a5f28d1'\n",
    "print(course_names(courses_liked(user_id)))\n",
    "print(course_names(make_rating_recommendations(user_id)))"
   ]
  },
  {
   "cell_type": "code",
   "execution_count": 70,
   "metadata": {},
   "outputs": [
    {
     "data": {
      "text/plain": [
       "array([nan, nan, nan, ..., nan, nan, nan])"
      ]
     },
     "execution_count": 70,
     "metadata": {},
     "output_type": "execute_result"
    }
   ],
   "source": [
    "ratings_user_item_matrix.loc['000958fdaefe0dd06f5d7c4e4a5f28d1'].values"
   ]
  },
  {
   "cell_type": "code",
   "execution_count": null,
   "metadata": {},
   "outputs": [],
   "source": []
  }
 ],
 "metadata": {
  "kernelspec": {
   "display_name": "Python 3",
   "language": "python",
   "name": "python3"
  },
  "language_info": {
   "codemirror_mode": {
    "name": "ipython",
    "version": 3
   },
   "file_extension": ".py",
   "mimetype": "text/x-python",
   "name": "python",
   "nbconvert_exporter": "python",
   "pygments_lexer": "ipython3",
   "version": "3.7.3"
  },
  "latex_envs": {
   "LaTeX_envs_menu_present": true,
   "autoclose": false,
   "autocomplete": true,
   "bibliofile": "biblio.bib",
   "cite_by": "apalike",
   "current_citInitial": 1,
   "eqLabelWithNumbers": true,
   "eqNumInitial": 1,
   "hotkeys": {
    "equation": "Ctrl-E",
    "itemize": "Ctrl-I"
   },
   "labels_anchors": false,
   "latex_user_defs": false,
   "report_style_numbering": false,
   "user_envs_cfg": false
  }
 },
 "nbformat": 4,
 "nbformat_minor": 2
}
