{
 "cells": [
  {
   "cell_type": "markdown",
   "metadata": {},
   "source": [
    "## Import libraries"
   ]
  },
  {
   "cell_type": "code",
   "execution_count": 1,
   "metadata": {},
   "outputs": [
    {
     "name": "stderr",
     "output_type": "stream",
     "text": [
      "[nltk_data] Downloading package punkt to\n",
      "[nltk_data]     /Users/ciscodelgado/nltk_data...\n",
      "[nltk_data]   Package punkt is already up-to-date!\n",
      "[nltk_data] Downloading package stopwords to\n",
      "[nltk_data]     /Users/ciscodelgado/nltk_data...\n",
      "[nltk_data]   Package stopwords is already up-to-date!\n",
      "[nltk_data] Downloading package averaged_perceptron_tagger to\n",
      "[nltk_data]     /Users/ciscodelgado/nltk_data...\n",
      "[nltk_data]   Package averaged_perceptron_tagger is already up-to-\n",
      "[nltk_data]       date!\n"
     ]
    }
   ],
   "source": [
    "import numpy as np\n",
    "import pandas as pd\n",
    "import pickle\n",
    "from sklearn.pipeline import Pipeline\n",
    "from sqlalchemy import types as sql_types\n",
    "from txtools.normalizer import TextNormalizer, clean_text\n",
    "from txtools.utils import LangDetector\n",
    "from txtools.similarity import Similarity\n",
    "from db_utils import connection\n",
    "\n",
    "import matplotlib as mpl\n",
    "import matplotlib.pyplot as plt\n",
    "\n",
    "%matplotlib inline"
   ]
  },
  {
   "cell_type": "markdown",
   "metadata": {},
   "source": [
    "## Retrieving leads\n",
    "I will get a sample of leads from Emagister database gererated in the last year. The sample table `leads` contains 25000 leads."
   ]
  },
  {
   "cell_type": "code",
   "execution_count": 139,
   "metadata": {},
   "outputs": [],
   "source": [
    "leads_query = '''SELECT user_id,\n",
    "    course_id,\n",
    "    course_title,\n",
    "    course_description,\n",
    "    course_category,\n",
    "    center,\n",
    "    created_on\n",
    "FROM leads\n",
    "ORDER BY created_on DESC\n",
    "'''\n",
    "\n",
    "leads_df = pd.read_sql_query(leads_query, con=connection())"
   ]
  },
  {
   "cell_type": "code",
   "execution_count": 140,
   "metadata": {},
   "outputs": [
    {
     "data": {
      "text/html": [
       "<div>\n",
       "<style scoped>\n",
       "    .dataframe tbody tr th:only-of-type {\n",
       "        vertical-align: middle;\n",
       "    }\n",
       "\n",
       "    .dataframe tbody tr th {\n",
       "        vertical-align: top;\n",
       "    }\n",
       "\n",
       "    .dataframe thead th {\n",
       "        text-align: right;\n",
       "    }\n",
       "</style>\n",
       "<table border=\"1\" class=\"dataframe\">\n",
       "  <thead>\n",
       "    <tr style=\"text-align: right;\">\n",
       "      <th></th>\n",
       "      <th>user_id</th>\n",
       "      <th>course_id</th>\n",
       "      <th>course_title</th>\n",
       "      <th>course_description</th>\n",
       "      <th>course_category</th>\n",
       "      <th>center</th>\n",
       "      <th>created_on</th>\n",
       "    </tr>\n",
       "  </thead>\n",
       "  <tbody>\n",
       "    <tr>\n",
       "      <th>0</th>\n",
       "      <td>f6cc096c484223cb6e685b2040a94503</td>\n",
       "      <td>170565193</td>\n",
       "      <td>Hotel &amp; Catering Management</td>\n",
       "      <td>Wouldn’t it be great to put yourself into the ...</td>\n",
       "      <td>Catering</td>\n",
       "      <td>International Open Academy</td>\n",
       "      <td>2019-12-26 22:08:19</td>\n",
       "    </tr>\n",
       "    <tr>\n",
       "      <th>1</th>\n",
       "      <td>e357c31909d5d2f2be3a21422f85041c</td>\n",
       "      <td>170563091</td>\n",
       "      <td>Complementary Therapies - Level 2</td>\n",
       "      <td>This course will provide an introduction to th...</td>\n",
       "      <td>Alternative Health</td>\n",
       "      <td>Hugh Baird College</td>\n",
       "      <td>2019-12-26 21:55:14</td>\n",
       "    </tr>\n",
       "    <tr>\n",
       "      <th>2</th>\n",
       "      <td>1fded1ec757c0e13c34cb2374a658281</td>\n",
       "      <td>170418102</td>\n",
       "      <td>CompTIA A+ Certification Online Course</td>\n",
       "      <td>Are you looking to advance in your professiona...</td>\n",
       "      <td>Network Administration</td>\n",
       "      <td>Distance Learning Centre</td>\n",
       "      <td>2019-12-26 21:54:31</td>\n",
       "    </tr>\n",
       "    <tr>\n",
       "      <th>3</th>\n",
       "      <td>f6cc096c484223cb6e685b2040a94503</td>\n",
       "      <td>170265579</td>\n",
       "      <td>Part Time Survival Cooking</td>\n",
       "      <td>This course aims to develop the learners knowl...</td>\n",
       "      <td>Cookery</td>\n",
       "      <td>Telford College Of Arts and Technology</td>\n",
       "      <td>2019-12-26 21:52:50</td>\n",
       "    </tr>\n",
       "    <tr>\n",
       "      <th>4</th>\n",
       "      <td>217408ee6a840420049089c1299f3800</td>\n",
       "      <td>170418100</td>\n",
       "      <td>Complete child care course</td>\n",
       "      <td>Approximate Study Time:  100 Hours (Self Study...</td>\n",
       "      <td>Child Care</td>\n",
       "      <td>Distance Learning Centre</td>\n",
       "      <td>2019-12-26 21:46:18</td>\n",
       "    </tr>\n",
       "  </tbody>\n",
       "</table>\n",
       "</div>"
      ],
      "text/plain": [
       "                            user_id  course_id  \\\n",
       "0  f6cc096c484223cb6e685b2040a94503  170565193   \n",
       "1  e357c31909d5d2f2be3a21422f85041c  170563091   \n",
       "2  1fded1ec757c0e13c34cb2374a658281  170418102   \n",
       "3  f6cc096c484223cb6e685b2040a94503  170265579   \n",
       "4  217408ee6a840420049089c1299f3800  170418100   \n",
       "\n",
       "                             course_title  \\\n",
       "0             Hotel & Catering Management   \n",
       "1       Complementary Therapies - Level 2   \n",
       "2  CompTIA A+ Certification Online Course   \n",
       "3              Part Time Survival Cooking   \n",
       "4              Complete child care course   \n",
       "\n",
       "                                  course_description         course_category  \\\n",
       "0  Wouldn’t it be great to put yourself into the ...                Catering   \n",
       "1  This course will provide an introduction to th...      Alternative Health   \n",
       "2  Are you looking to advance in your professiona...  Network Administration   \n",
       "3  This course aims to develop the learners knowl...                 Cookery   \n",
       "4  Approximate Study Time:  100 Hours (Self Study...              Child Care   \n",
       "\n",
       "                                   center          created_on  \n",
       "0              International Open Academy 2019-12-26 22:08:19  \n",
       "1                     Hugh Baird College  2019-12-26 21:55:14  \n",
       "2                Distance Learning Centre 2019-12-26 21:54:31  \n",
       "3  Telford College Of Arts and Technology 2019-12-26 21:52:50  \n",
       "4                Distance Learning Centre 2019-12-26 21:46:18  "
      ]
     },
     "execution_count": 140,
     "metadata": {},
     "output_type": "execute_result"
    }
   ],
   "source": [
    "leads_df.head()"
   ]
  },
  {
   "cell_type": "markdown",
   "metadata": {},
   "source": [
    "### Search for duplicated\n",
    "Duplicated leads, in this case is when a user generates more than one lead into the same course"
   ]
  },
  {
   "cell_type": "code",
   "execution_count": 148,
   "metadata": {},
   "outputs": [
    {
     "data": {
      "text/plain": [
       "235"
      ]
     },
     "execution_count": 148,
     "metadata": {},
     "output_type": "execute_result"
    }
   ],
   "source": [
    "leads_df.duplicated(['user_id', 'course_id']).sum()"
   ]
  },
  {
   "cell_type": "markdown",
   "metadata": {},
   "source": [
    "I will remove the duplicates keeping the first lead generated by the user, that's the one that was created earlier."
   ]
  },
  {
   "cell_type": "code",
   "execution_count": 149,
   "metadata": {},
   "outputs": [],
   "source": [
    "leads_df.drop_duplicates(['user_id', 'course_id'], inplace=True, keep='last')"
   ]
  },
  {
   "cell_type": "code",
   "execution_count": 150,
   "metadata": {},
   "outputs": [
    {
     "data": {
      "text/plain": [
       "0"
      ]
     },
     "execution_count": 150,
     "metadata": {},
     "output_type": "execute_result"
    }
   ],
   "source": [
    "leads_df.duplicated(['user_id', 'course_id']).sum()"
   ]
  },
  {
   "cell_type": "markdown",
   "metadata": {},
   "source": [
    "### Search for missing values"
   ]
  },
  {
   "cell_type": "code",
   "execution_count": 153,
   "metadata": {},
   "outputs": [
    {
     "name": "stdout",
     "output_type": "stream",
     "text": [
      "<class 'pandas.core.frame.DataFrame'>\n",
      "Int64Index: 39765 entries, 0 to 39999\n",
      "Data columns (total 7 columns):\n",
      "user_id               39765 non-null object\n",
      "course_id             39765 non-null object\n",
      "course_title          39765 non-null object\n",
      "course_description    38236 non-null object\n",
      "course_category       39765 non-null object\n",
      "center                39765 non-null object\n",
      "created_on            39765 non-null datetime64[ns]\n",
      "dtypes: datetime64[ns](1), object(6)\n",
      "memory usage: 2.4+ MB\n"
     ]
    }
   ],
   "source": [
    "leads_df.info()"
   ]
  },
  {
   "cell_type": "markdown",
   "metadata": {},
   "source": [
    "There are 1529 leads to courses without descriptions"
   ]
  },
  {
   "cell_type": "code",
   "execution_count": 156,
   "metadata": {},
   "outputs": [
    {
     "data": {
      "text/plain": [
       "653"
      ]
     },
     "execution_count": 156,
     "metadata": {},
     "output_type": "execute_result"
    }
   ],
   "source": [
    "leads_df[leads_df['course_description'].isnull()]['course_id'].nunique()"
   ]
  },
  {
   "cell_type": "markdown",
   "metadata": {},
   "source": [
    "Or 653 courses without description. I will keep this rows in the dataframe because the information provided by a lead-course pair is very valuable even if the course has no description."
   ]
  },
  {
   "cell_type": "markdown",
   "metadata": {},
   "source": [
    "### Convert `course_id` column type to string"
   ]
  },
  {
   "cell_type": "code",
   "execution_count": 158,
   "metadata": {},
   "outputs": [],
   "source": [
    "leads_df['course_id'] = leads_df['course_id'].astype(str)"
   ]
  },
  {
   "cell_type": "code",
   "execution_count": 159,
   "metadata": {},
   "outputs": [
    {
     "name": "stdout",
     "output_type": "stream",
     "text": [
      "<class 'pandas.core.frame.DataFrame'>\n",
      "Int64Index: 39765 entries, 0 to 39999\n",
      "Data columns (total 7 columns):\n",
      "user_id               39765 non-null object\n",
      "course_id             39765 non-null object\n",
      "course_title          39765 non-null object\n",
      "course_description    38236 non-null object\n",
      "course_category       39765 non-null object\n",
      "center                39765 non-null object\n",
      "created_on            39765 non-null datetime64[ns]\n",
      "dtypes: datetime64[ns](1), object(6)\n",
      "memory usage: 2.4+ MB\n"
     ]
    }
   ],
   "source": [
    "leads_df.info()"
   ]
  },
  {
   "cell_type": "markdown",
   "metadata": {},
   "source": [
    "## Retrieving reviews\n",
    "The reviews come from the Emagister database and are a sample of those that have been made in the last 18 months."
   ]
  },
  {
   "cell_type": "code",
   "execution_count": 160,
   "metadata": {},
   "outputs": [],
   "source": [
    "reviews_query = '''SELECT user_id,\n",
    "    course_id,\n",
    "    course_title,\n",
    "    course_category,\n",
    "    course_description,\n",
    "    center,\n",
    "    rating,\n",
    "    created_on\n",
    "FROM reviews\n",
    "ORDER BY created_on DESC\n",
    "'''\n",
    "\n",
    "reviews_df = pd.read_sql_query(reviews_query, con=connection())"
   ]
  },
  {
   "cell_type": "code",
   "execution_count": 161,
   "metadata": {},
   "outputs": [
    {
     "data": {
      "text/html": [
       "<div>\n",
       "<style scoped>\n",
       "    .dataframe tbody tr th:only-of-type {\n",
       "        vertical-align: middle;\n",
       "    }\n",
       "\n",
       "    .dataframe tbody tr th {\n",
       "        vertical-align: top;\n",
       "    }\n",
       "\n",
       "    .dataframe thead th {\n",
       "        text-align: right;\n",
       "    }\n",
       "</style>\n",
       "<table border=\"1\" class=\"dataframe\">\n",
       "  <thead>\n",
       "    <tr style=\"text-align: right;\">\n",
       "      <th></th>\n",
       "      <th>user_id</th>\n",
       "      <th>course_id</th>\n",
       "      <th>course_title</th>\n",
       "      <th>course_category</th>\n",
       "      <th>course_description</th>\n",
       "      <th>center</th>\n",
       "      <th>rating</th>\n",
       "      <th>created_on</th>\n",
       "    </tr>\n",
       "  </thead>\n",
       "  <tbody>\n",
       "    <tr>\n",
       "      <th>0</th>\n",
       "      <td>2b8d8517932c25c11858c48b7563d1f0</td>\n",
       "      <td>170378812</td>\n",
       "      <td>SIA Bodyguard Training</td>\n",
       "      <td>Self-development</td>\n",
       "      <td>The SIA approved Close Protection course is th...</td>\n",
       "      <td>Clinton Training Ltd</td>\n",
       "      <td>6</td>\n",
       "      <td>2019-12-26 17:40:22</td>\n",
       "    </tr>\n",
       "    <tr>\n",
       "      <th>1</th>\n",
       "      <td>6c4962141ae920e56739fd36a1383333</td>\n",
       "      <td>170363242</td>\n",
       "      <td>NVQ Tiling courses - Free - Funded by Government</td>\n",
       "      <td>Construction Trades</td>\n",
       "      <td>CSCS Skill Card. &lt;br /&gt;Suitable for: Employed,...</td>\n",
       "      <td>Censura Consulting</td>\n",
       "      <td>10</td>\n",
       "      <td>2019-12-26 17:18:13</td>\n",
       "    </tr>\n",
       "    <tr>\n",
       "      <th>2</th>\n",
       "      <td>52d477c4ebcb10e3368a2fa396d97df7</td>\n",
       "      <td>170628943</td>\n",
       "      <td>Bachelor in Aviation Management</td>\n",
       "      <td>Energy and Utilities</td>\n",
       "      <td>Immerse yourself in the world of aviation mana...</td>\n",
       "      <td>IUBH University of Applied Sciences</td>\n",
       "      <td>10</td>\n",
       "      <td>2019-12-26 14:51:26</td>\n",
       "    </tr>\n",
       "    <tr>\n",
       "      <th>3</th>\n",
       "      <td>8921583e8a24ca92d0ae4b65d86d6c6a</td>\n",
       "      <td>170385895</td>\n",
       "      <td>Forensics</td>\n",
       "      <td>Police</td>\n",
       "      <td>Forensic science is a very exciting area as sh...</td>\n",
       "      <td>International Career Institute</td>\n",
       "      <td>10</td>\n",
       "      <td>2019-12-26 11:27:27</td>\n",
       "    </tr>\n",
       "    <tr>\n",
       "      <th>4</th>\n",
       "      <td>6c4962141ae920e56739fd36a1383333</td>\n",
       "      <td>170363242</td>\n",
       "      <td>NVQ Tiling courses - Free - Funded by Government</td>\n",
       "      <td>Construction Trades</td>\n",
       "      <td>CSCS Skill Card. &lt;br /&gt;Suitable for: Employed,...</td>\n",
       "      <td>Censura Consulting</td>\n",
       "      <td>10</td>\n",
       "      <td>2019-12-26 11:25:08</td>\n",
       "    </tr>\n",
       "  </tbody>\n",
       "</table>\n",
       "</div>"
      ],
      "text/plain": [
       "                            user_id  course_id  \\\n",
       "0  2b8d8517932c25c11858c48b7563d1f0  170378812   \n",
       "1  6c4962141ae920e56739fd36a1383333  170363242   \n",
       "2  52d477c4ebcb10e3368a2fa396d97df7  170628943   \n",
       "3  8921583e8a24ca92d0ae4b65d86d6c6a  170385895   \n",
       "4  6c4962141ae920e56739fd36a1383333  170363242   \n",
       "\n",
       "                                       course_title       course_category  \\\n",
       "0                            SIA Bodyguard Training      Self-development   \n",
       "1  NVQ Tiling courses - Free - Funded by Government   Construction Trades   \n",
       "2                   Bachelor in Aviation Management  Energy and Utilities   \n",
       "3                                         Forensics                Police   \n",
       "4  NVQ Tiling courses - Free - Funded by Government   Construction Trades   \n",
       "\n",
       "                                  course_description  \\\n",
       "0  The SIA approved Close Protection course is th...   \n",
       "1  CSCS Skill Card. <br />Suitable for: Employed,...   \n",
       "2  Immerse yourself in the world of aviation mana...   \n",
       "3  Forensic science is a very exciting area as sh...   \n",
       "4  CSCS Skill Card. <br />Suitable for: Employed,...   \n",
       "\n",
       "                                center  rating          created_on  \n",
       "0                 Clinton Training Ltd       6 2019-12-26 17:40:22  \n",
       "1                   Censura Consulting      10 2019-12-26 17:18:13  \n",
       "2  IUBH University of Applied Sciences      10 2019-12-26 14:51:26  \n",
       "3       International Career Institute      10 2019-12-26 11:27:27  \n",
       "4                   Censura Consulting      10 2019-12-26 11:25:08  "
      ]
     },
     "execution_count": 161,
     "metadata": {},
     "output_type": "execute_result"
    }
   ],
   "source": [
    "reviews_df.head()"
   ]
  },
  {
   "cell_type": "markdown",
   "metadata": {},
   "source": [
    "### Search for outliers in `rating` column"
   ]
  },
  {
   "cell_type": "code",
   "execution_count": 165,
   "metadata": {},
   "outputs": [
    {
     "data": {
      "text/plain": [
       "count    19160.000000\n",
       "mean         9.301461\n",
       "std          1.142509\n",
       "min          2.000000\n",
       "25%          8.000000\n",
       "50%         10.000000\n",
       "75%         10.000000\n",
       "max         10.000000\n",
       "Name: rating, dtype: float64"
      ]
     },
     "execution_count": 165,
     "metadata": {},
     "output_type": "execute_result"
    }
   ],
   "source": [
    "reviews_df['rating'].describe()"
   ]
  },
  {
   "cell_type": "markdown",
   "metadata": {},
   "source": [
    "There seems to be no outliers"
   ]
  },
  {
   "cell_type": "markdown",
   "metadata": {},
   "source": [
    "### Search for duplicated rows"
   ]
  },
  {
   "cell_type": "code",
   "execution_count": 166,
   "metadata": {},
   "outputs": [
    {
     "data": {
      "text/plain": [
       "185"
      ]
     },
     "execution_count": 166,
     "metadata": {},
     "output_type": "execute_result"
    }
   ],
   "source": [
    "reviews_df.duplicated(['user_id', 'course_id']).sum()"
   ]
  },
  {
   "cell_type": "markdown",
   "metadata": {},
   "source": [
    "There are 185 duplicated reviews. I will remove them keeping the first review made by the user."
   ]
  },
  {
   "cell_type": "code",
   "execution_count": 167,
   "metadata": {},
   "outputs": [],
   "source": [
    "reviews_df.drop_duplicates(['user_id', 'course_id'], inplace=True, keep='last')"
   ]
  },
  {
   "cell_type": "code",
   "execution_count": 168,
   "metadata": {},
   "outputs": [
    {
     "data": {
      "text/plain": [
       "0"
      ]
     },
     "execution_count": 168,
     "metadata": {},
     "output_type": "execute_result"
    }
   ],
   "source": [
    "reviews_df.duplicated(['user_id', 'course_id']).sum()"
   ]
  },
  {
   "cell_type": "markdown",
   "metadata": {},
   "source": [
    "### Search for missing values"
   ]
  },
  {
   "cell_type": "code",
   "execution_count": 169,
   "metadata": {
    "scrolled": true
   },
   "outputs": [
    {
     "name": "stdout",
     "output_type": "stream",
     "text": [
      "<class 'pandas.core.frame.DataFrame'>\n",
      "Int64Index: 18975 entries, 0 to 19159\n",
      "Data columns (total 8 columns):\n",
      "user_id               18975 non-null object\n",
      "course_id             18975 non-null int64\n",
      "course_title          18975 non-null object\n",
      "course_category       18975 non-null object\n",
      "course_description    18919 non-null object\n",
      "center                18975 non-null object\n",
      "rating                18975 non-null int64\n",
      "created_on            18975 non-null datetime64[ns]\n",
      "dtypes: datetime64[ns](1), int64(2), object(5)\n",
      "memory usage: 1.3+ MB\n"
     ]
    }
   ],
   "source": [
    "reviews_df.info()"
   ]
  },
  {
   "cell_type": "markdown",
   "metadata": {},
   "source": [
    "There are 56 reviews to courses without description."
   ]
  },
  {
   "cell_type": "code",
   "execution_count": 171,
   "metadata": {},
   "outputs": [
    {
     "data": {
      "text/plain": [
       "23"
      ]
     },
     "execution_count": 171,
     "metadata": {},
     "output_type": "execute_result"
    }
   ],
   "source": [
    "reviews_df[reviews_df['course_description'].isnull()]['course_id'].nunique()"
   ]
  },
  {
   "cell_type": "markdown",
   "metadata": {},
   "source": [
    "Or 23 courses without description. I will do the same as in the previous case. I will keep the rows to keep the information of each review."
   ]
  },
  {
   "cell_type": "markdown",
   "metadata": {},
   "source": [
    "### Convert `course_id` column type to string"
   ]
  },
  {
   "cell_type": "code",
   "execution_count": 172,
   "metadata": {},
   "outputs": [],
   "source": [
    "reviews_df['course_id'] = reviews_df['course_id'].astype(str)"
   ]
  },
  {
   "cell_type": "code",
   "execution_count": 173,
   "metadata": {},
   "outputs": [
    {
     "name": "stdout",
     "output_type": "stream",
     "text": [
      "<class 'pandas.core.frame.DataFrame'>\n",
      "Int64Index: 18975 entries, 0 to 19159\n",
      "Data columns (total 8 columns):\n",
      "user_id               18975 non-null object\n",
      "course_id             18975 non-null object\n",
      "course_title          18975 non-null object\n",
      "course_category       18975 non-null object\n",
      "course_description    18919 non-null object\n",
      "center                18975 non-null object\n",
      "rating                18975 non-null int64\n",
      "created_on            18975 non-null datetime64[ns]\n",
      "dtypes: datetime64[ns](1), int64(1), object(6)\n",
      "memory usage: 1.3+ MB\n"
     ]
    }
   ],
   "source": [
    "reviews_df.info()"
   ]
  },
  {
   "cell_type": "markdown",
   "metadata": {},
   "source": [
    "\n",
    "### Computing the weighted average"
   ]
  },
  {
   "cell_type": "code",
   "execution_count": 174,
   "metadata": {},
   "outputs": [],
   "source": [
    "def average_rating(row, df):\n",
    "    course_id = row['course_id']\n",
    "    \n",
    "    df = df[df['course_id'] == course_id]\n",
    "    avg_rating = df['rating'].mean()\n",
    "    num_reviews = df.shape[0]\n",
    "    \n",
    "    return pd.Series([avg_rating, num_reviews],\n",
    "                     index=['avg_rating', 'num_reviews'])\n"
   ]
  },
  {
   "cell_type": "code",
   "execution_count": 175,
   "metadata": {},
   "outputs": [],
   "source": [
    "def get_c(df=reviews_df):\n",
    "    df = df.drop_duplicates('course_id')\n",
    "        \n",
    "    return df['avg_rating'].mean()"
   ]
  },
  {
   "cell_type": "code",
   "execution_count": 176,
   "metadata": {},
   "outputs": [
    {
     "data": {
      "text/html": [
       "<div>\n",
       "<style scoped>\n",
       "    .dataframe tbody tr th:only-of-type {\n",
       "        vertical-align: middle;\n",
       "    }\n",
       "\n",
       "    .dataframe tbody tr th {\n",
       "        vertical-align: top;\n",
       "    }\n",
       "\n",
       "    .dataframe thead th {\n",
       "        text-align: right;\n",
       "    }\n",
       "</style>\n",
       "<table border=\"1\" class=\"dataframe\">\n",
       "  <thead>\n",
       "    <tr style=\"text-align: right;\">\n",
       "      <th></th>\n",
       "      <th>user_id</th>\n",
       "      <th>course_id</th>\n",
       "      <th>course_title</th>\n",
       "      <th>course_category</th>\n",
       "      <th>course_description</th>\n",
       "      <th>center</th>\n",
       "      <th>rating</th>\n",
       "      <th>created_on</th>\n",
       "      <th>avg_rating</th>\n",
       "      <th>num_reviews</th>\n",
       "    </tr>\n",
       "  </thead>\n",
       "  <tbody>\n",
       "    <tr>\n",
       "      <th>0</th>\n",
       "      <td>2b8d8517932c25c11858c48b7563d1f0</td>\n",
       "      <td>170378812</td>\n",
       "      <td>SIA Bodyguard Training</td>\n",
       "      <td>Self-development</td>\n",
       "      <td>The SIA approved Close Protection course is th...</td>\n",
       "      <td>Clinton Training Ltd</td>\n",
       "      <td>6</td>\n",
       "      <td>2019-12-26 17:40:22</td>\n",
       "      <td>6.000000</td>\n",
       "      <td>1.0</td>\n",
       "    </tr>\n",
       "    <tr>\n",
       "      <th>2</th>\n",
       "      <td>52d477c4ebcb10e3368a2fa396d97df7</td>\n",
       "      <td>170628943</td>\n",
       "      <td>Bachelor in Aviation Management</td>\n",
       "      <td>Energy and Utilities</td>\n",
       "      <td>Immerse yourself in the world of aviation mana...</td>\n",
       "      <td>IUBH University of Applied Sciences</td>\n",
       "      <td>10</td>\n",
       "      <td>2019-12-26 14:51:26</td>\n",
       "      <td>9.428571</td>\n",
       "      <td>7.0</td>\n",
       "    </tr>\n",
       "    <tr>\n",
       "      <th>3</th>\n",
       "      <td>8921583e8a24ca92d0ae4b65d86d6c6a</td>\n",
       "      <td>170385895</td>\n",
       "      <td>Forensics</td>\n",
       "      <td>Police</td>\n",
       "      <td>Forensic science is a very exciting area as sh...</td>\n",
       "      <td>International Career Institute</td>\n",
       "      <td>10</td>\n",
       "      <td>2019-12-26 11:27:27</td>\n",
       "      <td>10.000000</td>\n",
       "      <td>1.0</td>\n",
       "    </tr>\n",
       "    <tr>\n",
       "      <th>4</th>\n",
       "      <td>6c4962141ae920e56739fd36a1383333</td>\n",
       "      <td>170363242</td>\n",
       "      <td>NVQ Tiling courses - Free - Funded by Government</td>\n",
       "      <td>Construction Trades</td>\n",
       "      <td>CSCS Skill Card. &lt;br /&gt;Suitable for: Employed,...</td>\n",
       "      <td>Censura Consulting</td>\n",
       "      <td>10</td>\n",
       "      <td>2019-12-26 11:25:08</td>\n",
       "      <td>9.500000</td>\n",
       "      <td>4.0</td>\n",
       "    </tr>\n",
       "    <tr>\n",
       "      <th>5</th>\n",
       "      <td>6c4962141ae920e56739fd36a1383333</td>\n",
       "      <td>170567406</td>\n",
       "      <td>Level 2 Diploma in Wall and Floor Tiling</td>\n",
       "      <td>Construction Trades</td>\n",
       "      <td>Level 2 Diploma in Wall and Floor Tiling\\n« Re...</td>\n",
       "      <td>Hackney Community College</td>\n",
       "      <td>10</td>\n",
       "      <td>2019-12-26 11:19:59</td>\n",
       "      <td>9.000000</td>\n",
       "      <td>2.0</td>\n",
       "    </tr>\n",
       "  </tbody>\n",
       "</table>\n",
       "</div>"
      ],
      "text/plain": [
       "                            user_id  course_id  \\\n",
       "0  2b8d8517932c25c11858c48b7563d1f0  170378812   \n",
       "2  52d477c4ebcb10e3368a2fa396d97df7  170628943   \n",
       "3  8921583e8a24ca92d0ae4b65d86d6c6a  170385895   \n",
       "4  6c4962141ae920e56739fd36a1383333  170363242   \n",
       "5  6c4962141ae920e56739fd36a1383333  170567406   \n",
       "\n",
       "                                       course_title       course_category  \\\n",
       "0                            SIA Bodyguard Training      Self-development   \n",
       "2                   Bachelor in Aviation Management  Energy and Utilities   \n",
       "3                                         Forensics                Police   \n",
       "4  NVQ Tiling courses - Free - Funded by Government   Construction Trades   \n",
       "5          Level 2 Diploma in Wall and Floor Tiling   Construction Trades   \n",
       "\n",
       "                                  course_description  \\\n",
       "0  The SIA approved Close Protection course is th...   \n",
       "2  Immerse yourself in the world of aviation mana...   \n",
       "3  Forensic science is a very exciting area as sh...   \n",
       "4  CSCS Skill Card. <br />Suitable for: Employed,...   \n",
       "5  Level 2 Diploma in Wall and Floor Tiling\\n« Re...   \n",
       "\n",
       "                                center  rating          created_on  \\\n",
       "0                 Clinton Training Ltd       6 2019-12-26 17:40:22   \n",
       "2  IUBH University of Applied Sciences      10 2019-12-26 14:51:26   \n",
       "3       International Career Institute      10 2019-12-26 11:27:27   \n",
       "4                   Censura Consulting      10 2019-12-26 11:25:08   \n",
       "5            Hackney Community College      10 2019-12-26 11:19:59   \n",
       "\n",
       "   avg_rating  num_reviews  \n",
       "0    6.000000          1.0  \n",
       "2    9.428571          7.0  \n",
       "3   10.000000          1.0  \n",
       "4    9.500000          4.0  \n",
       "5    9.000000          2.0  "
      ]
     },
     "execution_count": 176,
     "metadata": {},
     "output_type": "execute_result"
    }
   ],
   "source": [
    "reviews_avg_rating = reviews_df.apply(average_rating, axis=1, args=(reviews_df,))\n",
    "reviews_df = pd.concat([reviews_df, reviews_avg_rating], axis=1)\n",
    "\n",
    "reviews_df.head()"
   ]
  },
  {
   "cell_type": "code",
   "execution_count": 177,
   "metadata": {},
   "outputs": [
    {
     "name": "stdout",
     "output_type": "stream",
     "text": [
      "<class 'pandas.core.frame.DataFrame'>\n",
      "Int64Index: 18975 entries, 0 to 19159\n",
      "Data columns (total 10 columns):\n",
      "user_id               18975 non-null object\n",
      "course_id             18975 non-null object\n",
      "course_title          18975 non-null object\n",
      "course_category       18975 non-null object\n",
      "course_description    18919 non-null object\n",
      "center                18975 non-null object\n",
      "rating                18975 non-null int64\n",
      "created_on            18975 non-null datetime64[ns]\n",
      "avg_rating            18975 non-null float64\n",
      "num_reviews           18975 non-null float64\n",
      "dtypes: datetime64[ns](1), float64(2), int64(1), object(6)\n",
      "memory usage: 1.6+ MB\n"
     ]
    }
   ],
   "source": [
    "reviews_df.info()"
   ]
  },
  {
   "cell_type": "code",
   "execution_count": 178,
   "metadata": {},
   "outputs": [],
   "source": [
    "def weighted_rating_average(row, C, m):\n",
    "    score = (row['avg_rating'] * row['num_reviews'] + C * m) / (row['num_reviews'] + m)\n",
    "    \n",
    "    return pd.Series(score, index=['weighted_rating_average'])\n"
   ]
  },
  {
   "cell_type": "code",
   "execution_count": 179,
   "metadata": {},
   "outputs": [],
   "source": [
    "C = get_c(reviews_df)\n",
    "\n",
    "rating_average_s = reviews_df.apply(weighted_rating_average, axis=1, args=(C, 50))\n",
    "\n",
    "reviews_df = pd.concat([reviews_df, rating_average_s], axis=1)"
   ]
  },
  {
   "cell_type": "code",
   "execution_count": 180,
   "metadata": {},
   "outputs": [],
   "source": [
    "reviews_df['num_reviews'] = reviews_df['num_reviews'].astype(int)"
   ]
  },
  {
   "cell_type": "code",
   "execution_count": 181,
   "metadata": {},
   "outputs": [
    {
     "data": {
      "text/html": [
       "<div>\n",
       "<style scoped>\n",
       "    .dataframe tbody tr th:only-of-type {\n",
       "        vertical-align: middle;\n",
       "    }\n",
       "\n",
       "    .dataframe tbody tr th {\n",
       "        vertical-align: top;\n",
       "    }\n",
       "\n",
       "    .dataframe thead th {\n",
       "        text-align: right;\n",
       "    }\n",
       "</style>\n",
       "<table border=\"1\" class=\"dataframe\">\n",
       "  <thead>\n",
       "    <tr style=\"text-align: right;\">\n",
       "      <th></th>\n",
       "      <th>user_id</th>\n",
       "      <th>course_id</th>\n",
       "      <th>course_title</th>\n",
       "      <th>course_category</th>\n",
       "      <th>course_description</th>\n",
       "      <th>center</th>\n",
       "      <th>rating</th>\n",
       "      <th>created_on</th>\n",
       "      <th>avg_rating</th>\n",
       "      <th>num_reviews</th>\n",
       "      <th>weighted_rating_average</th>\n",
       "    </tr>\n",
       "  </thead>\n",
       "  <tbody>\n",
       "    <tr>\n",
       "      <th>0</th>\n",
       "      <td>2b8d8517932c25c11858c48b7563d1f0</td>\n",
       "      <td>170378812</td>\n",
       "      <td>SIA Bodyguard Training</td>\n",
       "      <td>Self-development</td>\n",
       "      <td>The SIA approved Close Protection course is th...</td>\n",
       "      <td>Clinton Training Ltd</td>\n",
       "      <td>6</td>\n",
       "      <td>2019-12-26 17:40:22</td>\n",
       "      <td>6.000000</td>\n",
       "      <td>1</td>\n",
       "      <td>9.195609</td>\n",
       "    </tr>\n",
       "    <tr>\n",
       "      <th>2</th>\n",
       "      <td>52d477c4ebcb10e3368a2fa396d97df7</td>\n",
       "      <td>170628943</td>\n",
       "      <td>Bachelor in Aviation Management</td>\n",
       "      <td>Energy and Utilities</td>\n",
       "      <td>Immerse yourself in the world of aviation mana...</td>\n",
       "      <td>IUBH University of Applied Sciences</td>\n",
       "      <td>10</td>\n",
       "      <td>2019-12-26 14:51:26</td>\n",
       "      <td>9.428571</td>\n",
       "      <td>7</td>\n",
       "      <td>9.280282</td>\n",
       "    </tr>\n",
       "    <tr>\n",
       "      <th>3</th>\n",
       "      <td>8921583e8a24ca92d0ae4b65d86d6c6a</td>\n",
       "      <td>170385895</td>\n",
       "      <td>Forensics</td>\n",
       "      <td>Police</td>\n",
       "      <td>Forensic science is a very exciting area as sh...</td>\n",
       "      <td>International Career Institute</td>\n",
       "      <td>10</td>\n",
       "      <td>2019-12-26 11:27:27</td>\n",
       "      <td>10.000000</td>\n",
       "      <td>1</td>\n",
       "      <td>9.274040</td>\n",
       "    </tr>\n",
       "    <tr>\n",
       "      <th>4</th>\n",
       "      <td>6c4962141ae920e56739fd36a1383333</td>\n",
       "      <td>170363242</td>\n",
       "      <td>NVQ Tiling courses - Free - Funded by Government</td>\n",
       "      <td>Construction Trades</td>\n",
       "      <td>CSCS Skill Card. &lt;br /&gt;Suitable for: Employed,...</td>\n",
       "      <td>Censura Consulting</td>\n",
       "      <td>10</td>\n",
       "      <td>2019-12-26 11:25:08</td>\n",
       "      <td>9.500000</td>\n",
       "      <td>4</td>\n",
       "      <td>9.277334</td>\n",
       "    </tr>\n",
       "    <tr>\n",
       "      <th>5</th>\n",
       "      <td>6c4962141ae920e56739fd36a1383333</td>\n",
       "      <td>170567406</td>\n",
       "      <td>Level 2 Diploma in Wall and Floor Tiling</td>\n",
       "      <td>Construction Trades</td>\n",
       "      <td>Level 2 Diploma in Wall and Floor Tiling\\n« Re...</td>\n",
       "      <td>Hackney Community College</td>\n",
       "      <td>10</td>\n",
       "      <td>2019-12-26 11:19:59</td>\n",
       "      <td>9.000000</td>\n",
       "      <td>2</td>\n",
       "      <td>9.249539</td>\n",
       "    </tr>\n",
       "  </tbody>\n",
       "</table>\n",
       "</div>"
      ],
      "text/plain": [
       "                            user_id  course_id  \\\n",
       "0  2b8d8517932c25c11858c48b7563d1f0  170378812   \n",
       "2  52d477c4ebcb10e3368a2fa396d97df7  170628943   \n",
       "3  8921583e8a24ca92d0ae4b65d86d6c6a  170385895   \n",
       "4  6c4962141ae920e56739fd36a1383333  170363242   \n",
       "5  6c4962141ae920e56739fd36a1383333  170567406   \n",
       "\n",
       "                                       course_title       course_category  \\\n",
       "0                            SIA Bodyguard Training      Self-development   \n",
       "2                   Bachelor in Aviation Management  Energy and Utilities   \n",
       "3                                         Forensics                Police   \n",
       "4  NVQ Tiling courses - Free - Funded by Government   Construction Trades   \n",
       "5          Level 2 Diploma in Wall and Floor Tiling   Construction Trades   \n",
       "\n",
       "                                  course_description  \\\n",
       "0  The SIA approved Close Protection course is th...   \n",
       "2  Immerse yourself in the world of aviation mana...   \n",
       "3  Forensic science is a very exciting area as sh...   \n",
       "4  CSCS Skill Card. <br />Suitable for: Employed,...   \n",
       "5  Level 2 Diploma in Wall and Floor Tiling\\n« Re...   \n",
       "\n",
       "                                center  rating          created_on  \\\n",
       "0                 Clinton Training Ltd       6 2019-12-26 17:40:22   \n",
       "2  IUBH University of Applied Sciences      10 2019-12-26 14:51:26   \n",
       "3       International Career Institute      10 2019-12-26 11:27:27   \n",
       "4                   Censura Consulting      10 2019-12-26 11:25:08   \n",
       "5            Hackney Community College      10 2019-12-26 11:19:59   \n",
       "\n",
       "   avg_rating  num_reviews  weighted_rating_average  \n",
       "0    6.000000            1                 9.195609  \n",
       "2    9.428571            7                 9.280282  \n",
       "3   10.000000            1                 9.274040  \n",
       "4    9.500000            4                 9.277334  \n",
       "5    9.000000            2                 9.249539  "
      ]
     },
     "execution_count": 181,
     "metadata": {},
     "output_type": "execute_result"
    }
   ],
   "source": [
    "reviews_df.head()"
   ]
  },
  {
   "cell_type": "markdown",
   "metadata": {},
   "source": [
    "## Create courses dataframe\n",
    "\n",
    "I will create a dataframe of unique courses from the reviews and leads dataframes"
   ]
  },
  {
   "cell_type": "code",
   "execution_count": 229,
   "metadata": {},
   "outputs": [
    {
     "data": {
      "text/html": [
       "<div>\n",
       "<style scoped>\n",
       "    .dataframe tbody tr th:only-of-type {\n",
       "        vertical-align: middle;\n",
       "    }\n",
       "\n",
       "    .dataframe tbody tr th {\n",
       "        vertical-align: top;\n",
       "    }\n",
       "\n",
       "    .dataframe thead th {\n",
       "        text-align: right;\n",
       "    }\n",
       "</style>\n",
       "<table border=\"1\" class=\"dataframe\">\n",
       "  <thead>\n",
       "    <tr style=\"text-align: right;\">\n",
       "      <th></th>\n",
       "      <th>course_id</th>\n",
       "      <th>course_title</th>\n",
       "      <th>course_description</th>\n",
       "      <th>course_category</th>\n",
       "      <th>center</th>\n",
       "    </tr>\n",
       "  </thead>\n",
       "  <tbody>\n",
       "    <tr>\n",
       "      <th>0</th>\n",
       "      <td>170565193</td>\n",
       "      <td>Hotel &amp; Catering Management</td>\n",
       "      <td>Wouldn’t it be great to put yourself into the ...</td>\n",
       "      <td>Catering</td>\n",
       "      <td>International Open Academy</td>\n",
       "    </tr>\n",
       "    <tr>\n",
       "      <th>1</th>\n",
       "      <td>170563091</td>\n",
       "      <td>Complementary Therapies - Level 2</td>\n",
       "      <td>This course will provide an introduction to th...</td>\n",
       "      <td>Alternative Health</td>\n",
       "      <td>Hugh Baird College</td>\n",
       "    </tr>\n",
       "    <tr>\n",
       "      <th>2</th>\n",
       "      <td>170418102</td>\n",
       "      <td>CompTIA A+ Certification Online Course</td>\n",
       "      <td>Are you looking to advance in your professiona...</td>\n",
       "      <td>Network Administration</td>\n",
       "      <td>Distance Learning Centre</td>\n",
       "    </tr>\n",
       "    <tr>\n",
       "      <th>3</th>\n",
       "      <td>170265579</td>\n",
       "      <td>Part Time Survival Cooking</td>\n",
       "      <td>This course aims to develop the learners knowl...</td>\n",
       "      <td>Cookery</td>\n",
       "      <td>Telford College Of Arts and Technology</td>\n",
       "    </tr>\n",
       "    <tr>\n",
       "      <th>4</th>\n",
       "      <td>170418100</td>\n",
       "      <td>Complete child care course</td>\n",
       "      <td>Approximate Study Time:  100 Hours (Self Study...</td>\n",
       "      <td>Child Care</td>\n",
       "      <td>Distance Learning Centre</td>\n",
       "    </tr>\n",
       "  </tbody>\n",
       "</table>\n",
       "</div>"
      ],
      "text/plain": [
       "   course_id                            course_title  \\\n",
       "0  170565193             Hotel & Catering Management   \n",
       "1  170563091       Complementary Therapies - Level 2   \n",
       "2  170418102  CompTIA A+ Certification Online Course   \n",
       "3  170265579              Part Time Survival Cooking   \n",
       "4  170418100              Complete child care course   \n",
       "\n",
       "                                  course_description         course_category  \\\n",
       "0  Wouldn’t it be great to put yourself into the ...                Catering   \n",
       "1  This course will provide an introduction to th...      Alternative Health   \n",
       "2  Are you looking to advance in your professiona...  Network Administration   \n",
       "3  This course aims to develop the learners knowl...                 Cookery   \n",
       "4  Approximate Study Time:  100 Hours (Self Study...              Child Care   \n",
       "\n",
       "                                   center  \n",
       "0              International Open Academy  \n",
       "1                     Hugh Baird College   \n",
       "2                Distance Learning Centre  \n",
       "3  Telford College Of Arts and Technology  \n",
       "4                Distance Learning Centre  "
      ]
     },
     "execution_count": 229,
     "metadata": {},
     "output_type": "execute_result"
    }
   ],
   "source": [
    "course_info = ['course_id', 'course_title', 'course_description', 'course_category', 'center']\n",
    "\n",
    "courses_from_leads = leads_df[course_info].drop_duplicates('course_id')\n",
    "courses_from_reviews = reviews_df[course_info].drop_duplicates('course_id')\n",
    "\n",
    "courses_df = pd.merge(courses_from_leads, courses_from_reviews,\n",
    "                      left_on=course_info, \n",
    "                      right_on=course_info, \n",
    "                      how='outer')\n",
    "\n",
    "courses_df.head()"
   ]
  },
  {
   "cell_type": "code",
   "execution_count": 230,
   "metadata": {},
   "outputs": [
    {
     "data": {
      "text/plain": [
       "17527"
      ]
     },
     "execution_count": 230,
     "metadata": {},
     "output_type": "execute_result"
    }
   ],
   "source": [
    "courses_df['course_id'].nunique()"
   ]
  },
  {
   "cell_type": "code",
   "execution_count": 231,
   "metadata": {
    "scrolled": true
   },
   "outputs": [
    {
     "name": "stdout",
     "output_type": "stream",
     "text": [
      "<class 'pandas.core.frame.DataFrame'>\n",
      "Int64Index: 17527 entries, 0 to 17526\n",
      "Data columns (total 5 columns):\n",
      "course_id             17527 non-null object\n",
      "course_title          17527 non-null object\n",
      "course_description    16865 non-null object\n",
      "course_category       17527 non-null object\n",
      "center                17527 non-null object\n",
      "dtypes: object(5)\n",
      "memory usage: 821.6+ KB\n"
     ]
    }
   ],
   "source": [
    "courses_df.info()"
   ]
  },
  {
   "cell_type": "markdown",
   "metadata": {},
   "source": [
    "Renaming the columns"
   ]
  },
  {
   "cell_type": "code",
   "execution_count": 232,
   "metadata": {},
   "outputs": [],
   "source": [
    "courses_df.rename(columns={'course_id': 'id', 'course_title': 'title',\n",
    "                          'course_description': 'description', 'course_category': 'category'},\n",
    "                 inplace=True)"
   ]
  },
  {
   "cell_type": "markdown",
   "metadata": {},
   "source": [
    "Cleaning text columns"
   ]
  },
  {
   "cell_type": "code",
   "execution_count": 234,
   "metadata": {},
   "outputs": [],
   "source": [
    "courses_df['title'] = courses_df['title'].apply(clean_text)\n",
    "courses_df['description'] = courses_df['description'].apply(lambda x: clean_text(x) if x else x)\n",
    "courses_df['center'] = courses_df['center'].apply(clean_text)"
   ]
  },
  {
   "cell_type": "markdown",
   "metadata": {},
   "source": [
    "### Content language\n",
    "\n",
    "Sometimes the course descriptions are not in the correct language. I will detect the language, and I will discard the courses with the description in a language other than English."
   ]
  },
  {
   "cell_type": "code",
   "execution_count": 236,
   "metadata": {},
   "outputs": [],
   "source": [
    "lang_detector = LangDetector()\n",
    "def get_lang(text):\n",
    "    \"\"\" \n",
    "    Detects the language of a text\n",
    "    \n",
    "    :param text str: Text of which we want to know the language\n",
    "                          \n",
    "    :return str: Language ISO 639-1 code\n",
    "    \"\"\"\n",
    "    if not text:\n",
    "        return LangDetector.DEFAULT_LANGUAGE\n",
    "    \n",
    "    try: \n",
    "        return lang_detector.iso_639_1_code(text)\n",
    "    except ValueError:\n",
    "        return LangDetector.DEFAULT_LANGUAGE"
   ]
  },
  {
   "cell_type": "code",
   "execution_count": 242,
   "metadata": {},
   "outputs": [],
   "source": [
    "courses_df['lang'] = courses_df['description'].apply(get_lang)"
   ]
  },
  {
   "cell_type": "code",
   "execution_count": 243,
   "metadata": {},
   "outputs": [
    {
     "data": {
      "text/html": [
       "<div>\n",
       "<style scoped>\n",
       "    .dataframe tbody tr th:only-of-type {\n",
       "        vertical-align: middle;\n",
       "    }\n",
       "\n",
       "    .dataframe tbody tr th {\n",
       "        vertical-align: top;\n",
       "    }\n",
       "\n",
       "    .dataframe thead th {\n",
       "        text-align: right;\n",
       "    }\n",
       "</style>\n",
       "<table border=\"1\" class=\"dataframe\">\n",
       "  <thead>\n",
       "    <tr style=\"text-align: right;\">\n",
       "      <th></th>\n",
       "      <th>id</th>\n",
       "      <th>title</th>\n",
       "      <th>description</th>\n",
       "      <th>category</th>\n",
       "      <th>center</th>\n",
       "      <th>lang</th>\n",
       "    </tr>\n",
       "  </thead>\n",
       "  <tbody>\n",
       "    <tr>\n",
       "      <th>63</th>\n",
       "      <td>170232997</td>\n",
       "      <td>Introduction to Basic TIG Welding</td>\n",
       "      <td>To get basic skills in TIG welding. Suitable f...</td>\n",
       "      <td>Engineering</td>\n",
       "      <td>Allister Moore Weld Training Centre</td>\n",
       "      <td>xx</td>\n",
       "    </tr>\n",
       "    <tr>\n",
       "      <th>1786</th>\n",
       "      <td>170237397</td>\n",
       "      <td>Massage</td>\n",
       "      <td>To gain knowledge and skills on different kind...</td>\n",
       "      <td>Alternative Health</td>\n",
       "      <td>Stressolutions</td>\n",
       "      <td>xx</td>\n",
       "    </tr>\n",
       "    <tr>\n",
       "      <th>3372</th>\n",
       "      <td>170044771</td>\n",
       "      <td>Level 4 Award in Managing Food Safety in Catering</td>\n",
       "      <td>Suitable for: Designed for managers and superv...</td>\n",
       "      <td>Catering</td>\n",
       "      <td>Pure Training &amp; Consultancy</td>\n",
       "      <td>da</td>\n",
       "    </tr>\n",
       "    <tr>\n",
       "      <th>3417</th>\n",
       "      <td>170173758</td>\n",
       "      <td>Emergency Medical Technician</td>\n",
       "      <td>Suitable for: Ski Patrollers or Mountain rescu...</td>\n",
       "      <td>Emergency Health</td>\n",
       "      <td>B.A.S.P. (British Association of Ski Patrollers)</td>\n",
       "      <td>xx</td>\n",
       "    </tr>\n",
       "    <tr>\n",
       "      <th>5684</th>\n",
       "      <td>170197174</td>\n",
       "      <td>Full Time Level 3 BTEC in Countryside Management</td>\n",
       "      <td>Successful completion provides progression ont...</td>\n",
       "      <td>Environmental Management</td>\n",
       "      <td>BCA (Berkshire College of Agriculture)</td>\n",
       "      <td>xx</td>\n",
       "    </tr>\n",
       "    <tr>\n",
       "      <th>8792</th>\n",
       "      <td>170282014</td>\n",
       "      <td>Full-time HNC Garden Design</td>\n",
       "      <td>Designed to provide skills and knowledge of ga...</td>\n",
       "      <td>Other Hobbies and Interests</td>\n",
       "      <td>Langside College</td>\n",
       "      <td>xx</td>\n",
       "    </tr>\n",
       "    <tr>\n",
       "      <th>9919</th>\n",
       "      <td>170393872</td>\n",
       "      <td>Sugarcraft Flowers</td>\n",
       "      <td>Suitable for: beginners /intermediate</td>\n",
       "      <td>Cookery</td>\n",
       "      <td>The Anticipation</td>\n",
       "      <td>xx</td>\n",
       "    </tr>\n",
       "    <tr>\n",
       "      <th>15856</th>\n",
       "      <td>170516966</td>\n",
       "      <td>Civil and Environmental Engineering with a yea...</td>\n",
       "      <td>AAA A-level Mathematics is required (or equiv...</td>\n",
       "      <td>Environmental Management</td>\n",
       "      <td>Cardiff University, Wales</td>\n",
       "      <td>xx</td>\n",
       "    </tr>\n",
       "  </tbody>\n",
       "</table>\n",
       "</div>"
      ],
      "text/plain": [
       "              id                                              title  \\\n",
       "63     170232997                  Introduction to Basic TIG Welding   \n",
       "1786   170237397                                            Massage   \n",
       "3372   170044771  Level 4 Award in Managing Food Safety in Catering   \n",
       "3417   170173758                       Emergency Medical Technician   \n",
       "5684   170197174   Full Time Level 3 BTEC in Countryside Management   \n",
       "8792   170282014                        Full-time HNC Garden Design   \n",
       "9919   170393872                                 Sugarcraft Flowers   \n",
       "15856  170516966  Civil and Environmental Engineering with a yea...   \n",
       "\n",
       "                                             description  \\\n",
       "63     To get basic skills in TIG welding. Suitable f...   \n",
       "1786   To gain knowledge and skills on different kind...   \n",
       "3372   Suitable for: Designed for managers and superv...   \n",
       "3417   Suitable for: Ski Patrollers or Mountain rescu...   \n",
       "5684   Successful completion provides progression ont...   \n",
       "8792   Designed to provide skills and knowledge of ga...   \n",
       "9919               Suitable for: beginners /intermediate   \n",
       "15856   AAA A-level Mathematics is required (or equiv...   \n",
       "\n",
       "                          category  \\\n",
       "63                     Engineering   \n",
       "1786            Alternative Health   \n",
       "3372                      Catering   \n",
       "3417              Emergency Health   \n",
       "5684      Environmental Management   \n",
       "8792   Other Hobbies and Interests   \n",
       "9919                       Cookery   \n",
       "15856     Environmental Management   \n",
       "\n",
       "                                                 center lang  \n",
       "63                  Allister Moore Weld Training Centre   xx  \n",
       "1786                                     Stressolutions   xx  \n",
       "3372                        Pure Training & Consultancy   da  \n",
       "3417   B.A.S.P. (British Association of Ski Patrollers)   xx  \n",
       "5684             BCA (Berkshire College of Agriculture)   xx  \n",
       "8792                                   Langside College   xx  \n",
       "9919                                   The Anticipation   xx  \n",
       "15856                         Cardiff University, Wales   xx  "
      ]
     },
     "execution_count": 243,
     "metadata": {},
     "output_type": "execute_result"
    }
   ],
   "source": [
    "courses_df[courses_df['lang'] != 'en']"
   ]
  },
  {
   "cell_type": "code",
   "execution_count": 244,
   "metadata": {},
   "outputs": [
    {
     "name": "stderr",
     "output_type": "stream",
     "text": [
      "/Users/ciscodelgado/anaconda3/lib/python3.7/site-packages/pandas/core/frame.py:3940: SettingWithCopyWarning: \n",
      "A value is trying to be set on a copy of a slice from a DataFrame\n",
      "\n",
      "See the caveats in the documentation: http://pandas.pydata.org/pandas-docs/stable/indexing.html#indexing-view-versus-copy\n",
      "  errors=errors)\n"
     ]
    }
   ],
   "source": [
    "courses_df = courses_df[courses_df['lang'] == 'en']\n",
    "courses_df.drop('lang', axis=1, inplace=True)"
   ]
  },
  {
   "cell_type": "markdown",
   "metadata": {},
   "source": [
    "## Create a categories dataframe"
   ]
  },
  {
   "cell_type": "code",
   "execution_count": 10,
   "metadata": {},
   "outputs": [],
   "source": [
    "categories = courses_df['category'].unique()"
   ]
  },
  {
   "cell_type": "code",
   "execution_count": 13,
   "metadata": {},
   "outputs": [],
   "source": [
    "categories_df = pd.DataFrame(categories, columns=['name'])"
   ]
  },
  {
   "cell_type": "code",
   "execution_count": 14,
   "metadata": {},
   "outputs": [
    {
     "data": {
      "text/html": [
       "<div>\n",
       "<style scoped>\n",
       "    .dataframe tbody tr th:only-of-type {\n",
       "        vertical-align: middle;\n",
       "    }\n",
       "\n",
       "    .dataframe tbody tr th {\n",
       "        vertical-align: top;\n",
       "    }\n",
       "\n",
       "    .dataframe thead th {\n",
       "        text-align: right;\n",
       "    }\n",
       "</style>\n",
       "<table border=\"1\" class=\"dataframe\">\n",
       "  <thead>\n",
       "    <tr style=\"text-align: right;\">\n",
       "      <th></th>\n",
       "      <th>name</th>\n",
       "    </tr>\n",
       "  </thead>\n",
       "  <tbody>\n",
       "    <tr>\n",
       "      <th>0</th>\n",
       "      <td>Security Guarding</td>\n",
       "    </tr>\n",
       "    <tr>\n",
       "      <th>1</th>\n",
       "      <td>Engineering</td>\n",
       "    </tr>\n",
       "    <tr>\n",
       "      <th>2</th>\n",
       "      <td>Construction Trades</td>\n",
       "    </tr>\n",
       "    <tr>\n",
       "      <th>3</th>\n",
       "      <td>DIY</td>\n",
       "    </tr>\n",
       "    <tr>\n",
       "      <th>4</th>\n",
       "      <td>Biology and Biotechnology</td>\n",
       "    </tr>\n",
       "  </tbody>\n",
       "</table>\n",
       "</div>"
      ],
      "text/plain": [
       "                        name\n",
       "0          Security Guarding\n",
       "1                Engineering\n",
       "2        Construction Trades\n",
       "3                        DIY\n",
       "4  Biology and Biotechnology"
      ]
     },
     "execution_count": 14,
     "metadata": {},
     "output_type": "execute_result"
    }
   ],
   "source": [
    "categories_df.head()"
   ]
  },
  {
   "cell_type": "markdown",
   "metadata": {},
   "source": [
    "### Save categories"
   ]
  },
  {
   "cell_type": "code",
   "execution_count": 16,
   "metadata": {},
   "outputs": [],
   "source": [
    "types={'id': sql_types.INT(),\n",
    "       'name': sql_types.VARCHAR(length=200)}\n",
    "\n",
    "categories_df.to_sql('categories', con=connection(), index_label='id', if_exists='replace', dtype=types)"
   ]
  },
  {
   "cell_type": "markdown",
   "metadata": {},
   "source": [
    "### Add category id to courses dataframe"
   ]
  },
  {
   "cell_type": "code",
   "execution_count": 29,
   "metadata": {},
   "outputs": [],
   "source": [
    "def category_id(category_name):\n",
    "    return categories_df[categories_df['name'] == category_name].index[0]\n",
    "    "
   ]
  },
  {
   "cell_type": "code",
   "execution_count": 30,
   "metadata": {},
   "outputs": [],
   "source": [
    "courses_df['category_id'] = courses_df['category'].apply(category_id)"
   ]
  },
  {
   "cell_type": "code",
   "execution_count": 31,
   "metadata": {},
   "outputs": [],
   "source": [
    "courses_df.drop('category', inplace=True, axis=1)"
   ]
  },
  {
   "cell_type": "code",
   "execution_count": 33,
   "metadata": {},
   "outputs": [
    {
     "data": {
      "text/html": [
       "<div>\n",
       "<style scoped>\n",
       "    .dataframe tbody tr th:only-of-type {\n",
       "        vertical-align: middle;\n",
       "    }\n",
       "\n",
       "    .dataframe tbody tr th {\n",
       "        vertical-align: top;\n",
       "    }\n",
       "\n",
       "    .dataframe thead th {\n",
       "        text-align: right;\n",
       "    }\n",
       "</style>\n",
       "<table border=\"1\" class=\"dataframe\">\n",
       "  <thead>\n",
       "    <tr style=\"text-align: right;\">\n",
       "      <th></th>\n",
       "      <th>id</th>\n",
       "      <th>title</th>\n",
       "      <th>description</th>\n",
       "      <th>center</th>\n",
       "      <th>category_id</th>\n",
       "    </tr>\n",
       "  </thead>\n",
       "  <tbody>\n",
       "    <tr>\n",
       "      <th>0</th>\n",
       "      <td>2365326</td>\n",
       "      <td>Level 2 Award in Security Guarding (SIA)</td>\n",
       "      <td>Gain a qualification in Security Guarding to a...</td>\n",
       "      <td>Linx Security Training</td>\n",
       "      <td>0</td>\n",
       "    </tr>\n",
       "    <tr>\n",
       "      <th>1</th>\n",
       "      <td>2365342</td>\n",
       "      <td>Vapour Compression Cycle - Free Sample</td>\n",
       "      <td>To explain the structure, purpose and operatio...</td>\n",
       "      <td>Star Learning Solutions</td>\n",
       "      <td>1</td>\n",
       "    </tr>\n",
       "    <tr>\n",
       "      <th>2</th>\n",
       "      <td>2365345</td>\n",
       "      <td>Refrigeration Fundamentals</td>\n",
       "      <td>The theoretical knowledge that the Refrigerati...</td>\n",
       "      <td>Star Learning Solutions</td>\n",
       "      <td>2</td>\n",
       "    </tr>\n",
       "    <tr>\n",
       "      <th>3</th>\n",
       "      <td>2365419</td>\n",
       "      <td>Basic Carpentry</td>\n",
       "      <td>Basic carpentry provides you with the skills t...</td>\n",
       "      <td>Building Skills Academy</td>\n",
       "      <td>2</td>\n",
       "    </tr>\n",
       "    <tr>\n",
       "      <th>4</th>\n",
       "      <td>2365431</td>\n",
       "      <td>Kitchen Worktop Cutting and Fitting</td>\n",
       "      <td>Learn to design, cut and fit your own kitchen ...</td>\n",
       "      <td>Building Skills Academy</td>\n",
       "      <td>3</td>\n",
       "    </tr>\n",
       "  </tbody>\n",
       "</table>\n",
       "</div>"
      ],
      "text/plain": [
       "        id                                     title  \\\n",
       "0  2365326  Level 2 Award in Security Guarding (SIA)   \n",
       "1  2365342    Vapour Compression Cycle - Free Sample   \n",
       "2  2365345                Refrigeration Fundamentals   \n",
       "3  2365419                           Basic Carpentry   \n",
       "4  2365431       Kitchen Worktop Cutting and Fitting   \n",
       "\n",
       "                                         description                   center  \\\n",
       "0  Gain a qualification in Security Guarding to a...   Linx Security Training   \n",
       "1  To explain the structure, purpose and operatio...  Star Learning Solutions   \n",
       "2  The theoretical knowledge that the Refrigerati...  Star Learning Solutions   \n",
       "3  Basic carpentry provides you with the skills t...  Building Skills Academy   \n",
       "4  Learn to design, cut and fit your own kitchen ...  Building Skills Academy   \n",
       "\n",
       "   category_id  \n",
       "0            0  \n",
       "1            1  \n",
       "2            2  \n",
       "3            2  \n",
       "4            3  "
      ]
     },
     "execution_count": 33,
     "metadata": {},
     "output_type": "execute_result"
    }
   ],
   "source": [
    "courses_df.head()"
   ]
  },
  {
   "cell_type": "markdown",
   "metadata": {},
   "source": [
    "### Save courses"
   ]
  },
  {
   "cell_type": "code",
   "execution_count": 34,
   "metadata": {},
   "outputs": [],
   "source": [
    "types={'id': sql_types.INT(), \n",
    "       'title':  sql_types.TEXT(),\n",
    "       'description': sql_types.TEXT(),\n",
    "       'category_id': sql_types.INT(),\n",
    "       'center': sql_types.VARCHAR(length=100)}\n",
    "\n",
    "courses_df.to_sql('courses', con=connection(), index=False, if_exists='replace', dtype=types)"
   ]
  },
  {
   "cell_type": "markdown",
   "metadata": {},
   "source": [
    "## Save leads"
   ]
  },
  {
   "cell_type": "code",
   "execution_count": 247,
   "metadata": {},
   "outputs": [],
   "source": [
    "leads_df = leads_df[['user_id', 'course_id', 'created_on']]"
   ]
  },
  {
   "cell_type": "code",
   "execution_count": 248,
   "metadata": {},
   "outputs": [],
   "source": [
    "types = {'user_id': sql_types.CHAR(length=36),\n",
    "         'course_id': sql_types.VARCHAR(length=12),\n",
    "         'created_on': sql_types.DateTime()}\n",
    "\n",
    "leads_df.to_sql('clean_leads', con=connection(), index=False, if_exists='replace', dtype=types)"
   ]
  },
  {
   "cell_type": "markdown",
   "metadata": {},
   "source": [
    "## Save reviews"
   ]
  },
  {
   "cell_type": "code",
   "execution_count": 250,
   "metadata": {},
   "outputs": [],
   "source": [
    "reviews_df = reviews_df[['user_id', 'course_id', 'num_reviews', 'rating', 'avg_rating', 'weighted_rating_average']]"
   ]
  },
  {
   "cell_type": "code",
   "execution_count": 251,
   "metadata": {},
   "outputs": [],
   "source": [
    "types = {'user_id': sql_types.CHAR(length=36),\n",
    "         'course_id': sql_types.VARCHAR(length=12),\n",
    "         'rating': sql_types.INT(),\n",
    "         'num_reviews': sql_types.INT(),\n",
    "         'created_on': sql_types.DateTime()}\n",
    "\n",
    "reviews_df.to_sql('clean_reviews', con=connection(), index=False, if_exists='replace', dtype=types)"
   ]
  },
  {
   "cell_type": "markdown",
   "metadata": {},
   "source": [
    "## Create a course content similarity matrix\n",
    "\n",
    "I will create a similarity matrix for courses content. I will use the title and the description to compare the courses with each other. In the matrix, columns and rows indexes will be the course id and the intersection will be the similarity between them. The range of values will be between 0 and 1, where 0 means totally different and 1 means that the content is identical."
   ]
  },
  {
   "cell_type": "code",
   "execution_count": 94,
   "metadata": {},
   "outputs": [],
   "source": [
    "def create_similarity_matrix(df, sample_len=None):\n",
    "    \"\"\" \n",
    "    Creates a course similarity matrix\n",
    "    \n",
    "    :param df DataFrame: courses dataframe. Must include title and description columns\n",
    "                          \n",
    "    :return np.ndarray: An m x m matrix representing the course similarities, where m is the number of courses.\n",
    "        Example of a similarity matrix:\n",
    "        \n",
    "         [[0.99999994 0.         0.13075474 0.02665992]\n",
    "          [0.         1.         0.00812627 0.00331377]\n",
    "          [0.13075474 0.00812627 1.         0.0069054 ]\n",
    "          [0.02665992 0.00331377 0.0069054  1.        ]]\n",
    "          \n",
    "        rows and columns represents a course, the elements in the matrix, represent the similarity between them.\n",
    "    \"\"\"\n",
    "    if not sample_len:\n",
    "        course_content = df['title'].str.cat(df['description'], sep=' ').values\n",
    "    else:\n",
    "        course_content = df['title'].str.cat(df['description'], sep=' ').head(sample_len).values\n",
    "    \n",
    "    model = Pipeline([\n",
    "        ('norm', TextNormalizer()),\n",
    "        ('sim', Similarity())\n",
    "    ])\n",
    "    \n",
    "    return model.fit_transform(course_content)\n",
    "    "
   ]
  },
  {
   "cell_type": "code",
   "execution_count": 95,
   "metadata": {},
   "outputs": [],
   "source": [
    "def create_similarity_df(df, min_similarity=0.5, sample_len=None):\n",
    "    \"\"\"\n",
    "    Creates a course similarity DataFrame from a similarity matrix\n",
    "    \n",
    "    :param df DataFrame: Courses dataframe. Must include title and description columns\n",
    "    :param min_similarity float: Minimum similarity to be included in DataFrame\n",
    "    :param sample_len int: Maximum number of courses that will be included in the matrix\n",
    "    \n",
    "    :return DataFrame: a dataframe with following columns:\n",
    "        a_course str: course id\n",
    "        another_course str: course id\n",
    "        similarity float: similarity between courses\n",
    "    \"\"\"\n",
    "    sim_list = []\n",
    "    sim_matrix = create_similarity_matrix(df, sample_len=sample_len)\n",
    "    \n",
    "    for idx, similarities in enumerate(sim_matrix):\n",
    "        a_course_id = df.iloc[idx]['course_id']\n",
    "        \n",
    "        for idx_sims, sim_score in enumerate(similarities):\n",
    "            if idx == idx_sims:\n",
    "                continue\n",
    "\n",
    "            if sim_score < min_similarity:\n",
    "                continue\n",
    "\n",
    "            another_course_id = df.iloc[idx_sims]['course_id']\n",
    "\n",
    "            sim_list.append({'a_course': a_course_id, \n",
    "                             'another_course': another_course_id, \n",
    "                             'similarity': sim_score})\n",
    "\n",
    "    return pd.DataFrame(sim_list)"
   ]
  },
  {
   "cell_type": "markdown",
   "metadata": {},
   "source": [
    "I will create a similarity matrix with a sample of 50 courses"
   ]
  },
  {
   "cell_type": "code",
   "execution_count": 96,
   "metadata": {},
   "outputs": [
    {
     "data": {
      "image/png": "[encoded data removed]",
      "text/plain": [
       "<Figure size 576x432 with 2 Axes>"
      ]
     },
     "metadata": {
      "needs_background": "light"
     },
     "output_type": "display_data"
    }
   ],
   "source": [
    "sims = create_similarity_matrix(courses_df, sample_len=50)\n",
    "\n",
    "fig, ax = plt.subplots(figsize=(8, 6))\n",
    "\n",
    "cax = ax.matshow(sims, interpolation='nearest')\n",
    "fig.colorbar(cax)\n",
    "ax.set_title('Courses similarity')\n",
    "\n",
    "plt.show();"
   ]
  },
  {
   "cell_type": "markdown",
   "metadata": {},
   "source": [
    "The similarity dataframe will look like this:"
   ]
  },
  {
   "cell_type": "code",
   "execution_count": 97,
   "metadata": {},
   "outputs": [
    {
     "data": {
      "text/html": [
       "<div>\n",
       "<style scoped>\n",
       "    .dataframe tbody tr th:only-of-type {\n",
       "        vertical-align: middle;\n",
       "    }\n",
       "\n",
       "    .dataframe tbody tr th {\n",
       "        vertical-align: top;\n",
       "    }\n",
       "\n",
       "    .dataframe thead th {\n",
       "        text-align: right;\n",
       "    }\n",
       "</style>\n",
       "<table border=\"1\" class=\"dataframe\">\n",
       "  <thead>\n",
       "    <tr style=\"text-align: right;\">\n",
       "      <th></th>\n",
       "      <th>a_course</th>\n",
       "      <th>another_course</th>\n",
       "      <th>similarity</th>\n",
       "    </tr>\n",
       "  </thead>\n",
       "  <tbody>\n",
       "    <tr>\n",
       "      <th>0</th>\n",
       "      <td>170628400</td>\n",
       "      <td>170628401</td>\n",
       "      <td>0.658486</td>\n",
       "    </tr>\n",
       "    <tr>\n",
       "      <th>1</th>\n",
       "      <td>170040323</td>\n",
       "      <td>170040270</td>\n",
       "      <td>0.528053</td>\n",
       "    </tr>\n",
       "    <tr>\n",
       "      <th>2</th>\n",
       "      <td>170633067</td>\n",
       "      <td>170633063</td>\n",
       "      <td>0.882820</td>\n",
       "    </tr>\n",
       "    <tr>\n",
       "      <th>3</th>\n",
       "      <td>170633067</td>\n",
       "      <td>170633065</td>\n",
       "      <td>0.837449</td>\n",
       "    </tr>\n",
       "    <tr>\n",
       "      <th>4</th>\n",
       "      <td>170633067</td>\n",
       "      <td>170633072</td>\n",
       "      <td>0.871613</td>\n",
       "    </tr>\n",
       "  </tbody>\n",
       "</table>\n",
       "</div>"
      ],
      "text/plain": [
       "    a_course another_course  similarity\n",
       "0  170628400      170628401    0.658486\n",
       "1  170040323      170040270    0.528053\n",
       "2  170633067      170633063    0.882820\n",
       "3  170633067      170633065    0.837449\n",
       "4  170633067      170633072    0.871613"
      ]
     },
     "execution_count": 97,
     "metadata": {},
     "output_type": "execute_result"
    }
   ],
   "source": [
    "sims_df_s50 = create_similarity_df(courses_df, sample_len=50)\n",
    "sims_df_s50.head()"
   ]
  },
  {
   "cell_type": "markdown",
   "metadata": {},
   "source": [
    "And now, I will create the similarities dataframe with the entire courses dataframe. <span style=\"color:red\">**This process took approximately 8 hours on a MacBook pro (2.3 GHz Intel Core i5, 16 GB RAM)**</span>"
   ]
  },
  {
   "cell_type": "code",
   "execution_count": null,
   "metadata": {},
   "outputs": [],
   "source": [
    "%%time\n",
    "sims_df = create_similarity_df(courses_df)"
   ]
  },
  {
   "cell_type": "code",
   "execution_count": 31,
   "metadata": {},
   "outputs": [
    {
     "data": {
      "text/html": [
       "<div>\n",
       "<style scoped>\n",
       "    .dataframe tbody tr th:only-of-type {\n",
       "        vertical-align: middle;\n",
       "    }\n",
       "\n",
       "    .dataframe tbody tr th {\n",
       "        vertical-align: top;\n",
       "    }\n",
       "\n",
       "    .dataframe thead th {\n",
       "        text-align: right;\n",
       "    }\n",
       "</style>\n",
       "<table border=\"1\" class=\"dataframe\">\n",
       "  <thead>\n",
       "    <tr style=\"text-align: right;\">\n",
       "      <th></th>\n",
       "      <th>a_course</th>\n",
       "      <th>another_course</th>\n",
       "      <th>similarity</th>\n",
       "    </tr>\n",
       "  </thead>\n",
       "  <tbody>\n",
       "    <tr>\n",
       "      <th>0</th>\n",
       "      <td>170648149</td>\n",
       "      <td>170648146</td>\n",
       "      <td>0.996332</td>\n",
       "    </tr>\n",
       "    <tr>\n",
       "      <th>1</th>\n",
       "      <td>170648149</td>\n",
       "      <td>170652710</td>\n",
       "      <td>0.505740</td>\n",
       "    </tr>\n",
       "    <tr>\n",
       "      <th>2</th>\n",
       "      <td>170367782</td>\n",
       "      <td>170642187</td>\n",
       "      <td>0.539035</td>\n",
       "    </tr>\n",
       "    <tr>\n",
       "      <th>3</th>\n",
       "      <td>170367782</td>\n",
       "      <td>170624005</td>\n",
       "      <td>0.557652</td>\n",
       "    </tr>\n",
       "    <tr>\n",
       "      <th>4</th>\n",
       "      <td>170601656</td>\n",
       "      <td>170617492</td>\n",
       "      <td>0.500261</td>\n",
       "    </tr>\n",
       "  </tbody>\n",
       "</table>\n",
       "</div>"
      ],
      "text/plain": [
       "    a_course  another_course  similarity\n",
       "0  170648149       170648146    0.996332\n",
       "1  170648149       170652710    0.505740\n",
       "2  170367782       170642187    0.539035\n",
       "3  170367782       170624005    0.557652\n",
       "4  170601656       170617492    0.500261"
      ]
     },
     "execution_count": 31,
     "metadata": {},
     "output_type": "execute_result"
    }
   ],
   "source": [
    "sims_df.head()"
   ]
  },
  {
   "cell_type": "code",
   "execution_count": null,
   "metadata": {},
   "outputs": [],
   "source": [
    "sims_df.to_csv('../data/courses_similarities.csv', index=False)"
   ]
  },
  {
   "cell_type": "code",
   "execution_count": 18,
   "metadata": {},
   "outputs": [
    {
     "name": "stdout",
     "output_type": "stream",
     "text": [
      "<class 'pandas.core.frame.DataFrame'>\n",
      "RangeIndex: 126556 entries, 0 to 126555\n",
      "Data columns (total 3 columns):\n",
      "a_course          126556 non-null int64\n",
      "another_course    126556 non-null int64\n",
      "similarity        126556 non-null float64\n",
      "dtypes: float64(1), int64(2)\n",
      "memory usage: 2.9 MB\n"
     ]
    }
   ],
   "source": [
    "sims_df.info()"
   ]
  },
  {
   "cell_type": "markdown",
   "metadata": {},
   "source": [
    "## Create the user item matrices"
   ]
  },
  {
   "cell_type": "markdown",
   "metadata": {},
   "source": [
    "<span style=\"color:red\">Docstring to be completed</span>"
   ]
  },
  {
   "cell_type": "code",
   "execution_count": 99,
   "metadata": {},
   "outputs": [],
   "source": [
    "def create_user_item_matrix(df, group_columns=['user_id', 'course_id'], select_column='rating', allow_nulls=True):\n",
    "    \"\"\"\n",
    "    Creates a user-item matrix DataFrame. Depending on the dataframe supplied it creates a\n",
    "    user-item matrix from reviews of from leads\n",
    "    \n",
    "    :param group_columns list: Columns by which the data will be grouped\n",
    "    :param select_column str: \n",
    "    :param allow_nulls bool: \n",
    "    \n",
    "    :return DataFrame: a user-item matrix dataframe\n",
    "    \"\"\"\n",
    "    columns = [column for column in group_columns]\n",
    "    columns.extend([select_column])\n",
    "    \n",
    "    user_items = df[columns]\n",
    "    \n",
    "    user_by_course = user_items.groupby(group_columns)[select_column].max().unstack()\n",
    "    \n",
    "    if not allow_nulls:\n",
    "        user_by_course = user_by_course.where(user_by_course.isnull(), other=1)\n",
    "        user_by_course = user_by_course.fillna(0)\n",
    "    \n",
    "    return user_by_course"
   ]
  },
  {
   "cell_type": "code",
   "execution_count": 33,
   "metadata": {},
   "outputs": [],
   "source": [
    "ratings_user_item_matrix = create_user_item_matrix(reviews_df)\n",
    "leads_user_item_matrix = create_user_item_matrix(leads_df, select_column='course_title', allow_nulls=False)"
   ]
  },
  {
   "cell_type": "markdown",
   "metadata": {},
   "source": [
    "Save the matrices to csv files"
   ]
  },
  {
   "cell_type": "code",
   "execution_count": 34,
   "metadata": {},
   "outputs": [],
   "source": [
    "leads_user_item_matrix.to_csv('../data/leads_matrix.csv')\n",
    "ratings_user_item_matrix.to_csv('../data/ratings_matrix.csv')"
   ]
  },
  {
   "cell_type": "markdown",
   "metadata": {},
   "source": [
    "## Create user interactions dictionaries"
   ]
  },
  {
   "cell_type": "markdown",
   "metadata": {},
   "source": [
    "<span style=\"color:red\">\n",
    "I will create two dictionaries with users interactions; a leads generated dictionary in which the keys will be the user ids and the values will be lists of courses that lead has generated.</span>"
   ]
  },
  {
   "cell_type": "code",
   "execution_count": 100,
   "metadata": {},
   "outputs": [],
   "source": [
    "def create_user_leads_generated_dict():\n",
    "    \"\"\"\n",
    "    Creates a dictionary with users\n",
    "    \n",
    "    :return dict:\n",
    "    \"\"\"\n",
    "    leads_generated = dict()\n",
    "    \n",
    "    for user_id, _ in leads_user_item_matrix.iterrows():\n",
    "        user_courses = leads_user_item_matrix.loc[user_id]\n",
    "        leads_generated[user_id] = user_courses[leads_user_item_matrix.loc[user_id] == 1].index.values\n",
    "        \n",
    "    return leads_generated\n",
    "\n",
    "\n",
    "def create_user_ratings_dict(min_num_rated=2):\n",
    "    \"\"\"\n",
    "    Creates a dictionary with users\n",
    "    \n",
    "    :param int: minimum number of courses rated by user to be included in the dictionary\n",
    "    \n",
    "    :return dict:\n",
    "    \"\"\"\n",
    "    ratings = dict()\n",
    "    \n",
    "    for user_id, _ in ratings_user_item_matrix.iterrows():\n",
    "        user_courses = ratings_user_item_matrix.loc[user_id]\n",
    "        user_ratings = user_courses[user_courses.notnull()].index.values\n",
    "        if len(user_ratings) < min_num_rated:\n",
    "            continue\n",
    "            \n",
    "        ratings[user_id] = user_ratings\n",
    "        \n",
    "    return ratings"
   ]
  },
  {
   "cell_type": "markdown",
   "metadata": {},
   "source": [
    "Save the dictionaries to pickle files"
   ]
  },
  {
   "cell_type": "code",
   "execution_count": 109,
   "metadata": {},
   "outputs": [],
   "source": [
    "rated_courses = create_user_ratings_dict()\n",
    "with open('../data/rated_courses.pickle', 'wb') as handle:\n",
    "    pickle.dump(rated_courses, handle)\n",
    "\n",
    "generated_leads = create_user_leads_generated_dict()\n",
    "with open('../data/generated_leads.pickle', 'wb') as handle:\n",
    "    pickle.dump(generated_leads, handle)"
   ]
  },
  {
   "cell_type": "markdown",
   "metadata": {},
   "source": [
    "## Create a users distance score table"
   ]
  },
  {
   "cell_type": "code",
   "execution_count": 102,
   "metadata": {},
   "outputs": [],
   "source": [
    "def compute_euclidean_distance(a_user_id, another_user_id, user_item_matrix):\n",
    "    \"\"\"\n",
    "    Computes the euclidean distance between users taking into account the rated courses\n",
    "    \n",
    "    :param a_user_id str: Id of a user\n",
    "    :param another_user_id str: Id of another user\n",
    "    :param user_item_matrix DataFrame: The reviews user-item matrix\n",
    "    \n",
    "    :return float: The eculidean distance between the users\n",
    "    \"\"\"\n",
    "    a_user_courses = rated_courses[a_user_id]\n",
    "    another_user_courses = rated_courses[another_user_id]\n",
    "    \n",
    "    similar_courses = np.intersect1d(a_user_courses,\n",
    "                                     another_user_courses, \n",
    "                                     assume_unique=True)\n",
    "    \n",
    "    # there's no courses in common\n",
    "    if len(similar_courses) == 0:\n",
    "        return np.nan\n",
    "    \n",
    "    df = user_item_matrix.loc[(a_user_id, another_user_id), similar_courses]\n",
    "    \n",
    "    return np.linalg.norm(df.loc[a_user_id] - df.loc[another_user_id])\n",
    "\n",
    "\n",
    "def create_distances_dataframe(user_item_matrix):\n",
    "    \"\"\"\n",
    "    Creates a dataframe containing the euclidean distances between users\n",
    "    \n",
    "    :param user_item_matrix DataFrame: The ratings user-item matrix\n",
    "    \n",
    "    :return DataFrame: DataFrame containing the eculidean distances between the users\n",
    "    \"\"\"\n",
    "    users = user_item_matrix.index.values\n",
    "    distances = []\n",
    "\n",
    "    for a_user_id in users:\n",
    "        for another_user_id in users:\n",
    "            if a_user_id == another_user_id:\n",
    "                continue\n",
    "            try: \n",
    "                distance = compute_euclidean_distance(a_user_id,\n",
    "                                                      another_user_id,\n",
    "                                                      ratings_user_item_matrix)\n",
    "            except KeyError:\n",
    "                continue\n",
    "\n",
    "            if np.isnan(distance):\n",
    "                continue\n",
    "\n",
    "            distances.append({'a_user': a_user_id,\n",
    "                              'another_user': another_user_id,\n",
    "                              'eucl_dist': distance})\n",
    "\n",
    "    return pd.DataFrame.from_dict(distances)"
   ]
  },
  {
   "cell_type": "code",
   "execution_count": 110,
   "metadata": {},
   "outputs": [
    {
     "name": "stdout",
     "output_type": "stream",
     "text": [
      "<class 'pandas.core.frame.DataFrame'>\n",
      "RangeIndex: 22 entries, 0 to 21\n",
      "Data columns (total 3 columns):\n",
      "a_user          22 non-null object\n",
      "another_user    22 non-null object\n",
      "eucl_dist       22 non-null float64\n",
      "dtypes: float64(1), object(2)\n",
      "memory usage: 608.0+ bytes\n"
     ]
    }
   ],
   "source": [
    "distances_df = create_distances_dataframe(ratings_user_item_matrix)\n",
    "\n",
    "# Save the users distances to a pickle file\n",
    "distances_df.to_pickle('../data/users_distances.pickle')\n",
    "distances_df.info()"
   ]
  },
  {
   "cell_type": "code",
   "execution_count": 111,
   "metadata": {},
   "outputs": [
    {
     "data": {
      "text/plain": [
       "0.000000    14\n",
       "4.000000     4\n",
       "2.828427     2\n",
       "5.656854     2\n",
       "Name: eucl_dist, dtype: int64"
      ]
     },
     "execution_count": 111,
     "metadata": {},
     "output_type": "execute_result"
    }
   ],
   "source": [
    "distances_df['eucl_dist'].value_counts()"
   ]
  },
  {
   "cell_type": "code",
   "execution_count": 112,
   "metadata": {},
   "outputs": [
    {
     "data": {
      "text/plain": [
       "(22, 3)"
      ]
     },
     "execution_count": 112,
     "metadata": {},
     "output_type": "execute_result"
    }
   ],
   "source": [
    "distances_df.shape"
   ]
  },
  {
   "cell_type": "code",
   "execution_count": null,
   "metadata": {},
   "outputs": [],
   "source": []
  }
 ],
 "metadata": {
  "kernelspec": {
   "display_name": "Python 3",
   "language": "python",
   "name": "python3"
  },
  "language_info": {
   "codemirror_mode": {
    "name": "ipython",
    "version": 3
   },
   "file_extension": ".py",
   "mimetype": "text/x-python",
   "name": "python",
   "nbconvert_exporter": "python",
   "pygments_lexer": "ipython3",
   "version": "3.7.3"
  },
  "latex_envs": {
   "LaTeX_envs_menu_present": true,
   "autoclose": false,
   "autocomplete": true,
   "bibliofile": "biblio.bib",
   "cite_by": "apalike",
   "current_citInitial": 1,
   "eqLabelWithNumbers": true,
   "eqNumInitial": 1,
   "hotkeys": {
    "equation": "Ctrl-E",
    "itemize": "Ctrl-I"
   },
   "labels_anchors": false,
   "latex_user_defs": false,
   "report_style_numbering": false,
   "user_envs_cfg": false
  }
 },
 "nbformat": 4,
 "nbformat_minor": 2
}
