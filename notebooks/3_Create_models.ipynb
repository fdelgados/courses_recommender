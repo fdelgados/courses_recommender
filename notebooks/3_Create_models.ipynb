{
 "cells": [
  {
   "cell_type": "markdown",
   "metadata": {},
   "source": [
    "# Courses recommendation system\n",
    "# III. Create models\n",
    "\n",
    "This is the third part of the Udacity Data Science Nanodegree capstone project, which consists in the creation of a course recommendation system.\n",
    "\n",
    "In this part, I will create models from which I will make the recommendations.\n",
    "\n",
    "\n",
    "## 1 Import libraries"
   ]
  },
  {
   "cell_type": "code",
   "execution_count": 7,
   "metadata": {},
   "outputs": [],
   "source": [
    "import os\n",
    "import numpy as np\n",
    "import pandas as pd\n",
    "from sklearn.pipeline import Pipeline\n",
    "\n",
    "from db_utils import connection \n",
    "from common import requested_courses\n",
    "\n",
    "import matplotlib as mpl\n",
    "import matplotlib.pyplot as plt\n",
    "\n",
    "%matplotlib inline"
   ]
  },
  {
   "cell_type": "markdown",
   "metadata": {},
   "source": [
    "## 2 Retrieve data\n",
    "In this step I will retrieve the clean data from database.\n",
    "\n",
    "### 2.1 Retrieve courses"
   ]
  },
  {
   "cell_type": "code",
   "execution_count": 3,
   "metadata": {},
   "outputs": [],
   "source": [
    "courses_query = '''SELECT c.*, cat.name AS category_name FROM courses c \n",
    "                    JOIN categories cat ON c.category_id = cat.id'''\n",
    "\n",
    "courses_df = pd.read_sql_query(courses_query, con=connection())"
   ]
  },
  {
   "cell_type": "markdown",
   "metadata": {},
   "source": [
    "### 2.2 Retrieve leads"
   ]
  },
  {
   "cell_type": "code",
   "execution_count": 4,
   "metadata": {},
   "outputs": [],
   "source": [
    "leads_query = 'SELECT * FROM clean_leads ORDER BY created_on DESC'\n",
    "\n",
    "leads_df = pd.read_sql_query(leads_query, con=connection())"
   ]
  },
  {
   "cell_type": "markdown",
   "metadata": {},
   "source": [
    "### 2.3 Retrieve reviews"
   ]
  },
  {
   "cell_type": "code",
   "execution_count": 5,
   "metadata": {},
   "outputs": [],
   "source": [
    "reviews_query = 'SELECT * FROM clean_reviews ORDER BY created_on DESC'\n",
    "\n",
    "reviews_df = pd.read_sql_query(reviews_query, con=connection())"
   ]
  },
  {
   "cell_type": "markdown",
   "metadata": {},
   "source": [
    "## 3 Create a course content similarity matrix\n",
    "\n",
    "I will create a similarity matrix for courses content. I will use the title and the description to compare the courses with each other. In the matrix, columns and rows indexes will be the course id and the intersection will be the similarity between them. The range of values will be between 0 and 1, where 0 means totally different and 1 means that the content is identical."
   ]
  },
  {
   "cell_type": "code",
   "execution_count": 17,
   "metadata": {},
   "outputs": [],
   "source": [
    "def create_similarity_matrix(df, sample_len=None):\n",
    "    \"\"\" \n",
    "    Creates a course similarity matrix\n",
    "    \n",
    "    :param df DataFrame: courses dataframe. Must include title and description columns\n",
    "    :param sample_len: Maximum number of courses used to create the matrix. If `None`, all courses in DataFrame\n",
    "            will be used.\n",
    "    :return np.ndarray: An m x m matrix representing the course similarities, where m is the number of courses.\n",
    "        Example of a similarity matrix:\n",
    "        \n",
    "         [[0.99999994 0.         0.13075474 0.02665992]\n",
    "          [0.         1.         0.00812627 0.00331377]\n",
    "          [0.13075474 0.00812627 1.         0.0069054 ]\n",
    "          [0.02665992 0.00331377 0.0069054  1.        ]]\n",
    "          \n",
    "        rows and columns represents a course, the elements in the matrix, represent the similarity between them.\n",
    "    \"\"\"\n",
    "    if not sample_len:\n",
    "        course_content = df['title'].str.cat(df['description'], sep='. ').values\n",
    "    else:\n",
    "        course_content = df['title'].str.cat(df['description'], sep='. ').head(sample_len).values\n",
    "    \n",
    "    model = Pipeline([\n",
    "        ('norm', TextNormalizer()),\n",
    "        ('sim', Similarity())\n",
    "    ])\n",
    "    \n",
    "    return model.fit_transform(course_content)\n",
    "    \n",
    "    \n",
    "def create_similarity_df(df, min_similarity=0.5, sample_len=None):\n",
    "    \"\"\"\n",
    "    Creates a course similarity DataFrame from a similarity matrix\n",
    "    \n",
    "    :param df DataFrame: Courses dataframe. Must include title and description columns\n",
    "    :param min_similarity float: Minimum similarity to be included in DataFrame\n",
    "    :param sample_len int: Maximum number of courses that will be included in the matrix\n",
    "    \n",
    "    :return DataFrame: a dataframe with following columns:\n",
    "        a_course str: course id\n",
    "        another_course str: course id\n",
    "        similarity float: similarity between courses\n",
    "    \"\"\"\n",
    "    sim_list = []\n",
    "    sim_matrix = create_similarity_matrix(df, sample_len=sample_len)\n",
    "    \n",
    "    for idx, similarities in enumerate(sim_matrix):\n",
    "        a_course_id = df.iloc[idx]['id']\n",
    "        \n",
    "        for idx_sims, sim_score in enumerate(similarities):\n",
    "            if idx == idx_sims:\n",
    "                continue\n",
    "\n",
    "            if sim_score < min_similarity:\n",
    "                continue\n",
    "\n",
    "            another_course_id = df.iloc[idx_sims]['id']\n",
    "\n",
    "            sim_list.append({'a_course_id': a_course_id, \n",
    "                             'another_course_id': another_course_id, \n",
    "                             'similarity': sim_score})\n",
    "\n",
    "    return pd.DataFrame(sim_list)"
   ]
  },
  {
   "cell_type": "markdown",
   "metadata": {},
   "source": [
    "I will create a similarity matrix with a sample of 50 courses"
   ]
  },
  {
   "cell_type": "code",
   "execution_count": 18,
   "metadata": {},
   "outputs": [
    {
     "data": {
      "image/png": "[encoded data removed]",
      "text/plain": [
       "<Figure size 576x432 with 2 Axes>"
      ]
     },
     "metadata": {
      "needs_background": "light"
     },
     "output_type": "display_data"
    }
   ],
   "source": [
    "sims = create_similarity_matrix(courses_df, sample_len=50)\n",
    "\n",
    "fig, ax = plt.subplots(figsize=(8, 6))\n",
    "\n",
    "cax = ax.matshow(sims, interpolation='nearest')\n",
    "fig.colorbar(cax)\n",
    "ax.set_title('Courses similarity')\n",
    "\n",
    "plt.show();"
   ]
  },
  {
   "cell_type": "markdown",
   "metadata": {},
   "source": [
    "The similarity dataframe will look like this:"
   ]
  },
  {
   "cell_type": "code",
   "execution_count": 19,
   "metadata": {},
   "outputs": [
    {
     "data": {
      "text/html": [
       "<div>\n",
       "<style scoped>\n",
       "    .dataframe tbody tr th:only-of-type {\n",
       "        vertical-align: middle;\n",
       "    }\n",
       "\n",
       "    .dataframe tbody tr th {\n",
       "        vertical-align: top;\n",
       "    }\n",
       "\n",
       "    .dataframe thead th {\n",
       "        text-align: right;\n",
       "    }\n",
       "</style>\n",
       "<table border=\"1\" class=\"dataframe\">\n",
       "  <thead>\n",
       "    <tr style=\"text-align: right;\">\n",
       "      <th></th>\n",
       "      <th>a_course_id</th>\n",
       "      <th>another_course_id</th>\n",
       "      <th>similarity</th>\n",
       "    </tr>\n",
       "  </thead>\n",
       "  <tbody>\n",
       "    <tr>\n",
       "      <th>0</th>\n",
       "      <td>170037187</td>\n",
       "      <td>170037258</td>\n",
       "      <td>0.772166</td>\n",
       "    </tr>\n",
       "    <tr>\n",
       "      <th>1</th>\n",
       "      <td>170037258</td>\n",
       "      <td>170037187</td>\n",
       "      <td>0.772166</td>\n",
       "    </tr>\n",
       "  </tbody>\n",
       "</table>\n",
       "</div>"
      ],
      "text/plain": [
       "  a_course_id another_course_id  similarity\n",
       "0   170037187         170037258    0.772166\n",
       "1   170037258         170037187    0.772166"
      ]
     },
     "execution_count": 19,
     "metadata": {},
     "output_type": "execute_result"
    }
   ],
   "source": [
    "sims_df_s50 = create_similarity_df(courses_df, sample_len=50)\n",
    "sims_df_s50.head()"
   ]
  },
  {
   "cell_type": "markdown",
   "metadata": {},
   "source": [
    "### 3.1 Create courses content similarity DataFrame\n",
    "And now, I will create the similarities dataframe with the entire courses dataframe. <span style=\"color:red\">**This process took approximately 8 hours on a MacBook pro (2.3 GHz Intel Core i5, 16 GB RAM)**</span>"
   ]
  },
  {
   "cell_type": "code",
   "execution_count": 20,
   "metadata": {},
   "outputs": [],
   "source": [
    "sims_df = create_similarity_df(courses_df)"
   ]
  },
  {
   "cell_type": "code",
   "execution_count": 27,
   "metadata": {},
   "outputs": [
    {
     "data": {
      "text/html": [
       "<div>\n",
       "<style scoped>\n",
       "    .dataframe tbody tr th:only-of-type {\n",
       "        vertical-align: middle;\n",
       "    }\n",
       "\n",
       "    .dataframe tbody tr th {\n",
       "        vertical-align: top;\n",
       "    }\n",
       "\n",
       "    .dataframe thead th {\n",
       "        text-align: right;\n",
       "    }\n",
       "</style>\n",
       "<table border=\"1\" class=\"dataframe\">\n",
       "  <thead>\n",
       "    <tr style=\"text-align: right;\">\n",
       "      <th></th>\n",
       "      <th>a_course_id</th>\n",
       "      <th>another_course_id</th>\n",
       "      <th>similarity</th>\n",
       "    </tr>\n",
       "  </thead>\n",
       "  <tbody>\n",
       "    <tr>\n",
       "      <th>0</th>\n",
       "      <td>170565193</td>\n",
       "      <td>170566126</td>\n",
       "      <td>0.606849</td>\n",
       "    </tr>\n",
       "    <tr>\n",
       "      <th>1</th>\n",
       "      <td>170563091</td>\n",
       "      <td>170263714</td>\n",
       "      <td>0.724279</td>\n",
       "    </tr>\n",
       "    <tr>\n",
       "      <th>2</th>\n",
       "      <td>170563091</td>\n",
       "      <td>170203253</td>\n",
       "      <td>0.548920</td>\n",
       "    </tr>\n",
       "    <tr>\n",
       "      <th>3</th>\n",
       "      <td>170563091</td>\n",
       "      <td>170008122</td>\n",
       "      <td>0.644050</td>\n",
       "    </tr>\n",
       "    <tr>\n",
       "      <th>4</th>\n",
       "      <td>170563091</td>\n",
       "      <td>170563098</td>\n",
       "      <td>0.827058</td>\n",
       "    </tr>\n",
       "  </tbody>\n",
       "</table>\n",
       "</div>"
      ],
      "text/plain": [
       "   a_course_id  another_course_id  similarity\n",
       "0    170565193          170566126    0.606849\n",
       "1    170563091          170263714    0.724279\n",
       "2    170563091          170203253    0.548920\n",
       "3    170563091          170008122    0.644050\n",
       "4    170563091          170563098    0.827058"
      ]
     },
     "execution_count": 27,
     "metadata": {},
     "output_type": "execute_result"
    }
   ],
   "source": [
    "sims_df.head()"
   ]
  },
  {
   "cell_type": "code",
   "execution_count": 28,
   "metadata": {},
   "outputs": [
    {
     "name": "stdout",
     "output_type": "stream",
     "text": [
      "<class 'pandas.core.frame.DataFrame'>\n",
      "RangeIndex: 74110 entries, 0 to 74109\n",
      "Data columns (total 3 columns):\n",
      "a_course_id          74110 non-null int64\n",
      "another_course_id    74110 non-null int64\n",
      "similarity           74110 non-null float64\n",
      "dtypes: float64(1), int64(2)\n",
      "memory usage: 1.7 MB\n"
     ]
    }
   ],
   "source": [
    "sims_df.info()"
   ]
  },
  {
   "cell_type": "markdown",
   "metadata": {},
   "source": [
    "### 3.2 Save courses similarities into the database"
   ]
  },
  {
   "cell_type": "code",
   "execution_count": 29,
   "metadata": {},
   "outputs": [],
   "source": [
    "conn = connection()\n",
    "\n",
    "sql_drop = 'DROP TABLE IF EXISTS `courses_similarities`'\n",
    "conn.execute(sql_drop)\n",
    "\n",
    "sql_create = \"\"\"CREATE TABLE `courses_similarities` (\n",
    "  `a_course_id` varchar(9) NOT NULL,\n",
    "  `another_course_id` varchar(9) NOT NULL,\n",
    "  `similarity` double NOT NULL,\n",
    "  PRIMARY KEY (`a_course_id`, `another_course_id`)\n",
    ") ENGINE=InnoDB DEFAULT CHARSET=utf8\n",
    "\"\"\"\n",
    "conn.execute(sql_create)\n",
    "\n",
    "# Save course similarities to database\n",
    "sims_df.to_sql('courses_similarities', con=conn, if_exists='append', index=False)"
   ]
  },
  {
   "cell_type": "markdown",
   "metadata": {},
   "source": [
    "## 4 Create the user-item matrices\n",
    "Now, I will create the user item matrices. There will be a matrix relating users to ratings, and another that relates users to leads."
   ]
  },
  {
   "cell_type": "code",
   "execution_count": 5,
   "metadata": {},
   "outputs": [],
   "source": [
    "def create_ratings_user_item_matrix(df=reviews_df):\n",
    "    \"\"\"Creates a ratings user-item matrix DataFrame reviews\n",
    "\n",
    "    :return: A DataFrame representing the ratings user-item matrix\n",
    "    \"\"\"\n",
    "    user_items = df[['user_id', 'course_id', 'rating']]\n",
    "\n",
    "    return user_items.groupby(['user_id', 'course_id'])['rating'].max().unstack()\n",
    "\n",
    "def create_leads_user_item_matrix(df=leads_df):\n",
    "    \"\"\"Creates a leads user-item matrix DataFrame reviews\n",
    "\n",
    "    :return: A DataFrame representing the leads user-item matrix\n",
    "    \"\"\"\n",
    "    user_items = df[['user_id', 'course_id']]\n",
    "\n",
    "    user_item_matrix = user_items.groupby(['user_id', 'course_id'])['course_id'].max().unstack()\n",
    "    user_item_matrix = user_item_matrix.where(user_item_matrix.isnull(), other=1)\n",
    "    user_item_matrix = user_item_matrix.fillna(0)\n",
    "\n",
    "    return user_item_matrix"
   ]
  },
  {
   "cell_type": "code",
   "execution_count": 9,
   "metadata": {},
   "outputs": [],
   "source": [
    "ratings_user_item_matrix = create_ratings_user_item_matrix(reviews_df)\n",
    "leads_user_item_matrix = create_leads_user_item_matrix(leads_df)"
   ]
  },
  {
   "cell_type": "markdown",
   "metadata": {},
   "source": [
    "### 4.1 Save the matrices to csv files"
   ]
  },
  {
   "cell_type": "code",
   "execution_count": 10,
   "metadata": {},
   "outputs": [],
   "source": [
    "leads_user_item_matrix.to_csv('../data/leads_matrix.csv')\n",
    "ratings_user_item_matrix.to_csv('../data/ratings_matrix.csv')"
   ]
  },
  {
   "cell_type": "markdown",
   "metadata": {},
   "source": [
    "### 4.2 Checking the files size"
   ]
  },
  {
   "cell_type": "code",
   "execution_count": 12,
   "metadata": {},
   "outputs": [
    {
     "name": "stdout",
     "output_type": "stream",
     "text": [
      "Leads matrix size is 516.91 MB\n",
      "Ratings matrix size is 254.21 MB\n"
     ]
    }
   ],
   "source": [
    "leads_file_stats = os.stat('../data/leads_matrix.csv')\n",
    "ratings_file_stats = os.stat('../data/ratings_matrix.csv')\n",
    "\n",
    "print('Leads matrix size is {:.2f} MB'.format(leads_file_stats.st_size / (1024 * 1024)))\n",
    "print('Ratings matrix size is {:.2f} MB'.format(ratings_file_stats.st_size / (1024 * 1024)))"
   ]
  },
  {
   "cell_type": "markdown",
   "metadata": {},
   "source": [
    "The user-item matrices seems to be too heavy (about 500MB and 255MB) to be loaded  on every request of a web application or an API. To overcome this problem, I will create 'pre-baked' recommendation structures, that is, all recommendations for each user and course. The disadvantage of this strategy is that it will be necessary to execute the generation processes of these structures very frequently to keep the data updated."
   ]
  },
  {
   "cell_type": "markdown",
   "metadata": {},
   "source": [
    "**Create a course-course recommendation DataFrame**\n",
    "\n",
    "This type of recommendation uses the leads generated by users on courses. This will be useful for each course to have a section called \"Users who requested information about this course were also interested in...\".That section will be very helpful for new users without information request history.\n",
    "\n",
    "This DataFrame will have two columns: column `course` represents the courses that have generated a lead and column `recommended`, where we will have the courses in which the same user who generated a lead in the courses of column `course` also generated leads."
   ]
  },
  {
   "cell_type": "code",
   "execution_count": 140,
   "metadata": {},
   "outputs": [],
   "source": [
    "def course_course_recommendations(course_id, user_item_matrix, max_recs=10):\n",
    "    \"\"\"Returns an array of recommended courses based on leads generated in one course\n",
    "\n",
    "    :param course_id: Course id for which we want to make the recommendations\n",
    "    :param user_item_matrix: Leads user-item matrix\n",
    "    :param max_recs: Maximum number of recommendations\n",
    "    :return numpy.array: Array of courses recommended based on generated leads in one course\n",
    "    \"\"\"\n",
    "    users = np.array(user_item_matrix[user_item_matrix.loc[:, course_id] == 1].index)\n",
    "    recs = np.array([])\n",
    "\n",
    "    for user_id in users:\n",
    "        user_courses = requested_courses(user_id, leads_df)\n",
    "\n",
    "        new_recs = user_courses[user_courses != course_id]\n",
    "        recs = np.unique(np.concatenate([new_recs, recs], axis=0))\n",
    "\n",
    "        if len(recs) > max_recs:\n",
    "            break\n",
    "\n",
    "    return recs[:max_recs]"
   ]
  },
  {
   "cell_type": "code",
   "execution_count": 17,
   "metadata": {},
   "outputs": [],
   "source": [
    "recommendations = []\n",
    "for course in leads_user_item_matrix.columns:\n",
    "    recs = course_course_recommendations(course, leads_user_item_matrix)\n",
    "    for rec in recs:\n",
    "        recommendations.append({'course': course, 'recommended': rec})\n",
    "\n",
    "course_course_recs_df = pd.DataFrame(recommendations)"
   ]
  },
  {
   "cell_type": "code",
   "execution_count": 18,
   "metadata": {},
   "outputs": [
    {
     "name": "stdout",
     "output_type": "stream",
     "text": [
      "<class 'pandas.core.frame.DataFrame'>\n",
      "RangeIndex: 29469 entries, 0 to 29468\n",
      "Data columns (total 2 columns):\n",
      "course         29469 non-null object\n",
      "recommended    29469 non-null object\n",
      "dtypes: object(2)\n",
      "memory usage: 460.5+ KB\n"
     ]
    }
   ],
   "source": [
    "course_course_recs_df.info()"
   ]
  },
  {
   "cell_type": "markdown",
   "metadata": {},
   "source": [
    "**Save recommendations to database**"
   ]
  },
  {
   "cell_type": "code",
   "execution_count": 19,
   "metadata": {},
   "outputs": [],
   "source": [
    "conn = connection()\n",
    "\n",
    "sql_drop = 'DROP TABLE IF EXISTS `recommended_courses_by_leads`'\n",
    "conn.execute(sql_drop)\n",
    "\n",
    "sql_create = \"\"\"CREATE TABLE `recommended_courses_by_leads` (\n",
    "  `course` varchar(9) NOT NULL,\n",
    "  `recommended` varchar(9) NOT NULL,\n",
    "  PRIMARY KEY (`course`, `recommended`)\n",
    ") ENGINE=InnoDB DEFAULT CHARSET=utf8\n",
    "\"\"\"\n",
    "conn.execute(sql_create)\n",
    "\n",
    "# Save recommendations to database\n",
    "course_course_recs_df.to_sql('recommended_courses_by_leads', con=conn, if_exists='append', index=False)"
   ]
  },
  {
   "cell_type": "markdown",
   "metadata": {},
   "source": [
    "## 5 Neighborhood based collaborative filtering using leads data\n",
    "### 5.1 The matrix sparsity problem\n",
    "If we want to recommend courses to a user based on leads generated by other users, the problem gets worse. We have a matrix with 26186 users and 10331 courses, so we have more than 270 million cells, most of which with zero value (only 37085 filled with non-zero values)."
   ]
  },
  {
   "cell_type": "code",
   "execution_count": 20,
   "metadata": {},
   "outputs": [
    {
     "data": {
      "text/plain": [
       "(26186, 10331)"
      ]
     },
     "execution_count": 20,
     "metadata": {},
     "output_type": "execute_result"
    }
   ],
   "source": [
    "leads_user_item_matrix.shape"
   ]
  },
  {
   "cell_type": "code",
   "execution_count": 21,
   "metadata": {
    "scrolled": true
   },
   "outputs": [
    {
     "data": {
      "text/plain": [
       "270527566"
      ]
     },
     "execution_count": 21,
     "metadata": {},
     "output_type": "execute_result"
    }
   ],
   "source": [
    "leads_user_item_matrix.shape[0] * leads_user_item_matrix.shape[1]"
   ]
  },
  {
   "cell_type": "code",
   "execution_count": 22,
   "metadata": {},
   "outputs": [
    {
     "data": {
      "text/plain": [
       "37085"
      ]
     },
     "execution_count": 22,
     "metadata": {},
     "output_type": "execute_result"
    }
   ],
   "source": [
    "# Count non-zero values\n",
    "(leads_user_item_matrix != 0).sum().sum()"
   ]
  },
  {
   "cell_type": "markdown",
   "metadata": {},
   "source": [
    "This causes two problems:\n",
    "\n",
    "As I said before, we would need around 500MB memory to store the matrix. The second problem is that we need to perform operations on this matrix and the execution time of these operations would be very long.\n",
    "\n",
    "Since the bulk of the computation performed will involve adding or multiplying zero values together, we could perform the calculations only when there is a connection between the user and the course, that is when the cell value is 1.\n",
    "\n",
    "The solution to representing and working with sparse matrices is to use an alternate data structure to represent the sparse data.\n",
    "\n",
    "SciPy provides an [implementation](https://docs.scipy.org/doc/scipy/reference/generated/scipy.sparse.csr_matrix.html) for creating sparse matrix from multiple structures.\n",
    "\n",
    "I will create a sparse matrix from the `leads_user_item_matrix`:"
   ]
  },
  {
   "cell_type": "code",
   "execution_count": 23,
   "metadata": {},
   "outputs": [
    {
     "data": {
      "text/plain": [
       "<26186x10331 sparse matrix of type '<class 'numpy.int8'>'\n",
       "\twith 37085 stored elements in Compressed Sparse Row format>"
      ]
     },
     "execution_count": 23,
     "metadata": {},
     "output_type": "execute_result"
    }
   ],
   "source": [
    "sp_user_item_matrix = csr_matrix(leads_user_item_matrix.values, dtype='int8')\n",
    "sp_user_item_matrix"
   ]
  },
  {
   "cell_type": "code",
   "execution_count": 24,
   "metadata": {
    "scrolled": true
   },
   "outputs": [
    {
     "name": "stdout",
     "output_type": "stream",
     "text": [
      "  (0, 6556)\t1\n",
      "  (0, 6864)\t1\n",
      "  (0, 8165)\t1\n",
      "  (0, 9224)\t1\n",
      "  (1, 5944)\t1\n",
      "  (2, 8081)\t1\n",
      "  (3, 10232)\t1\n",
      "  (4, 10059)\t1\n",
      "  (5, 8159)\t1\n",
      "  (6, 293)\t1\n",
      "  (7, 6887)\t1\n",
      "  (8, 8843)\t1\n",
      "  (9, 9486)\t1\n",
      "  (10, 9855)\t1\n",
      "  (11, 5926)\t1\n",
      "  (12, 10232)\t1\n",
      "  (13, 10041)\t1\n",
      "  (14, 9094)\t1\n",
      "  (15, 4456)\t1\n",
      "  (16, 10041)\t1\n",
      "  (17, 10244)\t1\n",
      "  (18, 9181)\t1\n",
      "  (19, 1708)\t1\n",
      "  (19, 3784)\t1\n",
      "  (19, 3793)\t1\n",
      "  :\t:\n",
      "  (26163, 9055)\t1\n",
      "  (26164, 6535)\t1\n",
      "  (26165, 2569)\t1\n",
      "  (26166, 3669)\t1\n",
      "  (26167, 9058)\t1\n",
      "  (26168, 6090)\t1\n",
      "  (26169, 91)\t1\n",
      "  (26170, 9181)\t1\n",
      "  (26171, 3068)\t1\n",
      "  (26172, 10283)\t1\n",
      "  (26173, 7578)\t1\n",
      "  (26174, 10244)\t1\n",
      "  (26175, 10035)\t1\n",
      "  (26176, 1629)\t1\n",
      "  (26177, 2175)\t1\n",
      "  (26178, 1730)\t1\n",
      "  (26179, 9181)\t1\n",
      "  (26180, 3103)\t1\n",
      "  (26180, 9896)\t1\n",
      "  (26181, 7339)\t1\n",
      "  (26182, 9655)\t1\n",
      "  (26183, 6611)\t1\n",
      "  (26184, 10198)\t1\n",
      "  (26185, 365)\t1\n",
      "  (26185, 3825)\t1\n"
     ]
    }
   ],
   "source": [
    "print(sp_user_item_matrix)"
   ]
  },
  {
   "cell_type": "markdown",
   "metadata": {},
   "source": [
    "We see how the csr_matrix looks, the first element of tuple is the row index (users) and the second one is the column (courses) the value represents the relation between users and courses, in this case all values are 1.\n",
    "\n",
    "The next step is to create a user-courses map, a dictionary whose keys are user ids and values ​​the matrix corresponding to that user."
   ]
  },
  {
   "cell_type": "code",
   "execution_count": 25,
   "metadata": {},
   "outputs": [],
   "source": [
    "user_leads_courses_map = {}\n",
    "for i in range(0, sp_user_item_matrix.shape[0]):\n",
    "    user_leads_courses_map[leads_user_item_matrix.index[i]] = sp_user_item_matrix[i]"
   ]
  },
  {
   "cell_type": "code",
   "execution_count": 26,
   "metadata": {},
   "outputs": [],
   "source": [
    "with open('../data/user_courses_map.pickle', 'wb') as filename:\n",
    "    pickle.dump(user_leads_courses_map, filename)\n"
   ]
  },
  {
   "cell_type": "code",
   "execution_count": 27,
   "metadata": {},
   "outputs": [
    {
     "name": "stdout",
     "output_type": "stream",
     "text": [
      "Leads matrix size is 6.38 MB\n"
     ]
    }
   ],
   "source": [
    "file = os.stat('../data/user_courses_map.pickle')\n",
    "\n",
    "print('Leads matrix size is {:.2f} MB'.format(file.st_size / (1024 * 1024)))"
   ]
  },
  {
   "cell_type": "markdown",
   "metadata": {},
   "source": [
    "6.38 MB vs. 516.91 MB, the improvement is amazing."
   ]
  },
  {
   "cell_type": "markdown",
   "metadata": {},
   "source": [
    "## 6 Neighborhood based collaborative filtering using ratings"
   ]
  },
  {
   "cell_type": "markdown",
   "metadata": {},
   "source": [
    "### 6.1 Measuring distances between users\n",
    "\n",
    "To get the nearest neighbours of each user, I need to calculate the distance between each user and every other user. To get this measure, I will use the Euclidean Distance."
   ]
  },
  {
   "cell_type": "code",
   "execution_count": 143,
   "metadata": {},
   "outputs": [],
   "source": [
    "def rated_courses(user_id, lower_bound=2):\n",
    "    \"\"\"Returns an array of course ids rated by a user\n",
    "    \n",
    "    :param user_id: User identifier\n",
    "    :param lower_bound: Minimum number of rated courses a user must have\n",
    "    :return: Array of courses rated by a user\n",
    "    \"\"\"\n",
    "    courses = reviews_df[reviews_df['user_id'] == user_id]['course_id'].values\n",
    "    \n",
    "    if len(courses) >= lower_bound:\n",
    "        return courses\n",
    "    \n",
    "    return np.array([])\n",
    "\n",
    "def courses_liked(user_id, min_rating=7):\n",
    "    \"\"\"Returns an array of courses rated by a user with a rating higher than `min_rating`\n",
    "    \n",
    "    :param user_id str: User id for which we want to find courses rated\n",
    "    :return array: Array of course ids rated by a user\n",
    "    \"\"\"\n",
    "    return reviews_df[(reviews_df['user_id'] == user_id) & (reviews_df['rating'] >= min_rating)]['course_id'].values"
   ]
  },
  {
   "cell_type": "code",
   "execution_count": 113,
   "metadata": {},
   "outputs": [],
   "source": [
    "def compute_euclidean_distance(a_user_id, another_user_id, ratings_user_item_matrix):\n",
    "    \"\"\"Computes the euclidean distance between users taking into account the rated courses\n",
    "    \n",
    "    :param a_user_id str: Id of a user\n",
    "    :param another_user_id str: Id of another user\n",
    "    :param user_item_matrix DataFrame: The reviews user-item matrix\n",
    "    :return float: The eculidean distance between the users\n",
    "    \"\"\"\n",
    "    a_user_courses = rated_courses(a_user_id)\n",
    "    another_user_courses = rated_courses(another_user_id)\n",
    "    \n",
    "    similar_courses = np.intersect1d(a_user_courses,\n",
    "                                     another_user_courses, \n",
    "                                     assume_unique=True)\n",
    "    \n",
    "    # there's no courses in common\n",
    "    if len(similar_courses) == 0:\n",
    "        return np.nan\n",
    "    \n",
    "    df = ratings_user_item_matrix.loc[(a_user_id, another_user_id), similar_courses]\n",
    "    \n",
    "    return np.linalg.norm(df.loc[a_user_id] - df.loc[another_user_id])\n"
   ]
  },
  {
   "cell_type": "markdown",
   "metadata": {},
   "source": [
    "**Create a user distances DataFrame**\n",
    "\n",
    "<span style=\"color:red\">**This process consumes a lot of time and resources**</span>"
   ]
  },
  {
   "cell_type": "code",
   "execution_count": 114,
   "metadata": {},
   "outputs": [],
   "source": [
    "distances = []\n",
    "\n",
    "for user_id in ratings_user_item_matrix.index:\n",
    "    for another_user_id in ratings_user_item_matrix.index:\n",
    "        if user_id == another_user_id:\n",
    "            continue\n",
    "            \n",
    "        try: \n",
    "            distance = compute_euclidean_distance(user_id,\n",
    "                                                  another_user_id,\n",
    "                                                  ratings_user_item_matrix)\n",
    "        except KeyError:\n",
    "            continue\n",
    "\n",
    "        if np.isnan(distance):\n",
    "            continue\n",
    "\n",
    "        distances.append({'a_user_id': user_id, 'another_user_id': another_user_id, 'eucl_distance': distance})\n",
    "        \n",
    "eucl_distances_df = pd.DataFrame(distances)"
   ]
  },
  {
   "cell_type": "markdown",
   "metadata": {},
   "source": [
    "After hours of data processing, I only obtained about 100 distance measurements between users from 11 unique users, why?\n",
    "\n",
    "In the previous section, we could see that only 6% of users rates more than one course. Distance between users calculation is very expensive (to calculate them all, almost 700 million operations are necessary). Therefore, since we cannot recommend courses to 94% of users, I have decided **not to use this type of recommendation system**."
   ]
  },
  {
   "cell_type": "markdown",
   "metadata": {},
   "source": [
    "## 6 Model based collaborative filtering\n",
    "In this part I will use the leads user-item matrix. Since there are no nan values in that matrix, I can use Singular Value Decomposition from numpy on the matrix.\n",
    "\n",
    "### 6.1 Perform SVD\n",
    "\n",
    "**Get the leads user-item matrix**"
   ]
  },
  {
   "cell_type": "code",
   "execution_count": 52,
   "metadata": {},
   "outputs": [],
   "source": [
    "leads_user_item_matrix = pd.read_csv('../data/leads_matrix.csv').set_index('user_id')"
   ]
  },
  {
   "cell_type": "code",
   "execution_count": 57,
   "metadata": {},
   "outputs": [
    {
     "data": {
      "text/plain": [
       "((10331,), (26186, 26186), (10331, 10331))"
      ]
     },
     "execution_count": 57,
     "metadata": {},
     "output_type": "execute_result"
    }
   ],
   "source": [
    "u, s, vt = np.linalg.svd(leads_user_item_matrix)\n",
    "s.shape, u.shape, vt.shape"
   ]
  },
  {
   "cell_type": "markdown",
   "metadata": {},
   "source": [
    "### 6.2 Choose the appropriate number of latent features"
   ]
  },
  {
   "cell_type": "markdown",
   "metadata": {},
   "source": [
    "I will start by testing how it would work with an increasingly high number of latent features."
   ]
  },
  {
   "cell_type": "code",
   "execution_count": 58,
   "metadata": {},
   "outputs": [],
   "source": [
    "num_latent_feats = np.arange(10,1500,20)\n",
    "sum_errs = []\n",
    "\n",
    "for k in num_latent_feats:\n",
    "    # restructure with k latent features\n",
    "    s_new, u_new, vt_new = np.diag(s[:k]), u[:, :k], vt[:k, :]\n",
    "    \n",
    "    # take dot product\n",
    "    user_item_est = np.around(np.dot(np.dot(u_new, s_new), vt_new))\n",
    "    \n",
    "    # compute error for each prediction to actual value\n",
    "    diffs = np.subtract(leads_user_item_matrix, user_item_est)\n",
    "    \n",
    "    # total errors and keep track of them\n",
    "    err = np.sum(np.sum(np.abs(diffs)))\n",
    "    sum_errs.append(err)\n",
    "    "
   ]
  },
  {
   "cell_type": "markdown",
   "metadata": {},
   "source": [
    "In the following plot we will see how the accuracy improves as we increase the number of lantent features."
   ]
  },
  {
   "cell_type": "code",
   "execution_count": 59,
   "metadata": {},
   "outputs": [
    {
     "data": {
      "image/png": "[encoded data removed]",
      "text/plain": [
       "<Figure size 432x288 with 1 Axes>"
      ]
     },
     "metadata": {
      "needs_background": "light"
     },
     "output_type": "display_data"
    }
   ],
   "source": [
    "plt.plot(num_latent_feats, 1 - np.array(sum_errs)/leads_df.shape[0]);\n",
    "plt.xlabel('Number of Latent Features');\n",
    "plt.ylabel('Accuracy');\n",
    "plt.title('Accuracy vs. Number of Latent Features');"
   ]
  },
  {
   "cell_type": "markdown",
   "metadata": {},
   "source": [
    "To be sure how many features to use, "
   ]
  },
  {
   "cell_type": "code",
   "execution_count": 64,
   "metadata": {},
   "outputs": [],
   "source": [
    "def create_user_item_matrix(df=leads_df):\n",
    "    \"\"\"Creates a leads user-item matrix DataFrame reviews\n",
    "\n",
    "    :return: A DataFrame representing the leads user-item matrix\n",
    "    \"\"\"\n",
    "    user_items = df[['user_id', 'course_id']]\n",
    "\n",
    "    user_item_matrix = user_items.groupby(['user_id', 'course_id'])['course_id'].max().unstack()\n",
    "    user_item_matrix = user_item_matrix.where(user_item_matrix.isnull(), other=1)\n",
    "    user_item_matrix = user_item_matrix.fillna(0)\n",
    "\n",
    "    return user_item_matrix\n",
    "\n",
    "def train_test_split(df, train_size=.8, test_size=.2):\n",
    "    df_size = df.shape[0]\n",
    "    \n",
    "    train_size = int(np.floor(df_size * train_size))\n",
    "    test_size = int(np.floor(df_size * test_size))\n",
    "    \n",
    "    train_set = df.head(train_size)\n",
    "    test_set = df.tail(test_size)\n",
    "    \n",
    "    train_user_item = create_user_item_matrix(train_set)\n",
    "    test_user_item = create_user_item_matrix(test_set)\n",
    "    \n",
    "    \n",
    "    return train_user_item, test_user_item"
   ]
  },
  {
   "cell_type": "code",
   "execution_count": 65,
   "metadata": {},
   "outputs": [],
   "source": [
    "train_user_item, test_user_item = train_test_split(leads_df)"
   ]
  },
  {
   "cell_type": "code",
   "execution_count": 66,
   "metadata": {},
   "outputs": [
    {
     "name": "stdout",
     "output_type": "stream",
     "text": [
      "Users we can make predictions for: 131\n",
      "Users we cannot make predictions for: 5360\n",
      "Courses we can make predictions for: 2234\n",
      "Courses we cannot make predictions for: 1410\n",
      "\n"
     ]
    }
   ],
   "source": [
    "train_idx = train_user_item.index.values\n",
    "train_courses = train_user_item.columns.values\n",
    "test_idx = test_user_item.index.values\n",
    "test_courses = test_user_item.columns.values\n",
    "\n",
    "n_users_preds = len(np.intersect1d(test_idx, train_idx))\n",
    "cold_start_users = len(test_idx) - n_users_preds\n",
    "\n",
    "n_courses_preds = len(np.intersect1d(test_courses, train_courses))\n",
    "cold_start_courses = len(test_courses) - n_courses_preds\n",
    "\n",
    "print('Users we can make predictions for: {}\\n' \\\n",
    "      'Users we cannot make predictions for: {}\\n' \\\n",
    "      'Courses we can make predictions for: {}\\n' \\\n",
    "      'Courses we cannot make predictions for: {}\\n'.format(n_users_preds, cold_start_users, n_courses_preds, cold_start_courses))"
   ]
  },
  {
   "cell_type": "code",
   "execution_count": 71,
   "metadata": {},
   "outputs": [],
   "source": [
    "def predictions(u, s, vt, k):\n",
    "    '''\n",
    "    INPUT:\n",
    "    u - user feature matrix\n",
    "    s - test dataframe\n",
    "    vt - item feature matrix\n",
    "    k - number of latent features to keep\n",
    "    \n",
    "    OUTPUT:\n",
    "    user_item_matrix - a predictions user-item matrix\n",
    "    \n",
    "    '''\n",
    "    \n",
    "    s_new = np.diag(s[:k])\n",
    "    u_new = u[:, :k]\n",
    "    vt_new = vt[:k, :]\n",
    "    \n",
    "    user_item_matrix = np.around(np.dot(np.dot(u_new, s_new), vt_new))\n",
    "    \n",
    "    return user_item_matrix"
   ]
  },
  {
   "cell_type": "code",
   "execution_count": 67,
   "metadata": {},
   "outputs": [
    {
     "data": {
      "text/plain": [
       "((20821, 20821), (8920,), (8920, 8920))"
      ]
     },
     "execution_count": 67,
     "metadata": {},
     "output_type": "execute_result"
    }
   ],
   "source": [
    "u_train, s_train, vt_train = np.linalg.svd(train_user_item)\n",
    "u_train.shape, s_train.shape, vt_train.shape"
   ]
  },
  {
   "cell_type": "code",
   "execution_count": 68,
   "metadata": {},
   "outputs": [
    {
     "data": {
      "text/plain": [
       "((131, 20821), (8920, 2234))"
      ]
     },
     "execution_count": 68,
     "metadata": {},
     "output_type": "execute_result"
    }
   ],
   "source": [
    "common_user_ids = train_user_item.index.isin(test_idx)\n",
    "common_courses_ids = train_user_item.columns.isin(test_courses)\n",
    "\n",
    "u_test = u_train[common_user_ids, :]\n",
    "vt_test = vt_train[:, common_courses_ids]\n",
    "\n",
    "u_test.shape, vt_test.shape"
   ]
  },
  {
   "cell_type": "code",
   "execution_count": 69,
   "metadata": {},
   "outputs": [],
   "source": [
    "test_user_item = test_user_item.loc[np.intersect1d(test_idx, train_idx), np.intersect1d(test_courses, train_courses)]"
   ]
  },
  {
   "cell_type": "code",
   "execution_count": 72,
   "metadata": {},
   "outputs": [],
   "source": [
    "num_latent_feats = np.arange(5,800,10)\n",
    "sum_errs_train = []\n",
    "sum_errs_test = []\n",
    "\n",
    "for k in num_latent_feats:\n",
    "    # restructure with k latent features\n",
    "    user_train_preds = predictions(u_train, s_train, vt_train, k)\n",
    "    user_test_preds = predictions(u_test, s_train, vt_test, k)\n",
    "    \n",
    "    # compute error for each prediction to actual value\n",
    "    diffs_train = np.subtract(train_user_item, user_train_preds)\n",
    "    diffs_test = np.subtract(test_user_item, user_test_preds)\n",
    "    \n",
    "    # total errors and keep track of them\n",
    "    err_train = np.sum(np.sum(np.abs(diffs_train)))\n",
    "    err_test = np.sum(np.sum(np.abs(diffs_test)))\n",
    "    \n",
    "    sum_errs_train.append(err_train)\n",
    "    sum_errs_test.append(err_test)"
   ]
  },
  {
   "cell_type": "code",
   "execution_count": 73,
   "metadata": {},
   "outputs": [
    {
     "data": {
      "image/png": "[encoded data removed]",
      "text/plain": [
       "<Figure size 432x288 with 1 Axes>"
      ]
     },
     "metadata": {
      "needs_background": "light"
     },
     "output_type": "display_data"
    }
   ],
   "source": [
    "plt.plot(num_latent_feats, 1 - (np.array(sum_errs_train)/(train_user_item.shape[0]*train_user_item.shape[1])), label='Train set');\n",
    "plt.plot(num_latent_feats, 1 - (np.array(sum_errs_test)/(test_user_item.shape[0]*test_user_item.shape[1])), label='Test set');\n",
    "\n",
    "plt.legend(loc='best')\n",
    "plt.xlabel('Number of Latent Features');\n",
    "plt.ylabel('Accuracy');\n",
    "plt.title('Accuracy vs. Number of Latent Features');\n",
    "plt.show();"
   ]
  },
  {
   "cell_type": "markdown",
   "metadata": {},
   "source": [
    "We see how accuracy decreases when the number of features increases. This must be due to the low number of users that are in both the test set and training set. With this model, we can only make recommendations to 131 users. Therefore, **I won't use the model based collaborative filtering**."
   ]
  },
  {
   "cell_type": "markdown",
   "metadata": {},
   "source": [
    "## 7 Conclusions"
   ]
  },
  {
   "cell_type": "code",
   "execution_count": null,
   "metadata": {},
   "outputs": [],
   "source": []
  }
 ],
 "metadata": {
  "kernelspec": {
   "display_name": "Python 3",
   "language": "python",
   "name": "python3"
  },
  "language_info": {
   "codemirror_mode": {
    "name": "ipython",
    "version": 3
   },
   "file_extension": ".py",
   "mimetype": "text/x-python",
   "name": "python",
   "nbconvert_exporter": "python",
   "pygments_lexer": "ipython3",
   "version": "3.7.3"
  },
  "latex_envs": {
   "LaTeX_envs_menu_present": true,
   "autoclose": false,
   "autocomplete": true,
   "bibliofile": "biblio.bib",
   "cite_by": "apalike",
   "current_citInitial": 1,
   "eqLabelWithNumbers": true,
   "eqNumInitial": 1,
   "hotkeys": {
    "equation": "Ctrl-E",
    "itemize": "Ctrl-I"
   },
   "labels_anchors": false,
   "latex_user_defs": false,
   "report_style_numbering": false,
   "user_envs_cfg": false
  },
  "pycharm": {
   "stem_cell": {
    "cell_type": "raw",
    "metadata": {
     "collapsed": false
    },
    "source": []
   }
  }
 },
 "nbformat": 4,
 "nbformat_minor": 2
}
